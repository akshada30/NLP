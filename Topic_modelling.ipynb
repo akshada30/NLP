{
  "metadata": {
    "kernelspec": {
      "display_name": "Python 3",
      "language": "python",
      "name": "python3"
    },
    "language_info": {
      "name": "python",
      "version": "3.7.12",
      "mimetype": "text/x-python",
      "codemirror_mode": {
        "name": "ipython",
        "version": 3
      },
      "pygments_lexer": "ipython3",
      "nbconvert_exporter": "python",
      "file_extension": ".py"
    },
    "colab": {
      "provenance": []
    }
  },
  "nbformat_minor": 0,
  "nbformat": 4,
  "cells": [
    {
      "cell_type": "markdown",
      "source": [
        "# Topic Modeling"
      ],
      "metadata": {
        "id": "UT5XPfcwC7F7"
      }
    },
    {
      "cell_type": "code",
      "source": [
        "import os\n",
        "os.environ['KAGGLE_CONFIG_DIR'] = '/content'\n",
        "!kaggle datasets download -d snap/amazon-fine-food-reviews"
      ],
      "metadata": {
        "colab": {
          "base_uri": "https://localhost:8080/"
        },
        "id": "t6GI8Jo6DM_l",
        "outputId": "71f364c0-2859-42c5-c4b2-57f62a8a0114"
      },
      "execution_count": 5,
      "outputs": [
        {
          "output_type": "stream",
          "name": "stdout",
          "text": [
            "Warning: Your Kaggle API key is readable by other users on this system! To fix this, you can run 'chmod 600 /content/kaggle.json'\n",
            "Downloading amazon-fine-food-reviews.zip to /content\n",
            " 97% 235M/242M [00:01<00:00, 118MB/s]\n",
            "100% 242M/242M [00:01<00:00, 160MB/s]\n"
          ]
        }
      ]
    },
    {
      "cell_type": "code",
      "source": [
        "!unzip amazon-fine-food-reviews.zip"
      ],
      "metadata": {
        "colab": {
          "base_uri": "https://localhost:8080/"
        },
        "id": "xqhgDgBbEPcF",
        "outputId": "bb246a0e-d2e6-4cbe-c22b-9e98cc482777"
      },
      "execution_count": 6,
      "outputs": [
        {
          "output_type": "stream",
          "name": "stdout",
          "text": [
            "Archive:  amazon-fine-food-reviews.zip\n",
            "  inflating: Reviews.csv             \n",
            "  inflating: database.sqlite         \n",
            "  inflating: hashes.txt              \n"
          ]
        }
      ]
    },
    {
      "cell_type": "code",
      "source": [
        "import pandas as pd\n",
        "import numpy as np\n",
        "import nltk\n",
        "nltk.download()\n",
        "import gensim\n",
        "from gensim.utils import simple_preprocess\n",
        "from gensim.parsing.preprocessing import STOPWORDS\n",
        "from nltk.stem import WordNetLemmatizer, SnowballStemmer\n",
        "from nltk.stem.porter import *\n",
        "from gensim import corpora, models\n",
        "from gensim.models import CoherenceModel"
      ],
      "metadata": {
        "execution": {
          "iopub.status.busy": "2022-10-08T09:48:08.882775Z",
          "iopub.execute_input": "2022-10-08T09:48:08.883597Z",
          "iopub.status.idle": "2022-10-08T09:48:10.383145Z",
          "shell.execute_reply.started": "2022-10-08T09:48:08.883487Z",
          "shell.execute_reply": "2022-10-08T09:48:10.381801Z"
        },
        "trusted": true,
        "id": "PygD4i7TC7F_"
      },
      "execution_count": null,
      "outputs": []
    },
    {
      "cell_type": "code",
      "source": [
        "#!pip install pyLDAvis\n",
        "import pyLDAvis.gensim_models"
      ],
      "metadata": {
        "id": "FRLkB8IaH4Jn"
      },
      "execution_count": 12,
      "outputs": []
    },
    {
      "cell_type": "code",
      "source": [
        "data = pd.read_csv('Reviews.csv')"
      ],
      "metadata": {
        "execution": {
          "iopub.status.busy": "2022-10-08T09:48:10.385215Z",
          "iopub.execute_input": "2022-10-08T09:48:10.385618Z",
          "iopub.status.idle": "2022-10-08T09:48:18.192969Z",
          "shell.execute_reply.started": "2022-10-08T09:48:10.385569Z",
          "shell.execute_reply": "2022-10-08T09:48:18.191682Z"
        },
        "trusted": true,
        "id": "9cXOu2z3C7GB"
      },
      "execution_count": 13,
      "outputs": []
    },
    {
      "cell_type": "code",
      "source": [
        "data.head()"
      ],
      "metadata": {
        "execution": {
          "iopub.status.busy": "2022-10-08T09:48:18.194669Z",
          "iopub.execute_input": "2022-10-08T09:48:18.195067Z",
          "iopub.status.idle": "2022-10-08T09:48:18.221933Z",
          "shell.execute_reply.started": "2022-10-08T09:48:18.195032Z",
          "shell.execute_reply": "2022-10-08T09:48:18.220855Z"
        },
        "trusted": true,
        "colab": {
          "base_uri": "https://localhost:8080/",
          "height": 337
        },
        "id": "g2wBuUerC7GB",
        "outputId": "7ecb4001-f1f5-4556-8adb-5b87470e9113"
      },
      "execution_count": 14,
      "outputs": [
        {
          "output_type": "execute_result",
          "data": {
            "text/plain": [
              "   Id   ProductId          UserId                      ProfileName  \\\n",
              "0   1  B001E4KFG0  A3SGXH7AUHU8GW                       delmartian   \n",
              "1   2  B00813GRG4  A1D87F6ZCVE5NK                           dll pa   \n",
              "2   3  B000LQOCH0   ABXLMWJIXXAIN  Natalia Corres \"Natalia Corres\"   \n",
              "3   4  B000UA0QIQ  A395BORC6FGVXV                             Karl   \n",
              "4   5  B006K2ZZ7K  A1UQRSCLF8GW1T    Michael D. Bigham \"M. Wassir\"   \n",
              "\n",
              "   HelpfulnessNumerator  HelpfulnessDenominator  Score        Time  \\\n",
              "0                     1                       1      5  1303862400   \n",
              "1                     0                       0      1  1346976000   \n",
              "2                     1                       1      4  1219017600   \n",
              "3                     3                       3      2  1307923200   \n",
              "4                     0                       0      5  1350777600   \n",
              "\n",
              "                 Summary                                               Text  \n",
              "0  Good Quality Dog Food  I have bought several of the Vitality canned d...  \n",
              "1      Not as Advertised  Product arrived labeled as Jumbo Salted Peanut...  \n",
              "2  \"Delight\" says it all  This is a confection that has been around a fe...  \n",
              "3         Cough Medicine  If you are looking for the secret ingredient i...  \n",
              "4            Great taffy  Great taffy at a great price.  There was a wid...  "
            ],
            "text/html": [
              "\n",
              "  <div id=\"df-f4581493-4b76-48be-9c0a-5416fe3fd2b6\">\n",
              "    <div class=\"colab-df-container\">\n",
              "      <div>\n",
              "<style scoped>\n",
              "    .dataframe tbody tr th:only-of-type {\n",
              "        vertical-align: middle;\n",
              "    }\n",
              "\n",
              "    .dataframe tbody tr th {\n",
              "        vertical-align: top;\n",
              "    }\n",
              "\n",
              "    .dataframe thead th {\n",
              "        text-align: right;\n",
              "    }\n",
              "</style>\n",
              "<table border=\"1\" class=\"dataframe\">\n",
              "  <thead>\n",
              "    <tr style=\"text-align: right;\">\n",
              "      <th></th>\n",
              "      <th>Id</th>\n",
              "      <th>ProductId</th>\n",
              "      <th>UserId</th>\n",
              "      <th>ProfileName</th>\n",
              "      <th>HelpfulnessNumerator</th>\n",
              "      <th>HelpfulnessDenominator</th>\n",
              "      <th>Score</th>\n",
              "      <th>Time</th>\n",
              "      <th>Summary</th>\n",
              "      <th>Text</th>\n",
              "    </tr>\n",
              "  </thead>\n",
              "  <tbody>\n",
              "    <tr>\n",
              "      <th>0</th>\n",
              "      <td>1</td>\n",
              "      <td>B001E4KFG0</td>\n",
              "      <td>A3SGXH7AUHU8GW</td>\n",
              "      <td>delmartian</td>\n",
              "      <td>1</td>\n",
              "      <td>1</td>\n",
              "      <td>5</td>\n",
              "      <td>1303862400</td>\n",
              "      <td>Good Quality Dog Food</td>\n",
              "      <td>I have bought several of the Vitality canned d...</td>\n",
              "    </tr>\n",
              "    <tr>\n",
              "      <th>1</th>\n",
              "      <td>2</td>\n",
              "      <td>B00813GRG4</td>\n",
              "      <td>A1D87F6ZCVE5NK</td>\n",
              "      <td>dll pa</td>\n",
              "      <td>0</td>\n",
              "      <td>0</td>\n",
              "      <td>1</td>\n",
              "      <td>1346976000</td>\n",
              "      <td>Not as Advertised</td>\n",
              "      <td>Product arrived labeled as Jumbo Salted Peanut...</td>\n",
              "    </tr>\n",
              "    <tr>\n",
              "      <th>2</th>\n",
              "      <td>3</td>\n",
              "      <td>B000LQOCH0</td>\n",
              "      <td>ABXLMWJIXXAIN</td>\n",
              "      <td>Natalia Corres \"Natalia Corres\"</td>\n",
              "      <td>1</td>\n",
              "      <td>1</td>\n",
              "      <td>4</td>\n",
              "      <td>1219017600</td>\n",
              "      <td>\"Delight\" says it all</td>\n",
              "      <td>This is a confection that has been around a fe...</td>\n",
              "    </tr>\n",
              "    <tr>\n",
              "      <th>3</th>\n",
              "      <td>4</td>\n",
              "      <td>B000UA0QIQ</td>\n",
              "      <td>A395BORC6FGVXV</td>\n",
              "      <td>Karl</td>\n",
              "      <td>3</td>\n",
              "      <td>3</td>\n",
              "      <td>2</td>\n",
              "      <td>1307923200</td>\n",
              "      <td>Cough Medicine</td>\n",
              "      <td>If you are looking for the secret ingredient i...</td>\n",
              "    </tr>\n",
              "    <tr>\n",
              "      <th>4</th>\n",
              "      <td>5</td>\n",
              "      <td>B006K2ZZ7K</td>\n",
              "      <td>A1UQRSCLF8GW1T</td>\n",
              "      <td>Michael D. Bigham \"M. Wassir\"</td>\n",
              "      <td>0</td>\n",
              "      <td>0</td>\n",
              "      <td>5</td>\n",
              "      <td>1350777600</td>\n",
              "      <td>Great taffy</td>\n",
              "      <td>Great taffy at a great price.  There was a wid...</td>\n",
              "    </tr>\n",
              "  </tbody>\n",
              "</table>\n",
              "</div>\n",
              "      <button class=\"colab-df-convert\" onclick=\"convertToInteractive('df-f4581493-4b76-48be-9c0a-5416fe3fd2b6')\"\n",
              "              title=\"Convert this dataframe to an interactive table.\"\n",
              "              style=\"display:none;\">\n",
              "        \n",
              "  <svg xmlns=\"http://www.w3.org/2000/svg\" height=\"24px\"viewBox=\"0 0 24 24\"\n",
              "       width=\"24px\">\n",
              "    <path d=\"M0 0h24v24H0V0z\" fill=\"none\"/>\n",
              "    <path d=\"M18.56 5.44l.94 2.06.94-2.06 2.06-.94-2.06-.94-.94-2.06-.94 2.06-2.06.94zm-11 1L8.5 8.5l.94-2.06 2.06-.94-2.06-.94L8.5 2.5l-.94 2.06-2.06.94zm10 10l.94 2.06.94-2.06 2.06-.94-2.06-.94-.94-2.06-.94 2.06-2.06.94z\"/><path d=\"M17.41 7.96l-1.37-1.37c-.4-.4-.92-.59-1.43-.59-.52 0-1.04.2-1.43.59L10.3 9.45l-7.72 7.72c-.78.78-.78 2.05 0 2.83L4 21.41c.39.39.9.59 1.41.59.51 0 1.02-.2 1.41-.59l7.78-7.78 2.81-2.81c.8-.78.8-2.07 0-2.86zM5.41 20L4 18.59l7.72-7.72 1.47 1.35L5.41 20z\"/>\n",
              "  </svg>\n",
              "      </button>\n",
              "      \n",
              "  <style>\n",
              "    .colab-df-container {\n",
              "      display:flex;\n",
              "      flex-wrap:wrap;\n",
              "      gap: 12px;\n",
              "    }\n",
              "\n",
              "    .colab-df-convert {\n",
              "      background-color: #E8F0FE;\n",
              "      border: none;\n",
              "      border-radius: 50%;\n",
              "      cursor: pointer;\n",
              "      display: none;\n",
              "      fill: #1967D2;\n",
              "      height: 32px;\n",
              "      padding: 0 0 0 0;\n",
              "      width: 32px;\n",
              "    }\n",
              "\n",
              "    .colab-df-convert:hover {\n",
              "      background-color: #E2EBFA;\n",
              "      box-shadow: 0px 1px 2px rgba(60, 64, 67, 0.3), 0px 1px 3px 1px rgba(60, 64, 67, 0.15);\n",
              "      fill: #174EA6;\n",
              "    }\n",
              "\n",
              "    [theme=dark] .colab-df-convert {\n",
              "      background-color: #3B4455;\n",
              "      fill: #D2E3FC;\n",
              "    }\n",
              "\n",
              "    [theme=dark] .colab-df-convert:hover {\n",
              "      background-color: #434B5C;\n",
              "      box-shadow: 0px 1px 3px 1px rgba(0, 0, 0, 0.15);\n",
              "      filter: drop-shadow(0px 1px 2px rgba(0, 0, 0, 0.3));\n",
              "      fill: #FFFFFF;\n",
              "    }\n",
              "  </style>\n",
              "\n",
              "      <script>\n",
              "        const buttonEl =\n",
              "          document.querySelector('#df-f4581493-4b76-48be-9c0a-5416fe3fd2b6 button.colab-df-convert');\n",
              "        buttonEl.style.display =\n",
              "          google.colab.kernel.accessAllowed ? 'block' : 'none';\n",
              "\n",
              "        async function convertToInteractive(key) {\n",
              "          const element = document.querySelector('#df-f4581493-4b76-48be-9c0a-5416fe3fd2b6');\n",
              "          const dataTable =\n",
              "            await google.colab.kernel.invokeFunction('convertToInteractive',\n",
              "                                                     [key], {});\n",
              "          if (!dataTable) return;\n",
              "\n",
              "          const docLinkHtml = 'Like what you see? Visit the ' +\n",
              "            '<a target=\"_blank\" href=https://colab.research.google.com/notebooks/data_table.ipynb>data table notebook</a>'\n",
              "            + ' to learn more about interactive tables.';\n",
              "          element.innerHTML = '';\n",
              "          dataTable['output_type'] = 'display_data';\n",
              "          await google.colab.output.renderOutput(dataTable, element);\n",
              "          const docLink = document.createElement('div');\n",
              "          docLink.innerHTML = docLinkHtml;\n",
              "          element.appendChild(docLink);\n",
              "        }\n",
              "      </script>\n",
              "    </div>\n",
              "  </div>\n",
              "  "
            ]
          },
          "metadata": {},
          "execution_count": 14
        }
      ]
    },
    {
      "cell_type": "code",
      "source": [
        "np.random.seed(51)\n",
        "df = data[['Text']].sample(n = 10005)\n",
        "test = df[10000:10005]\n",
        "df = df[:10000]"
      ],
      "metadata": {
        "execution": {
          "iopub.status.busy": "2022-10-08T09:55:57.158489Z",
          "iopub.execute_input": "2022-10-08T09:55:57.159001Z",
          "iopub.status.idle": "2022-10-08T09:55:57.208718Z",
          "shell.execute_reply.started": "2022-10-08T09:55:57.158962Z",
          "shell.execute_reply": "2022-10-08T09:55:57.207185Z"
        },
        "trusted": true,
        "id": "3HrxbRn2C7GC"
      },
      "execution_count": 15,
      "outputs": []
    },
    {
      "cell_type": "code",
      "source": [
        "data.shape, df.shape"
      ],
      "metadata": {
        "execution": {
          "iopub.status.busy": "2022-10-08T09:48:18.277852Z",
          "iopub.execute_input": "2022-10-08T09:48:18.278875Z",
          "iopub.status.idle": "2022-10-08T09:48:18.286453Z",
          "shell.execute_reply.started": "2022-10-08T09:48:18.278821Z",
          "shell.execute_reply": "2022-10-08T09:48:18.284938Z"
        },
        "trusted": true,
        "colab": {
          "base_uri": "https://localhost:8080/"
        },
        "id": "so2vtHJ6C7GC",
        "outputId": "e6afab3d-4c54-4ba2-c7c6-7aa6df359904"
      },
      "execution_count": 16,
      "outputs": [
        {
          "output_type": "execute_result",
          "data": {
            "text/plain": [
              "((568454, 10), (10000, 1))"
            ]
          },
          "metadata": {},
          "execution_count": 16
        }
      ]
    },
    {
      "cell_type": "code",
      "source": [
        "df = df.reset_index(drop=True)\n",
        "test = test.reset_index(drop=True)\n"
      ],
      "metadata": {
        "execution": {
          "iopub.status.busy": "2022-10-08T09:56:23.865496Z",
          "iopub.execute_input": "2022-10-08T09:56:23.866226Z",
          "iopub.status.idle": "2022-10-08T09:56:23.874044Z",
          "shell.execute_reply.started": "2022-10-08T09:56:23.866185Z",
          "shell.execute_reply": "2022-10-08T09:56:23.872536Z"
        },
        "trusted": true,
        "id": "CZC5yr8kC7GC"
      },
      "execution_count": 17,
      "outputs": []
    },
    {
      "cell_type": "markdown",
      "source": [
        "## Preprocessing"
      ],
      "metadata": {
        "id": "nc4cJ8FOC7GD"
      }
    },
    {
      "cell_type": "code",
      "source": [
        "def lemmatize_stemming(text):\n",
        "    stemmer = SnowballStemmer('english')\n",
        "    return stemmer.stem(WordNetLemmatizer().lemmatize(text, pos='v'))\n",
        "\n",
        "def preprocess(text):\n",
        "    result = []\n",
        "    for token in gensim.utils.simple_preprocess(text):\n",
        "        if token not in gensim.parsing.preprocessing.STOPWORDS and len(token) > 3:\n",
        "            result.append(lemmatize_stemming(token))\n",
        "    return result"
      ],
      "metadata": {
        "execution": {
          "iopub.status.busy": "2022-10-08T09:48:18.300153Z",
          "iopub.execute_input": "2022-10-08T09:48:18.300508Z",
          "iopub.status.idle": "2022-10-08T09:48:18.311583Z",
          "shell.execute_reply.started": "2022-10-08T09:48:18.300478Z",
          "shell.execute_reply": "2022-10-08T09:48:18.310578Z"
        },
        "trusted": true,
        "id": "Lxbe_B6UC7GD"
      },
      "execution_count": 18,
      "outputs": []
    },
    {
      "cell_type": "code",
      "source": [
        "doc_sample = df['Text'][0]\n",
        "\n",
        "print('original text: ')\n",
        "words = []\n",
        "for word in doc_sample.split(' '):\n",
        "    words.append(word)\n",
        "print(words)\n",
        "print('\\n\\n tokenized and lemmatized text: ')\n",
        "print(preprocess(doc_sample))"
      ],
      "metadata": {
        "execution": {
          "iopub.status.busy": "2022-10-08T09:48:18.313281Z",
          "iopub.execute_input": "2022-10-08T09:48:18.313905Z",
          "iopub.status.idle": "2022-10-08T09:48:20.342503Z",
          "shell.execute_reply.started": "2022-10-08T09:48:18.313854Z",
          "shell.execute_reply": "2022-10-08T09:48:20.341199Z"
        },
        "trusted": true,
        "colab": {
          "base_uri": "https://localhost:8080/"
        },
        "id": "2SWpydl-C7GE",
        "outputId": "4c955fb1-2ce6-4d41-a73d-31407a91075b"
      },
      "execution_count": 19,
      "outputs": [
        {
          "output_type": "stream",
          "name": "stdout",
          "text": [
            "original text: \n",
            "['DESCRIPTION:<br', '/>>', 'Blue', 'Diamond', 'Roasted-Salted', 'Almonds', 'are', 'moderately', 'roasted', 'with', 'canola,', 'safflower,', 'or', 'sunflower', 'oil', '(but', 'not', 'oily', 'or', 'greasy),', 'and', 'lightly', 'salted.', '', 'These', 'are', '\"heart', 'healthy\"', 'oils', 'which', 'are', 'actually', 'good', 'for', 'you,', 'as', 'is', 'the', 'almond', 'oil', 'itself.', '', 'Roasted', 'Salted', 'Almonds', 'are', 'available', 'in', 'bags', 'or', 'small', 'cans', 'small.<br', '/>>', 'Blue', 'Diamond', 'Smokehouse', 'Almonds', 'are', 'similar', 'with', 'wonderful', 'smokey', 'flavor.', '', 'At', 'this', 'time', 'Smokehouse', 'Almonds', 'are', 'available', 'from', 'Amazon', 'only', 'in', '16', 'oz', '(and', 'smaller)', 'bags.<br', '/>>', 'I', 'have', 'not', 'tried', 'the', '\"lightly', 'salted\"', 'variety', 'but', 'I', 'presume', 'that', 'they', 'have', 'almost', 'no', 'salt.<br', '/><br', '/>CANS', 'vs', 'BAGS<br', '/>Various', 'types', 'of', 'Blue', 'Diamond', 'Almonds', 'are', 'available', 'in', 'bags', 'or', 'small', 'cans.', '', 'The', 'small', 'cans', '(3', '1/4\"', 'in', 'diameter', 'by', '2', '3/8\"', 'high)', 'are', 'very', 'convenient', 'and', 'assure', 'that', 'the', 'almonds', 'stay', 'fresh', 'until', 'openned,', 'and', 'afterward,', 'because', 'they', \"don't\", 'stay', '\"openned\"', 'long', '(it', 'is', 'easy', 'to', 'eat', 'a', 'whole', 'can', 'at', 'one', 'setting).', '', 'Arguably', 'the', 'bags', 'more', 'environmentally', 'friendly,', 'but', 'you', \"don't\", 'get', 'much', 'of', 'a', 'price', 'break', 'for', 'the', 'much', 'cheaper', 'packaging.', '', 'I', 'prefer', 'the', 'convenience', 'and', 'freshness', 'of', 'the', 'cans.<br', '/><br', '/>EVALUATION:', 'Excellent', 'and', 'flavorful.', '', 'Well', 'roasted', 'and', 'crunchy.', '', 'I', 'cannot', 'decide', 'which', 'I', 'like', 'best:', 'the', 'Roasted', 'Salted', 'or', 'the', 'Smokehouse.', '', 'Although', 'not', 'oily,', 'the', 'roasting', 'oil', 'does', 'effect', 'the', 'flavor.', '', 'Whether', \"that's\", 'a', 'good', 'thing', 'or', 'not', 'is', 'a', 'matter', 'of', 'individual', 'tastes.', '', 'I', 'happen', 'to', 'like', 'the', 'roasted-in-oil', 'flavor.<br', '/><br', '/>LESS', 'ROASTED', 'ALMONDS<br', '/>If', 'you', 'prefer', 'less-roasted', 'almonds,', 'roasted', 'without', 'added', 'oil,', 'consider', '<a', 'href=\"http://www.amazon.com/gp/product/B001COJ85G\">Back', 'To', 'Nature', 'California', 'Almonds,', 'Sea', 'Salt', 'Roasted,', '11-Ounce', 'Pouches', '(Pack', 'of', '3)</a><br', '/><br', '/>UNROASTED', 'ALMONDS<br', '/>Unroasted', 'almonds', 'are', 'available', '<a', 'href=\"http://www.amazon.com/gp/product/B001COE1AI\">Back', 'To', 'Nature', 'California', 'Almonds,', 'Unroasted', '&', 'Unsalted,', '11-Ounce', 'Pouches', '(Pack', 'of', '3)</a>', 'but', 'beware', 'that', 'thorough', 'roasting', 'makes', 'almonds', 'more', 'digestable.', '', 'Unroasted', 'almonds', 'are', 'susceptable', 'to', 'fungus', 'which', 'can', 'be', 'carcinogenic.', '', 'While', 'commercial', 'domestic', 'almonds', 'sold', 'in', 'the', 'US', 'do', 'not', 'contain', 'significant', 'levels', 'of', 'cyanide,', 'bitter', 'almonds,', '(which', 'have', 'a', 'much', 'richer', 'almond', 'flavor,', 'particular', 'in', 'baked', 'goods).', '', 'Indeed', 'natural', 'almond', 'extract', 'is', 'made', 'from', 'bitter', 'almonds---artificial', 'almond', 'extract', 'is', 'safer.', '', 'Bitter', 'almonds', 'are', 'sometimes', 'illegally', 'sold', 'in', 'the', 'US', 'and', 'are', 'often', 'encountered', 'in', 'other', 'countries,', 'and', 'do', 'contain', 'dangerous', 'levels', 'of', 'cyanide', 'when', 'raw.', '', '7-10', 'raw', 'bitter', 'almonds', 'can', 'kill', 'a', 'child.', '', 'Moreover,', 'a', 'child', 'raised', 'on', 'raw', 'almonds', 'may', 'conclude', 'that', 'raw', 'peach', 'pits', '(essentially', 'a', 'variety', 'of', 'almonds)', 'are', 'safe', 'to', 'eat---they', 'are', 'NOT.', '', 'The', 'safest', 'practice', 'is', 'NOT', 'to', 'eat', 'unroasted', 'almonds.']\n",
            "\n",
            "\n",
            " tokenized and lemmatized text: \n",
            "['descript', 'blue', 'diamond', 'roast', 'salt', 'almond', 'moder', 'roast', 'canola', 'safflow', 'sunflow', 'oili', 'greasi', 'light', 'salt', 'heart', 'healthi', 'oil', 'actual', 'good', 'almond', 'roast', 'salt', 'almond', 'avail', 'bag', 'small', 'can', 'small', 'blue', 'diamond', 'smokehous', 'almond', 'similar', 'wonder', 'smokey', 'flavor', 'time', 'smokehous', 'almond', 'avail', 'amazon', 'smaller', 'bag', 'tri', 'light', 'salt', 'varieti', 'presum', 'salt', 'can', 'bag', 'type', 'blue', 'diamond', 'almond', 'avail', 'bag', 'small', 'can', 'small', 'can', 'diamet', 'high', 'conveni', 'assur', 'almond', 'stay', 'fresh', 'open', 'afterward', 'stay', 'open', 'long', 'easi', 'set', 'arguabl', 'bag', 'environment', 'friend', 'price', 'break', 'cheaper', 'packag', 'prefer', 'conveni', 'fresh', 'can', 'evalu', 'excel', 'flavor', 'roast', 'crunchi', 'decid', 'like', 'best', 'roast', 'salt', 'smokehous', 'oili', 'roast', 'effect', 'flavor', 'good', 'thing', 'matter', 'individu', 'tast', 'happen', 'like', 'roast', 'flavor', 'roast', 'almond', 'prefer', 'roast', 'almond', 'roast', 'add', 'consid', 'href', 'http', 'amazon', 'product', 'natur', 'california', 'almond', 'salt', 'roast', 'ounc', 'pouch', 'pack', 'unroast', 'almond', 'unroast', 'almond', 'avail', 'href', 'http', 'amazon', 'product', 'natur', 'california', 'almond', 'unroast', 'unsalt', 'ounc', 'pouch', 'pack', 'bewar', 'thorough', 'roast', 'make', 'almond', 'digest', 'unroast', 'almond', 'suscept', 'fungus', 'carcinogen', 'commerci', 'domest', 'almond', 'sell', 'contain', 'signific', 'level', 'cyanid', 'bitter', 'almond', 'richer', 'almond', 'flavor', 'particular', 'bake', 'good', 'natur', 'almond', 'extract', 'bitter', 'almond', 'artifici', 'almond', 'extract', 'safer', 'bitter', 'almond', 'illeg', 'sell', 'encount', 'countri', 'contain', 'danger', 'level', 'cyanid', 'bitter', 'almond', 'kill', 'child', 'child', 'rais', 'almond', 'conclud', 'peach', 'pit', 'essenti', 'varieti', 'almond', 'safe', 'safest', 'practic', 'unroast', 'almond']\n"
          ]
        }
      ]
    },
    {
      "cell_type": "code",
      "source": [
        "processed_text = df['Text'].map(preprocess)"
      ],
      "metadata": {
        "execution": {
          "iopub.status.busy": "2022-10-08T09:48:20.344284Z",
          "iopub.execute_input": "2022-10-08T09:48:20.345501Z",
          "iopub.status.idle": "2022-10-08T09:48:29.786092Z",
          "shell.execute_reply.started": "2022-10-08T09:48:20.345456Z",
          "shell.execute_reply": "2022-10-08T09:48:29.784813Z"
        },
        "trusted": true,
        "id": "ky_CqFTSC7GE"
      },
      "execution_count": 20,
      "outputs": []
    },
    {
      "cell_type": "code",
      "source": [
        "processed_text[:10]"
      ],
      "metadata": {
        "execution": {
          "iopub.status.busy": "2022-10-08T09:48:29.800082Z",
          "iopub.execute_input": "2022-10-08T09:48:29.800480Z",
          "iopub.status.idle": "2022-10-08T09:48:29.815552Z",
          "shell.execute_reply.started": "2022-10-08T09:48:29.800446Z",
          "shell.execute_reply": "2022-10-08T09:48:29.814204Z"
        },
        "trusted": true,
        "colab": {
          "base_uri": "https://localhost:8080/"
        },
        "id": "cf0-2MsCC7GF",
        "outputId": "9ab7f3ac-a7b1-426d-c41b-34d12dd59642"
      },
      "execution_count": 21,
      "outputs": [
        {
          "output_type": "execute_result",
          "data": {
            "text/plain": [
              "0    [descript, blue, diamond, roast, salt, almond,...\n",
              "1    [postum, discontinu, look, substitut, come, re...\n",
              "2    [order, pack, shelton, turkey, jerki, great, a...\n",
              "3        [buy, freez, dri, chicken, treat, year, love]\n",
              "4    [husband, natur, peanut, butter, want, complai...\n",
              "5    [work, heat, microwav, cheap, tasti, lunch, co...\n",
              "6    [wait, amazon, start, carri, french, fajita, s...\n",
              "7    [crazi, thing, tast, super, sweet, thing, deli...\n",
              "8    [expect, pleasant, surpris, empti, pouch, saut...\n",
              "9    [prefer, brand, green, lipton, avail, groceri,...\n",
              "Name: Text, dtype: object"
            ]
          },
          "metadata": {},
          "execution_count": 21
        }
      ]
    },
    {
      "cell_type": "markdown",
      "source": [
        "## Bag of words on the dataset"
      ],
      "metadata": {
        "id": "yzviy3qfC7GF"
      }
    },
    {
      "cell_type": "code",
      "source": [
        "dictionary = gensim.corpora.Dictionary(processed_text)"
      ],
      "metadata": {
        "execution": {
          "iopub.status.busy": "2022-10-08T09:48:29.817417Z",
          "iopub.execute_input": "2022-10-08T09:48:29.818473Z",
          "iopub.status.idle": "2022-10-08T09:48:30.390551Z",
          "shell.execute_reply.started": "2022-10-08T09:48:29.818433Z",
          "shell.execute_reply": "2022-10-08T09:48:30.389003Z"
        },
        "trusted": true,
        "id": "b_-QcPDVC7GF"
      },
      "execution_count": 22,
      "outputs": []
    },
    {
      "cell_type": "code",
      "source": [
        "count = 0\n",
        "for k, v in dictionary.iteritems():\n",
        "    print(k, v)\n",
        "    count += 1\n",
        "    if count > 10:\n",
        "        break"
      ],
      "metadata": {
        "execution": {
          "iopub.status.busy": "2022-10-08T09:48:30.394665Z",
          "iopub.execute_input": "2022-10-08T09:48:30.395090Z",
          "iopub.status.idle": "2022-10-08T09:48:30.407726Z",
          "shell.execute_reply.started": "2022-10-08T09:48:30.395054Z",
          "shell.execute_reply": "2022-10-08T09:48:30.406102Z"
        },
        "trusted": true,
        "colab": {
          "base_uri": "https://localhost:8080/"
        },
        "id": "aqwGVuixC7GG",
        "outputId": "012e7159-f7c0-4343-bd72-009cf290e625"
      },
      "execution_count": 23,
      "outputs": [
        {
          "output_type": "stream",
          "name": "stdout",
          "text": [
            "0 actual\n",
            "1 add\n",
            "2 afterward\n",
            "3 almond\n",
            "4 amazon\n",
            "5 arguabl\n",
            "6 artifici\n",
            "7 assur\n",
            "8 avail\n",
            "9 bag\n",
            "10 bake\n"
          ]
        }
      ]
    },
    {
      "cell_type": "code",
      "source": [
        "dictionary.filter_extremes(no_below=15, no_above=0.5, keep_n=100000)"
      ],
      "metadata": {
        "execution": {
          "iopub.status.busy": "2022-10-08T09:48:30.409618Z",
          "iopub.execute_input": "2022-10-08T09:48:30.410882Z",
          "iopub.status.idle": "2022-10-08T09:48:30.467264Z",
          "shell.execute_reply.started": "2022-10-08T09:48:30.410836Z",
          "shell.execute_reply": "2022-10-08T09:48:30.465701Z"
        },
        "trusted": true,
        "id": "CPOObLJ2C7GG"
      },
      "execution_count": 24,
      "outputs": []
    },
    {
      "cell_type": "code",
      "source": [
        "bow_corpus = [dictionary.doc2bow(text) for text in processed_text]\n",
        "bow_corpus[10]"
      ],
      "metadata": {
        "execution": {
          "iopub.status.busy": "2022-10-08T09:48:30.469388Z",
          "iopub.execute_input": "2022-10-08T09:48:30.474753Z",
          "iopub.status.idle": "2022-10-08T09:48:30.800664Z",
          "shell.execute_reply.started": "2022-10-08T09:48:30.474685Z",
          "shell.execute_reply": "2022-10-08T09:48:30.799214Z"
        },
        "trusted": true,
        "colab": {
          "base_uri": "https://localhost:8080/"
        },
        "id": "2wqkvn8uC7GG",
        "outputId": "ab9963d3-ed8a-47d8-ebc6-3d6ba0901f5f"
      },
      "execution_count": 25,
      "outputs": [
        {
          "output_type": "execute_result",
          "data": {
            "text/plain": [
              "[(0, 1),\n",
              " (38, 1),\n",
              " (70, 1),\n",
              " (85, 1),\n",
              " (95, 1),\n",
              " (116, 1),\n",
              " (124, 1),\n",
              " (158, 1),\n",
              " (197, 1),\n",
              " (199, 1),\n",
              " (200, 1),\n",
              " (212, 1),\n",
              " (221, 1),\n",
              " (222, 1),\n",
              " (223, 1),\n",
              " (224, 1),\n",
              " (225, 1),\n",
              " (226, 1),\n",
              " (227, 1),\n",
              " (228, 1),\n",
              " (229, 1),\n",
              " (230, 1),\n",
              " (231, 2),\n",
              " (232, 1)]"
            ]
          },
          "metadata": {},
          "execution_count": 25
        }
      ]
    },
    {
      "cell_type": "code",
      "source": [
        "bow_doc_10 = bow_corpus[10]\n",
        "\n",
        "for i in range(len(bow_doc_10)):\n",
        "    print(\"Word {} (\\\"{}\\\") appears {} time.\".format(bow_doc_10[i][0], \n",
        "                                                     dictionary[bow_doc_10[i][0]], \n",
        "                                                     bow_doc_10[i][1]))"
      ],
      "metadata": {
        "execution": {
          "iopub.status.busy": "2022-10-08T09:48:30.802301Z",
          "iopub.execute_input": "2022-10-08T09:48:30.803034Z",
          "iopub.status.idle": "2022-10-08T09:48:30.812667Z",
          "shell.execute_reply.started": "2022-10-08T09:48:30.802995Z",
          "shell.execute_reply": "2022-10-08T09:48:30.811020Z"
        },
        "trusted": true,
        "colab": {
          "base_uri": "https://localhost:8080/"
        },
        "id": "u2GbqST_C7GG",
        "outputId": "28ead43a-d598-4646-cb66-58ed7402d2e9"
      },
      "execution_count": 26,
      "outputs": [
        {
          "output_type": "stream",
          "name": "stdout",
          "text": [
            "Word 0 (\"actual\") appears 1 time.\n",
            "Word 38 (\"fresh\") appears 1 time.\n",
            "Word 70 (\"product\") appears 1 time.\n",
            "Word 85 (\"tast\") appears 1 time.\n",
            "Word 95 (\"come\") appears 1 time.\n",
            "Word 116 (\"tasti\") appears 1 time.\n",
            "Word 124 (\"love\") appears 1 time.\n",
            "Word 158 (\"want\") appears 1 time.\n",
            "Word 197 (\"delici\") appears 1 time.\n",
            "Word 199 (\"expect\") appears 1 time.\n",
            "Word 200 (\"jasmin\") appears 1 time.\n",
            "Word 212 (\"green\") appears 1 time.\n",
            "Word 221 (\"aroma\") appears 1 time.\n",
            "Word 222 (\"bottl\") appears 1 time.\n",
            "Word 223 (\"caffein\") appears 1 time.\n",
            "Word 224 (\"categori\") appears 1 time.\n",
            "Word 225 (\"comment\") appears 1 time.\n",
            "Word 226 (\"correct\") appears 1 time.\n",
            "Word 227 (\"despit\") appears 1 time.\n",
            "Word 228 (\"earlier\") appears 1 time.\n",
            "Word 229 (\"need\") appears 1 time.\n",
            "Word 230 (\"remain\") appears 1 time.\n",
            "Word 231 (\"tea\") appears 2 time.\n",
            "Word 232 (\"unsweeten\") appears 1 time.\n"
          ]
        }
      ]
    },
    {
      "cell_type": "markdown",
      "source": [
        "## TF-IDF"
      ],
      "metadata": {
        "id": "Ik7Vqq7ZC7GH"
      }
    },
    {
      "cell_type": "code",
      "source": [
        "tfidf = models.TfidfModel(bow_corpus)"
      ],
      "metadata": {
        "execution": {
          "iopub.status.busy": "2022-10-08T09:48:30.816100Z",
          "iopub.execute_input": "2022-10-08T09:48:30.816692Z",
          "iopub.status.idle": "2022-10-08T09:48:30.894283Z",
          "shell.execute_reply.started": "2022-10-08T09:48:30.816615Z",
          "shell.execute_reply": "2022-10-08T09:48:30.893211Z"
        },
        "trusted": true,
        "id": "pmCCI5f_C7GH"
      },
      "execution_count": 27,
      "outputs": []
    },
    {
      "cell_type": "code",
      "source": [
        "corpus_tfidf = tfidf[bow_corpus]"
      ],
      "metadata": {
        "execution": {
          "iopub.status.busy": "2022-10-08T09:48:30.895400Z",
          "iopub.execute_input": "2022-10-08T09:48:30.896138Z",
          "iopub.status.idle": "2022-10-08T09:48:30.901543Z",
          "shell.execute_reply.started": "2022-10-08T09:48:30.896100Z",
          "shell.execute_reply": "2022-10-08T09:48:30.900399Z"
        },
        "trusted": true,
        "id": "VXoanHwNC7GH"
      },
      "execution_count": 28,
      "outputs": []
    },
    {
      "cell_type": "code",
      "source": [
        "from pprint import pprint\n",
        "\n",
        "for doc in corpus_tfidf:\n",
        "    pprint(doc)\n",
        "    break"
      ],
      "metadata": {
        "execution": {
          "iopub.status.busy": "2022-10-08T09:48:30.903033Z",
          "iopub.execute_input": "2022-10-08T09:48:30.903378Z",
          "iopub.status.idle": "2022-10-08T09:48:30.916777Z",
          "shell.execute_reply.started": "2022-10-08T09:48:30.903346Z",
          "shell.execute_reply": "2022-10-08T09:48:30.915344Z"
        },
        "trusted": true,
        "colab": {
          "base_uri": "https://localhost:8080/"
        },
        "id": "zcaCQEOhC7GH",
        "outputId": "df015c53-7432-4926-b3ec-de1f51847a23"
      },
      "execution_count": 29,
      "outputs": [
        {
          "output_type": "stream",
          "name": "stdout",
          "text": [
            "[(0, 0.022046237481401464),\n",
            " (1, 0.02212010095287557),\n",
            " (2, 0.7990672278008627),\n",
            " (3, 0.04234319605788876),\n",
            " (4, 0.030180786324129273),\n",
            " (5, 0.04506328315275939),\n",
            " (6, 0.10469868783323924),\n",
            " (7, 0.1177918964281708),\n",
            " (8, 0.028310384927122085),\n",
            " (9, 0.01570652035458812),\n",
            " (10, 0.04164407798136751),\n",
            " (11, 0.10251572594613813),\n",
            " (12, 0.09865149176461999),\n",
            " (13, 0.026463498246191975),\n",
            " (14, 0.08328815596273502),\n",
            " (15, 0.13258625616030392),\n",
            " (16, 0.043833075763101595),\n",
            " (17, 0.02707753095114022),\n",
            " (18, 0.07636582372488611),\n",
            " (19, 0.03901747862210049),\n",
            " (20, 0.02987661987624866),\n",
            " (21, 0.04544633587056744),\n",
            " (22, 0.054330748908750295),\n",
            " (23, 0.03755311577002567),\n",
            " (24, 0.029186362066006555),\n",
            " (25, 0.043028918377835616),\n",
            " (26, 0.026021778029643713),\n",
            " (27, 0.03493859865525314),\n",
            " (28, 0.12143668923780415),\n",
            " (29, 0.03429078549488982),\n",
            " (30, 0.02184327627051476),\n",
            " (31, 0.030406006518590413),\n",
            " (32, 0.04740841667090137),\n",
            " (33, 0.04506328315275939),\n",
            " (34, 0.04253779466840864),\n",
            " (35, 0.023852983625101454),\n",
            " (36, 0.0697088725899857),\n",
            " (37, 0.05035843293155596),\n",
            " (38, 0.04315296358148238),\n",
            " (39, 0.02394751799604457),\n",
            " (40, 0.028448727672543393),\n",
            " (41, 0.03743337123952537),\n",
            " (42, 0.03203783771862706),\n",
            " (43, 0.02149420019319512),\n",
            " (44, 0.03653965455248424),\n",
            " (45, 0.01808435223572732),\n",
            " (46, 0.056080222847554984),\n",
            " (47, 0.05543129618237163),\n",
            " (48, 0.03164869900821664),\n",
            " (49, 0.04253779466840864),\n",
            " (50, 0.06767955939883316),\n",
            " (51, 0.05189301042757843),\n",
            " (52, 0.01637783951338127),\n",
            " (53, 0.02256376503702195),\n",
            " (54, 0.01847202734156819),\n",
            " (55, 0.03362422890533506),\n",
            " (56, 0.04185754586598318),\n",
            " (57, 0.06640488890625706),\n",
            " (58, 0.03623062488741025),\n",
            " (59, 0.08060287799525422),\n",
            " (60, 0.04564098521561919),\n",
            " (61, 0.05499348148658271),\n",
            " (62, 0.03918730931595896),\n",
            " (63, 0.01847202734156819),\n",
            " (64, 0.03013655720398394),\n",
            " (65, 0.04030143899762711),\n",
            " (66, 0.0702197302542822),\n",
            " (67, 0.039473136914117316),\n",
            " (68, 0.04941724172168608),\n",
            " (69, 0.015289742706357629),\n",
            " (70, 0.021000531548918983),\n",
            " (71, 0.04473593475593201),\n",
            " (72, 0.04576515936094257),\n",
            " (73, 0.3211693988689244),\n",
            " (74, 0.03528520975301254),\n",
            " (75, 0.17385427972086764),\n",
            " (76, 0.05111510011633612),\n",
            " (77, 0.03697296343017691),\n",
            " (78, 0.03931809694831889),\n",
            " (79, 0.02987661987624866),\n",
            " (80, 0.08760278660027462),\n",
            " (81, 0.03027004955483485),\n",
            " (82, 0.04506328315275939),\n",
            " (83, 0.06255819077438615),\n",
            " (84, 0.04123485457524324),\n",
            " (85, 0.008272232883672282),\n",
            " (86, 0.019144109336348632),\n",
            " (87, 0.043028918377835616),\n",
            " (88, 0.013980456689780492),\n",
            " (89, 0.014164631666331142),\n",
            " (90, 0.02690492633790165),\n",
            " (91, 0.04696196929486644),\n",
            " (92, 0.049888929137304014),\n",
            " (93, 0.02206095102549188)]\n"
          ]
        }
      ]
    },
    {
      "cell_type": "markdown",
      "source": [
        "## LDA"
      ],
      "metadata": {
        "id": "3JqYWBgzC7GI"
      }
    },
    {
      "cell_type": "markdown",
      "source": [
        "### LDA using Bag of Words"
      ],
      "metadata": {
        "id": "YUyZ_4NvC7GI"
      }
    },
    {
      "cell_type": "code",
      "source": [
        "lda_model_bow = gensim.models.ldamodel.LdaModel(bow_corpus, num_topics=10, id2word=dictionary, passes=4)"
      ],
      "metadata": {
        "execution": {
          "iopub.status.busy": "2022-10-08T09:48:30.918281Z",
          "iopub.execute_input": "2022-10-08T09:48:30.918825Z",
          "iopub.status.idle": "2022-10-08T09:48:50.733245Z",
          "shell.execute_reply.started": "2022-10-08T09:48:30.918768Z",
          "shell.execute_reply": "2022-10-08T09:48:50.732233Z"
        },
        "trusted": true,
        "id": "B_LqvjQXC7GI"
      },
      "execution_count": null,
      "outputs": []
    },
    {
      "cell_type": "code",
      "source": [
        "for idx, topic in lda_model_bow.print_topics(-1):\n",
        "    print('Topic: {} \\nWords: {} \\n\\n'.format(idx, topic))"
      ],
      "metadata": {
        "execution": {
          "iopub.status.busy": "2022-10-08T09:48:50.734619Z",
          "iopub.execute_input": "2022-10-08T09:48:50.735121Z",
          "iopub.status.idle": "2022-10-08T09:48:50.743168Z",
          "shell.execute_reply.started": "2022-10-08T09:48:50.735087Z",
          "shell.execute_reply": "2022-10-08T09:48:50.742045Z"
        },
        "trusted": true,
        "colab": {
          "base_uri": "https://localhost:8080/"
        },
        "id": "2u7DWjX2C7GI",
        "outputId": "70094ff1-0341-4bbb-e8c4-a5d31f69e564"
      },
      "execution_count": 31,
      "outputs": [
        {
          "output_type": "stream",
          "name": "stdout",
          "text": [
            "Topic: 0 \n",
            "Words: 0.069*\"tast\" + 0.043*\"chip\" + 0.032*\"flavor\" + 0.027*\"like\" + 0.026*\"coconut\" + 0.024*\"good\" + 0.014*\"brand\" + 0.013*\"pasta\" + 0.012*\"tri\" + 0.012*\"bag\" \n",
            "\n",
            "\n",
            "Topic: 1 \n",
            "Words: 0.037*\"chocol\" + 0.015*\"love\" + 0.015*\"store\" + 0.015*\"flavor\" + 0.015*\"candi\" + 0.014*\"tast\" + 0.013*\"amazon\" + 0.013*\"buy\" + 0.012*\"local\" + 0.011*\"like\" \n",
            "\n",
            "\n",
            "Topic: 2 \n",
            "Words: 0.032*\"tast\" + 0.023*\"like\" + 0.022*\"water\" + 0.021*\"flavor\" + 0.020*\"drink\" + 0.013*\"good\" + 0.012*\"product\" + 0.011*\"sugar\" + 0.008*\"sauc\" + 0.008*\"sweet\" \n",
            "\n",
            "\n",
            "Topic: 3 \n",
            "Words: 0.062*\"food\" + 0.021*\"ingredi\" + 0.014*\"natur\" + 0.012*\"product\" + 0.011*\"organ\" + 0.011*\"protein\" + 0.010*\"healthi\" + 0.010*\"diet\" + 0.010*\"high\" + 0.009*\"health\" \n",
            "\n",
            "\n",
            "Topic: 4 \n",
            "Words: 0.052*\"great\" + 0.041*\"love\" + 0.019*\"flavor\" + 0.018*\"tast\" + 0.017*\"good\" + 0.016*\"product\" + 0.013*\"price\" + 0.012*\"salt\" + 0.011*\"amazon\" + 0.011*\"time\" \n",
            "\n",
            "\n",
            "Topic: 5 \n",
            "Words: 0.035*\"product\" + 0.024*\"order\" + 0.023*\"amazon\" + 0.015*\"time\" + 0.014*\"packag\" + 0.014*\"ship\" + 0.012*\"purchas\" + 0.012*\"price\" + 0.010*\"good\" + 0.010*\"store\" \n",
            "\n",
            "\n",
            "Topic: 6 \n",
            "Words: 0.026*\"like\" + 0.022*\"butter\" + 0.018*\"peanut\" + 0.018*\"cook\" + 0.014*\"hair\" + 0.014*\"product\" + 0.014*\"rice\" + 0.014*\"noodl\" + 0.013*\"soup\" + 0.012*\"smell\" \n",
            "\n",
            "\n",
            "Topic: 7 \n",
            "Words: 0.040*\"treat\" + 0.029*\"love\" + 0.021*\"dog\" + 0.020*\"food\" + 0.019*\"like\" + 0.013*\"cat\" + 0.013*\"chicken\" + 0.012*\"chew\" + 0.010*\"time\" + 0.009*\"littl\" \n",
            "\n",
            "\n",
            "Topic: 8 \n",
            "Words: 0.100*\"coffe\" + 0.031*\"flavor\" + 0.028*\"like\" + 0.022*\"tast\" + 0.016*\"cup\" + 0.015*\"good\" + 0.014*\"strong\" + 0.013*\"brew\" + 0.013*\"roast\" + 0.011*\"tri\" \n",
            "\n",
            "\n",
            "Topic: 9 \n",
            "Words: 0.035*\"like\" + 0.028*\"cooki\" + 0.027*\"tast\" + 0.022*\"good\" + 0.018*\"snack\" + 0.017*\"sweet\" + 0.015*\"free\" + 0.015*\"flavor\" + 0.014*\"gluten\" + 0.013*\"cereal\" \n",
            "\n",
            "\n"
          ]
        }
      ]
    },
    {
      "cell_type": "markdown",
      "source": [
        "Top 10 keywords that contribute to Topic 0 are: \"tast\", \"chip\", \"flavor\".. and so on"
      ],
      "metadata": {
        "id": "mlquo451G12-"
      }
    },
    {
      "cell_type": "markdown",
      "source": [
        "#### Coherence Score"
      ],
      "metadata": {
        "id": "7mCt8JPNC7GI"
      }
    },
    {
      "cell_type": "code",
      "source": [
        "coherence_model_bow = CoherenceModel(model=lda_model_bow, texts=processed_text, dictionary=dictionary, coherence='c_v')\n",
        "coherence_bow = coherence_model_bow.get_coherence()\n",
        "print('\\nCoherence Score: ', coherence_bow)"
      ],
      "metadata": {
        "execution": {
          "iopub.status.busy": "2022-10-08T09:51:00.814345Z",
          "iopub.execute_input": "2022-10-08T09:51:00.815656Z",
          "iopub.status.idle": "2022-10-08T09:51:03.561225Z",
          "shell.execute_reply.started": "2022-10-08T09:51:00.815577Z",
          "shell.execute_reply": "2022-10-08T09:51:03.559867Z"
        },
        "trusted": true,
        "colab": {
          "base_uri": "https://localhost:8080/"
        },
        "id": "r3bHbm1cC7GI",
        "outputId": "513720b8-5192-425d-9c1d-c42e22921730"
      },
      "execution_count": 32,
      "outputs": [
        {
          "output_type": "stream",
          "name": "stdout",
          "text": [
            "\n",
            "Coherence Score:  0.44752474208157017\n"
          ]
        }
      ]
    },
    {
      "cell_type": "code",
      "source": [
        "#### Coherence Score"
      ],
      "metadata": {
        "id": "hVPwWVGHC6Hh"
      },
      "execution_count": 33,
      "outputs": []
    },
    {
      "cell_type": "markdown",
      "source": [
        "#### Visualize the topics-keywords"
      ],
      "metadata": {
        "id": "EuFfAfKpC7GJ"
      }
    },
    {
      "cell_type": "code",
      "source": [
        "pyLDAvis.enable_notebook()\n",
        "vis = pyLDAvis.gensim_models.prepare(lda_model_bow, bow_corpus, dictionary)\n",
        "vis"
      ],
      "metadata": {
        "execution": {
          "iopub.status.busy": "2022-10-08T09:48:51.333774Z",
          "iopub.execute_input": "2022-10-08T09:48:51.334161Z",
          "iopub.status.idle": "2022-10-08T09:48:56.856240Z",
          "shell.execute_reply.started": "2022-10-08T09:48:51.334122Z",
          "shell.execute_reply": "2022-10-08T09:48:56.854816Z"
        },
        "trusted": true,
        "colab": {
          "base_uri": "https://localhost:8080/",
          "height": 916
        },
        "id": "1FwOO9jBC7GJ",
        "outputId": "983732e3-af04-4b78-b97e-eb001f856c5e"
      },
      "execution_count": 34,
      "outputs": [
        {
          "output_type": "stream",
          "name": "stderr",
          "text": [
            "/usr/local/lib/python3.9/dist-packages/pyLDAvis/_prepare.py:243: FutureWarning: In a future version of pandas all arguments of DataFrame.drop except for the argument 'labels' will be keyword-only.\n",
            "  default_term_info = default_term_info.sort_values(\n"
          ]
        },
        {
          "output_type": "execute_result",
          "data": {
            "text/plain": [
              "PreparedData(topic_coordinates=              x         y  topics  cluster       Freq\n",
              "topic                                                \n",
              "5     -0.099347  0.067796       1        1  14.010394\n",
              "2      0.047428 -0.035361       2        1  13.496538\n",
              "7     -0.134082  0.083028       3        1  10.903088\n",
              "8      0.141213  0.040575       4        1  10.758521\n",
              "3     -0.192114 -0.169319       5        1  10.545078\n",
              "9      0.053471 -0.123157       6        1  10.037487\n",
              "4      0.049992  0.035959       7        1   9.431419\n",
              "1      0.039569  0.000593       8        1   8.431979\n",
              "6     -0.049807  0.146268       9        1   6.452246\n",
              "0      0.143676 -0.046382      10        1   5.933249, topic_info=       Term         Freq        Total Category  logprob  loglift\n",
              "348   coffe  2938.000000  2938.000000  Default  30.0000  30.0000\n",
              "136    food  2651.000000  2651.000000  Default  29.0000  29.0000\n",
              "85     tast  4764.000000  4764.000000  Default  28.0000  28.0000\n",
              "125   treat  1229.000000  1229.000000  Default  27.0000  27.0000\n",
              "540    chip   785.000000   785.000000  Default  26.0000  26.0000\n",
              "..      ...          ...          ...      ...      ...      ...\n",
              "120     buy   118.014164  1475.096083  Topic10  -4.9263   0.2989\n",
              "108   great   133.536298  2965.238852  Topic10  -4.8027  -0.2757\n",
              "264   enjoy    95.720071   879.273869  Topic10  -5.1357   0.6069\n",
              "9      best    95.155032  1336.680209  Topic10  -5.1416   0.1822\n",
              "259  review    90.136338   936.131882  Topic10  -5.1958   0.4842\n",
              "\n",
              "[725 rows x 6 columns], token_table=      Topic      Freq     Term\n",
              "term                          \n",
              "358       1  0.896990    accid\n",
              "358       2  0.052764    accid\n",
              "856       1  0.928662  account\n",
              "856       8  0.046433  account\n",
              "1884      4  0.055396   acquir\n",
              "...     ...       ...      ...\n",
              "126       8  0.125993     year\n",
              "126       9  0.038302     year\n",
              "126      10  0.032254     year\n",
              "2033      5  0.981076     zinc\n",
              "719       3  0.975334     zuke\n",
              "\n",
              "[2149 rows x 3 columns], R=30, lambda_step=0.01, plot_opts={'xlab': 'PC1', 'ylab': 'PC2'}, topic_order=[6, 3, 8, 9, 4, 10, 5, 2, 7, 1])"
            ],
            "text/html": [
              "\n",
              "<link rel=\"stylesheet\" type=\"text/css\" href=\"https://cdn.jsdelivr.net/gh/bmabey/pyLDAvis@3.4.0/pyLDAvis/js/ldavis.v1.0.0.css\">\n",
              "\n",
              "\n",
              "<div id=\"ldavis_el15711405504093620004110108369\" style=\"background-color:white;\"></div>\n",
              "<script type=\"text/javascript\">\n",
              "\n",
              "var ldavis_el15711405504093620004110108369_data = {\"mdsDat\": {\"x\": [-0.09934678002866636, 0.047428081010040514, -0.1340818372519203, 0.14121321194698652, -0.19211419627753806, 0.05347118233844935, 0.04999206735537208, 0.03956931350724311, -0.04980693424758849, 0.14367589164762226], \"y\": [0.06779624801401234, -0.03536088297712285, 0.08302805583136715, 0.040574585498435456, -0.16931925831900702, -0.12315673710541214, 0.03595879420014527, 0.0005934534776287088, 0.1462676711747694, -0.04638192979481637], \"topics\": [1, 2, 3, 4, 5, 6, 7, 8, 9, 10], \"cluster\": [1, 1, 1, 1, 1, 1, 1, 1, 1, 1], \"Freq\": [14.010394241832833, 13.496538172498507, 10.90308788965884, 10.758521305038725, 10.545077967150933, 10.037487361575094, 9.431419474154943, 8.431978604526707, 6.452246056770379, 5.933248926793038]}, \"tinfo\": {\"Term\": [\"coffe\", \"food\", \"tast\", \"treat\", \"chip\", \"chocol\", \"cooki\", \"love\", \"flavor\", \"great\", \"dog\", \"drink\", \"coconut\", \"water\", \"ingredi\", \"like\", \"butter\", \"snack\", \"cup\", \"order\", \"sweet\", \"peanut\", \"amazon\", \"brew\", \"cat\", \"cook\", \"gluten\", \"ship\", \"chicken\", \"salt\", \"email\", \"dent\", \"expir\", \"refund\", \"coke\", \"vendor\", \"buyer\", \"secret\", \"pictur\", \"warehous\", \"china\", \"credit\", \"elimin\", \"display\", \"appropri\", \"tight\", \"decor\", \"print\", \"joint\", \"wed\", \"repli\", \"profession\", \"prime\", \"account\", \"request\", \"reciev\", \"seller\", \"accid\", \"coupon\", \"advis\", \"shipment\", \"custom\", \"prompt\", \"ship\", \"arriv\", \"receiv\", \"date\", \"moistur\", \"return\", \"shell\", \"item\", \"order\", \"send\", \"post\", \"charg\", \"amazon\", \"pay\", \"packag\", \"purchas\", \"product\", \"stale\", \"cost\", \"time\", \"open\", \"price\", \"store\", \"review\", \"compani\", \"pack\", \"can\", \"know\", \"problem\", \"look\", \"buy\", \"come\", \"good\", \"bag\", \"go\", \"star\", \"local\", \"qualiti\", \"like\", \"think\", \"jasmin\", \"pizza\", \"mango\", \"sucralos\", \"tulli\", \"aspartam\", \"theater\", \"peach\", \"ketchup\", \"cider\", \"bell\", \"drizzl\", \"overpric\", \"smallest\", \"dress\", \"tabasco\", \"pronounc\", \"convinc\", \"splenda\", \"kashi\", \"mexican\", \"macadamia\", \"tazo\", \"titl\", \"critic\", \"user\", \"leaf\", \"junki\", \"saut\", \"delish\", \"dilut\", \"sweeten\", \"stevia\", \"alcohol\", \"packet\", \"concentr\", \"water\", \"dissolv\", \"wine\", \"chai\", \"glass\", \"sauc\", \"powder\", \"drink\", \"green\", \"taco\", \"bottl\", \"artifici\", \"href\", \"http\", \"descript\", \"juic\", \"serv\", \"add\", \"sugar\", \"ounc\", \"tast\", \"milk\", \"flavor\", \"contain\", \"like\", \"cold\", \"sweet\", \"good\", \"calori\", \"product\", \"think\", \"tri\", \"better\", \"differ\", \"littl\", \"review\", \"want\", \"amazon\", \"train\", \"dog\", \"greeni\", \"trap\", \"toy\", \"pork\", \"terrier\", \"paw\", \"reward\", \"kidney\", \"litter\", \"chihuahua\", \"teriyaki\", \"zuke\", \"fussi\", \"feast\", \"doggi\", \"indoor\", \"glucosamin\", \"kong\", \"chewer\", \"chow\", \"finicki\", \"meati\", \"sniff\", \"lick\", \"odor\", \"penni\", \"treat\", \"poodl\", \"teeth\", \"chew\", \"ball\", \"liver\", \"bone\", \"harder\", \"puppi\", \"swallow\", \"cat\", \"eater\", \"picki\", \"kibbl\", \"breath\", \"chicken\", \"play\", \"tuna\", \"beef\", \"apart\", \"love\", \"food\", \"give\", \"piec\", \"smell\", \"small\", \"size\", \"get\", \"away\", \"like\", \"fee\", \"year\", \"littl\", \"time\", \"go\", \"eat\", \"week\", \"month\", \"tri\", \"think\", \"great\", \"good\", \"product\", \"buy\", \"work\", \"coffe\", \"keurig\", \"decaf\", \"pod\", \"espresso\", \"mountain\", \"senseo\", \"starbuck\", \"donut\", \"brewer\", \"ground\", \"cappuccino\", \"creamer\", \"robust\", \"kcup\", \"fuel\", \"cafe\", \"kona\", \"emeril\", \"timothi\", \"puck\", \"darker\", \"bold\", \"habit\", \"wolfgang\", \"folger\", \"floral\", \"caribou\", \"earl\", \"lavazza\", \"brew\", \"roast\", \"station\", \"cup\", \"licoric\", \"weak\", \"french\", \"grey\", \"bitter\", \"blend\", \"machin\", \"maker\", \"strong\", \"vanilla\", \"bean\", \"drinker\", \"smooth\", \"dark\", \"flavor\", \"morn\", \"like\", \"medium\", \"tast\", \"drink\", \"good\", \"tri\", \"black\", \"favorit\", \"love\", \"great\", \"best\", \"enjoy\", \"brand\", \"littl\", \"calcium\", \"magnesium\", \"filler\", \"dietari\", \"slim\", \"gain\", \"diarrhea\", \"flaxse\", \"core\", \"mold\", \"holist\", \"barley\", \"senior\", \"junk\", \"chlorid\", \"appetit\", \"purina\", \"formula\", \"zinc\", \"reserv\", \"ferment\", \"catnip\", \"canin\", \"quicker\", \"tastier\", \"royal\", \"photo\", \"shepherd\", \"copper\", \"lecithin\", \"omega\", \"scienc\", \"supplement\", \"stool\", \"weight\", \"grain\", \"potassium\", \"sourc\", \"protein\", \"ingredi\", \"digest\", \"vitamin\", \"food\", \"blood\", \"well\", \"health\", \"diet\", \"switch\", \"nutrit\", \"natur\", \"stomach\", \"corn\", \"almond\", \"research\", \"newman\", \"organ\", \"healthi\", \"fiber\", \"babi\", \"meal\", \"feed\", \"high\", \"content\", \"list\", \"sodium\", \"product\", \"qualiti\", \"eat\", \"good\", \"recommend\", \"year\", \"like\", \"free\", \"sugar\", \"brand\", \"know\", \"cracker\", \"flour\", \"graham\", \"dough\", \"oat\", \"puff\", \"bergamot\", \"crust\", \"tray\", \"father\", \"pamela\", \"thin\", \"raisin\", \"soggi\", \"pastri\", \"strike\", \"retriev\", \"slip\", \"fragrant\", \"gluten\", \"resist\", \"granola\", \"bread\", \"steal\", \"capsul\", \"cupcak\", \"macaroni\", \"molass\", \"trail\", \"cooki\", \"crunchi\", \"cereal\", \"oatmeal\", \"wafer\", \"crave\", \"bake\", \"tooth\", \"wheat\", \"snack\", \"crunch\", \"chewi\", \"crispi\", \"textur\", \"shortbread\", \"chees\", \"free\", \"bar\", \"sweet\", \"calori\", \"like\", \"bite\", \"cinnamon\", \"fill\", \"tast\", \"good\", \"eat\", \"satisfi\", \"flavor\", \"delici\", \"littl\", \"packag\", \"great\", \"sugar\", \"love\", \"think\", \"best\", \"product\", \"pretzel\", \"mapl\", \"muffin\", \"mustard\", \"pear\", \"blender\", \"whip\", \"hemp\", \"larabar\", \"constip\", \"ride\", \"diaper\", \"sustain\", \"cheer\", \"basil\", \"minimum\", \"minti\", \"chili\", \"onion\", \"burger\", \"matcha\", \"happier\", \"deliveri\", \"supplier\", \"agav\", \"cashew\", \"bacon\", \"crash\", \"camp\", \"pepper\", \"gummi\", \"grill\", \"steam\", \"garlic\", \"handi\", \"smoothi\", \"great\", \"salt\", \"spice\", \"famili\", \"daughter\", \"love\", \"tomato\", \"season\", \"fast\", \"subscrib\", \"travel\", \"spici\", \"veggi\", \"save\", \"perfect\", \"easi\", \"price\", \"conveni\", \"kid\", \"flavor\", \"quick\", \"good\", \"product\", \"tast\", \"wonder\", \"time\", \"amazon\", \"best\", \"snack\", \"store\", \"fresh\", \"make\", \"recommend\", \"favorit\", \"buy\", \"order\", \"like\", \"littl\", \"come\", \"year\", \"cherri\", \"carbon\", \"mint\", \"browni\", \"tree\", \"wind\", \"hershey\", \"candi\", \"leg\", \"south\", \"shot\", \"british\", \"unsweeten\", \"boyfriend\", \"king\", \"infus\", \"unbeliev\", \"earlier\", \"watermelon\", \"son\", \"wrapper\", \"toffe\", \"annoy\", \"christma\", \"decad\", \"opportun\", \"cacao\", \"pink\", \"butteri\", \"tin\", \"chocol\", \"energi\", \"pomegran\", \"oreo\", \"soda\", \"cocoa\", \"local\", \"gift\", \"orang\", \"strawberri\", \"store\", \"avail\", \"groceri\", \"dark\", \"hour\", \"buy\", \"sugar\", \"drink\", \"amazon\", \"go\", \"love\", \"delici\", \"flavor\", \"order\", \"tast\", \"price\", \"good\", \"like\", \"great\", \"sweet\", \"product\", \"tri\", \"time\", \"year\", \"hair\", \"shampoo\", \"noodl\", \"condition\", \"broth\", \"scalp\", \"appli\", \"rins\", \"grass\", \"fishi\", \"carton\", \"shrimp\", \"miracl\", \"tbsp\", \"virgin\", \"shower\", \"spread\", \"scrap\", \"tofu\", \"cuisin\", \"fix\", \"nourish\", \"sleep\", \"flow\", \"nicer\", \"wash\", \"microwav\", \"sushi\", \"stain\", \"soak\", \"mushroom\", \"soup\", \"skin\", \"butter\", \"peanut\", \"cook\", \"rice\", \"fanci\", \"scent\", \"dish\", \"gravi\", \"stir\", \"minut\", \"face\", \"smell\", \"feel\", \"spoon\", \"like\", \"work\", \"help\", \"stuff\", \"sauc\", \"amaz\", \"product\", \"chicken\", \"clean\", \"night\", \"bottl\", \"littl\", \"look\", \"tri\", \"flavor\", \"great\", \"water\", \"tast\", \"good\", \"time\", \"kettl\", \"cheddar\", \"popchip\", \"japanes\", \"sparkl\", \"english\", \"glaze\", \"prep\", \"balsam\", \"bigelow\", \"vinegar\", \"click\", \"sooo\", \"charact\", \"jean\", \"gloria\", \"recomend\", \"pecan\", \"pickl\", \"acquir\", \"dont\", \"chip\", \"ton\", \"grove\", \"coconut\", \"pasta\", \"hydrat\", \"japan\", \"celesti\", \"appet\", \"lemon\", \"sour\", \"aw\", \"potato\", \"wast\", \"salti\", \"strang\", \"tast\", \"bag\", \"excit\", \"flavor\", \"brand\", \"money\", \"salt\", \"good\", \"honey\", \"like\", \"popcorn\", \"wasn\", \"tri\", \"think\", \"disappoint\", \"love\", \"sweet\", \"better\", \"want\", \"buy\", \"great\", \"enjoy\", \"best\", \"review\"], \"Freq\": [2938.0, 2651.0, 4764.0, 1229.0, 785.0, 998.0, 828.0, 3241.0, 3783.0, 2965.0, 639.0, 1377.0, 491.0, 1072.0, 817.0, 5061.0, 497.0, 744.0, 499.0, 1607.0, 1166.0, 423.0, 1910.0, 413.0, 486.0, 519.0, 395.0, 649.0, 587.0, 553.0, 71.59784597420816, 58.41876627683364, 137.5607672358146, 50.507840568123896, 44.31844371492927, 56.18489713062908, 32.59035227828353, 30.450345021895817, 108.95289228889413, 29.994909564149268, 77.93318809217993, 27.209088584933586, 28.559179563075023, 23.88727846615747, 22.941328983913518, 33.71630136767886, 21.19737900700072, 26.099558393733137, 23.14240122490993, 18.960651872251756, 19.384817178342228, 16.051754009209724, 65.32833598985947, 20.151663808838805, 13.10456513767658, 33.96534666834245, 113.16942278070034, 17.32516569141614, 23.971598073408586, 15.960338629148426, 101.45105253044157, 143.00292308102348, 51.39675103955902, 527.777758301726, 279.27639681625186, 336.470785593836, 188.56394775901404, 56.90453327899654, 126.33498182178418, 45.915111121001104, 274.1978540425349, 932.0593537816297, 156.23640295784347, 60.071198003987924, 58.479566740484174, 886.4349434797716, 109.35774269118332, 533.0704489494746, 472.3467350382553, 1355.969167324979, 84.10237328616927, 197.9663990980492, 570.8457761210323, 233.25533885230874, 467.8442625689512, 393.41884169994626, 331.7086521183752, 165.39724468628557, 311.23071246553855, 189.1913634601246, 294.9497133360817, 195.05055305784953, 284.12572801418816, 329.60069995415927, 282.3983937296736, 401.7562607007204, 196.3300731874026, 246.97541923253635, 182.33838102575896, 198.80823102892336, 190.09087398296856, 282.22186932924996, 212.4397540176341, 43.09894252668533, 40.38221754294415, 85.79471631341582, 48.89366053525251, 38.80170163879226, 38.182669977080565, 38.70373802026197, 62.13802120404363, 32.166649495874935, 31.394308670405763, 30.310498084318528, 28.839393629740375, 28.749041073889146, 27.78347447544079, 102.75838551599972, 25.94154129589168, 26.689465539304685, 25.00179371420203, 76.65714116050243, 31.433800886944823, 24.12257486958951, 23.720007173078628, 22.03683778811162, 27.520062339007396, 20.170802551032562, 18.771418305543342, 82.24018416292218, 18.834637735313972, 17.519248772546657, 17.43727527933064, 29.039603570623747, 254.01902087431165, 106.87374505663337, 42.71928988075954, 248.3872911986548, 64.56140682725363, 817.2743163118746, 66.06945283371984, 41.14272061312846, 102.80364257933446, 103.66629287510334, 312.6070123679973, 222.19348184423484, 736.6890309492783, 290.7081086645771, 41.82821173808639, 287.98301646672735, 135.58313018888762, 178.2106650790934, 183.25880957628826, 79.40232845958913, 138.5975763337513, 237.15412960718209, 265.7572485351248, 407.5369944487641, 167.25182057714815, 1169.4062557696584, 246.2605194378928, 795.4351808855469, 226.7834373521618, 853.1046745915611, 119.55795046988848, 307.4687328969864, 489.1217956701426, 194.7788347698961, 436.08592898709355, 264.2046865368103, 279.6566646952679, 242.8099527232586, 209.67650869071647, 239.15278217189285, 183.77788706698865, 165.07701704353244, 171.79753584075664, 137.11398816074725, 630.9647684793821, 58.655443878652754, 54.58498810807807, 52.66066203191234, 56.23670370188921, 34.57515176569282, 32.99875716519331, 32.16828056245944, 28.872597273687045, 29.34869626029199, 30.040100515116468, 28.386092921578168, 26.78805745805116, 27.45881283150682, 37.79122591587817, 25.558372629490858, 25.482816693154806, 25.597367950589142, 24.177361869058423, 24.106464765880766, 24.152477051975175, 43.935466332526225, 23.119867653257806, 23.032085978058213, 71.5226920599084, 45.559831077657016, 22.460218993741954, 1182.4611831932336, 22.030083564307837, 188.47228269393602, 352.64462069058135, 126.12106321878512, 46.8068877674751, 133.54306302774674, 38.354932545812765, 116.42874805366016, 39.69901200312445, 401.45785923516405, 80.96417857152093, 145.9973266203512, 72.31038814837271, 55.95739647317919, 392.89808082815944, 91.61280582326127, 85.21797691708129, 149.65188450877187, 66.19748391022671, 853.7324119017026, 586.4126097737983, 246.80383934007398, 156.09922231075123, 227.79967052262012, 210.65544295072763, 211.91141007228683, 205.33211434524134, 152.40118429994385, 573.5649923874723, 95.96609470823103, 221.7557525177198, 263.12772244470074, 287.4816587893227, 224.9267941812385, 186.0101911783695, 139.13197818931667, 156.58467377004695, 214.9688437311063, 201.0161100480883, 241.23487519207438, 251.18679717823173, 240.778048494747, 174.5501507749289, 158.90010514817453, 2935.739103169727, 270.55604012300097, 166.5688875930706, 205.6223135364639, 104.05292982143072, 95.94971153130052, 89.67182681825203, 224.36007680370625, 67.28966776977235, 89.22060394036383, 51.73408704806791, 63.97757232593184, 69.50596271906842, 46.456259640593785, 45.767713723718884, 40.7989042675158, 37.60968445849189, 36.050128643667605, 34.768038149735624, 34.60247184379594, 30.12381173905377, 32.816202119759616, 233.57101325763244, 28.948214377826, 28.832846531189205, 27.064377752320294, 26.79431718500332, 25.956857071516183, 81.66967860614355, 25.0264047929986, 395.15993618132154, 376.18288534863376, 40.35453319082556, 462.2031245702557, 93.52949736179032, 126.05852486642875, 144.53760258668876, 81.02040261152298, 298.94322764494393, 318.63325046474216, 188.54484988582004, 117.86051474017653, 399.6848038716864, 244.60178810973474, 263.1967866290089, 87.62046966380832, 170.24539582603768, 196.5827579746569, 904.5370010607062, 182.2533371290856, 811.7328810524058, 112.00354699335169, 636.89409265505, 304.7974340643687, 448.0479558477818, 318.76708554698865, 134.13436342766167, 201.03034971166136, 297.48744484926556, 288.9210654050747, 223.5691694417668, 190.85430872448737, 193.95595255418968, 170.82549438721006, 82.64404908537084, 60.80071633602187, 68.90757681153214, 43.386373753781825, 38.90433330184115, 36.08470679173213, 37.973130634130776, 31.247035193114495, 30.03608897127507, 30.174041929737268, 38.32995683449866, 28.898014093794632, 26.61464857098447, 62.48247668225281, 26.49288438209877, 22.81696823895821, 22.631745015910212, 216.20279849238622, 23.509986607022086, 21.5343154293149, 24.202520220912742, 21.565561875397044, 21.319390914111903, 20.74144780061298, 20.40080363712474, 20.533666676768124, 22.531195554799737, 19.788670205845893, 22.83266888801306, 20.056178766623773, 30.469708311917223, 65.75217724410606, 126.85276116514247, 49.29102631748939, 183.74120835192056, 234.8978144713956, 50.75277896239537, 146.73694645802902, 311.3099379655153, 617.555649083401, 90.16853128333206, 224.57121750783293, 1783.1179194789577, 82.55521788312826, 88.80977880119005, 265.3276382871718, 298.57830049849, 135.62192376251141, 171.31592205697663, 415.52037031529886, 109.71508529457088, 201.4858368435447, 178.15197926930009, 92.14370929099495, 78.47209308591498, 329.1129928004061, 299.2543171238327, 131.95527012706262, 193.75940740355938, 178.94716462889272, 103.90762257624552, 280.6768136356481, 114.22173711984776, 129.79789860993435, 107.96151400373489, 360.31909656301934, 159.91318429425925, 168.90565698075824, 227.83755845395788, 167.41906405082315, 163.90711432360004, 230.14980892942995, 156.11254999148994, 147.22258934723328, 138.607861350216, 136.15084442706925, 299.38723059807364, 242.50117280472506, 60.88163144835404, 52.5537369812657, 84.25550245434505, 40.79962956552884, 37.07950144747705, 37.014527690159085, 31.528002248152664, 28.131896979326584, 25.784529740415973, 25.205828475663722, 75.04636555543388, 21.016128217137332, 24.226721665031086, 19.701157036335626, 22.24608109069246, 19.676285196107685, 18.157098647425634, 375.9247722420823, 17.158895762090804, 126.77101983371345, 260.0614994913194, 18.23647897439895, 19.183728552933385, 20.90085322973714, 26.543950783191388, 24.77573821864295, 15.719677530936286, 765.9779289190536, 191.0883810260622, 353.11378923988957, 141.1202067378664, 49.67654058622904, 90.98219129797751, 238.06851228574988, 39.18672821715256, 192.90669775573872, 496.5248840803798, 97.93955188012184, 110.46694858451231, 72.38863543314292, 266.35606814868805, 36.38426590220304, 181.97561049187857, 425.2349226161001, 236.6194215810393, 480.30959780271127, 254.64565467953045, 953.2515425844548, 126.14173215544942, 120.98497488726657, 117.01429870695465, 734.931309891391, 610.1047924441663, 231.8570505657881, 127.20043558385869, 414.95732196601045, 182.9523989855304, 227.3923213303737, 193.92846191924878, 244.39081743487492, 178.48875921490313, 232.86012720389112, 192.16401601898633, 175.85224161287871, 196.08863988188574, 92.1656875810515, 71.76475062903582, 46.85329729235933, 57.723675591020196, 31.179487926267136, 30.62551917080837, 30.05526784312081, 27.662795559542424, 25.777913195880565, 25.5665950349245, 25.848405774207645, 24.53162199430887, 22.388687356130408, 20.70505343027018, 19.0897427792439, 18.81860844549391, 17.265649086680313, 99.80373743667353, 85.5284799896424, 21.035617045073817, 23.77511767093979, 15.013276775540984, 123.35564717636666, 16.5397302866075, 21.418694062896794, 48.9644194937461, 37.80885832545885, 23.522167248982665, 20.9170083819116, 196.78660353796639, 75.23918297656611, 47.79167084196372, 40.07629683323888, 84.17474428500915, 32.01349404174818, 55.10770332562078, 1333.6719626505728, 310.62214867587295, 169.6963294724319, 218.62265292579136, 112.6646812661196, 1049.6601616324551, 86.6658092294981, 143.43711692998943, 128.13255884731294, 106.05398102787292, 70.59288716146854, 122.4636946139338, 70.62152618274078, 167.11893799115597, 209.86472460483992, 194.36276442053455, 340.3615683390585, 114.52282143182728, 116.38347865196974, 495.5287731445651, 150.03253419178762, 434.9737906790842, 422.37175420006315, 464.2426777261609, 157.48767608459542, 272.0917779010175, 274.0410860192193, 227.6069957126462, 169.14227641371454, 180.62840270222077, 148.2437153912789, 158.70549687141204, 164.01244721570268, 151.04436598792276, 163.17861572840013, 165.1308865039749, 192.62632203024992, 160.52674833982917, 154.94824515632627, 152.29943677170954, 110.80753414152736, 75.10821193231631, 187.46423813006473, 48.66978570009207, 47.85400558277879, 38.354214569061945, 33.74992794239366, 335.99425415141263, 25.220026551825224, 24.396340691155594, 23.25067277292498, 23.037319989755854, 22.642318150094862, 23.336055877883595, 27.435190537589136, 30.942791476825416, 21.820839544975865, 15.15404622573299, 15.12608002872897, 15.85577448779252, 35.2315778402814, 15.990503213183077, 18.845967808209924, 109.97125346534382, 40.234529812469724, 25.74048933533918, 33.05544459291282, 56.46705052145447, 27.873575715920307, 28.48392225229612, 848.3901323525233, 255.22052327433428, 42.19042740783629, 66.1526763018842, 104.05266459637659, 112.43751161241761, 286.60696504151167, 134.79083002478308, 89.76638608561193, 71.24588080011783, 352.7556575163045, 138.5661845211864, 146.3943939886586, 134.02304964037086, 118.5184898873099, 299.3882667317035, 222.49471883903314, 257.6171721183113, 303.63905330661277, 203.3415118252754, 357.56958496833175, 150.62504608610607, 337.2645997069532, 203.99010040995347, 312.30264978094806, 183.9848927536516, 246.8644567172535, 264.6106836733363, 210.02633061621927, 146.5020649911285, 169.46822521535202, 138.38316535118807, 131.3637912213698, 125.23651441541547, 253.76077757192903, 83.37536231903941, 242.46840481922385, 71.78712320769998, 61.485890397757935, 51.77751082373585, 55.57159933627202, 43.38002272442445, 44.137456256832806, 28.793722673347986, 28.70113775999341, 37.35217204107678, 28.73343918185433, 28.30406220198676, 28.322799992744876, 24.43333144955626, 51.64590343638848, 18.53885956171821, 20.129345157293635, 36.390684647038924, 15.787604183740378, 23.629680642328662, 102.88409462668909, 17.962317699329468, 16.398391897414644, 78.07151910803384, 105.06889178025293, 18.93905362200119, 25.23953843995752, 53.954386075215965, 40.83218576689233, 225.651529072251, 152.1785937925234, 380.98909563828244, 326.53600873074697, 313.00452662631267, 243.89640697122852, 47.251810142421505, 70.4963598731771, 99.67997154281302, 51.7595166124505, 62.75165215986992, 139.603688573919, 58.37748102839744, 208.2915643000558, 168.45386355366554, 64.65526504477685, 454.8572114812385, 193.81207398183216, 137.00465380094403, 152.55937239543738, 123.2356711770446, 100.67869970379677, 246.78788887312922, 125.10630291370278, 82.69172235502725, 80.67830688138406, 105.7417961868911, 129.5909398820839, 116.22710714176787, 119.29512016592135, 134.85090160531206, 128.7478731834693, 108.65383466258162, 122.45688599695033, 104.21674558491837, 102.0983226832386, 60.04886487250735, 54.29389858487479, 46.62085390830019, 39.993755203304694, 38.5113035929221, 64.95816683124785, 31.159891460147378, 29.929343167218146, 28.767806238496423, 23.162424237317094, 130.9970438601943, 22.10703051811436, 21.721987450067502, 21.635109084389722, 18.461414050513895, 16.719799055187686, 15.706548010554323, 59.40522475402759, 31.81243003859823, 16.51066441081805, 70.53323194219786, 707.2495681971557, 29.829128476155844, 18.545580071645357, 427.15789941453073, 209.5474510873764, 28.175922275553106, 21.975449607996858, 21.190744843964243, 16.839799466313433, 131.7243158649158, 99.5736610072204, 81.3899213355406, 177.53973981782457, 101.29455270528314, 115.16043684513907, 44.16846637287747, 1120.1009562815377, 191.05548906700005, 80.29844509985227, 516.4450088825973, 230.10878046896624, 113.39455659423822, 148.2360239222737, 397.8219384396806, 101.04940373186062, 445.78758489625625, 83.90192362812175, 86.93837819496359, 197.65674473499135, 175.28772105347514, 99.05268629202887, 190.43746848227275, 128.33706726221047, 127.81811544085656, 121.15765792849389, 118.01416424503083, 133.53629839672269, 95.72007097570203, 95.15503202620494, 90.13633848441407], \"Total\": [2938.0, 2651.0, 4764.0, 1229.0, 785.0, 998.0, 828.0, 3241.0, 3783.0, 2965.0, 639.0, 1377.0, 491.0, 1072.0, 817.0, 5061.0, 497.0, 744.0, 499.0, 1607.0, 1166.0, 423.0, 1910.0, 413.0, 486.0, 519.0, 395.0, 649.0, 587.0, 553.0, 72.4943559869692, 59.36117925732631, 140.12269305131227, 51.47134141689772, 45.21213503883917, 57.56235012339779, 33.48531447692874, 31.344581822289154, 112.23703020657432, 30.96275084093423, 80.54918227286261, 28.135364362215803, 29.553640003267407, 24.80690128148818, 23.842693966517647, 35.04543819523417, 22.097051389788263, 27.233434480182655, 24.168754308340606, 19.856645203779753, 20.338027312858166, 16.982271952966943, 69.76800563475629, 21.536353760836413, 14.061983734205567, 36.56618946309505, 122.04676149999466, 18.952283021793505, 26.278450231762776, 17.536282068110523, 113.02176879485094, 160.42613310531934, 57.34157861897992, 649.1929370691448, 353.1922095793313, 433.1017865144737, 236.84993972869634, 65.50301310105898, 157.60972482022464, 52.066289969776435, 396.3141810987141, 1607.050583730051, 210.29428586571592, 71.92369666618458, 70.29612363106403, 1910.0777851111595, 150.2285948924151, 1065.3032067408815, 929.30619615726, 3547.2080586451702, 114.30051143618944, 367.3205239190166, 1782.6944134284536, 530.71716327247, 1507.048800580094, 1201.9049651772523, 936.1318818291421, 323.5815770955683, 914.9847638624803, 411.4450756585362, 1037.6042863524542, 504.83667216913346, 1084.9562897038384, 1475.0960834786213, 1117.230967434868, 3611.932091715938, 546.2370582174284, 1083.1178460330646, 453.852877934524, 650.2359430356843, 634.7636437484448, 5061.907570955655, 1446.212139000902, 43.99866112920084, 41.28361141874343, 87.73119344758277, 50.00559523619564, 39.6987831204153, 39.07917354772261, 39.6144581351704, 63.88392140525455, 33.07654411513807, 32.33757252845782, 31.235339843489026, 29.74801712072377, 29.655139633526083, 28.698979892491586, 106.18347569897028, 26.881077935139192, 27.658220761592265, 25.911146360925976, 79.46038713826042, 32.590153574534575, 25.019943143953384, 24.624786133347104, 22.933782263532564, 28.743756799805983, 21.067915796515113, 19.672438381689762, 86.20549298699692, 19.752219756786896, 18.416057514304303, 18.33404764492896, 30.54313080542347, 273.30224445365286, 114.39656799564438, 45.39372069993167, 285.093017170357, 71.71096926522462, 1072.860609673468, 75.63059277605733, 45.09248586713554, 126.28867776045907, 130.86665766035657, 489.334027533182, 332.4099659185969, 1377.9631401909735, 478.831860030929, 46.94798358484947, 515.1357135505583, 204.8353583822664, 297.0695232282739, 309.3739664084944, 107.43525798971397, 224.20008207324744, 467.8068217244282, 558.5860399166049, 1011.9866260229425, 296.0963915642379, 4764.090421877766, 547.9996513920207, 3783.1915118377856, 559.8977938930921, 5061.907570955655, 211.02489445533863, 1166.7409327943576, 3611.932091715938, 569.4046842779171, 3547.2080586451702, 1446.212139000902, 1717.7099172403157, 1224.1118410779063, 866.5855248654784, 1457.6025844752521, 936.1318818291421, 1098.7430923446832, 1910.0777851111595, 138.0369966651611, 639.1846503747744, 59.55956498253106, 55.48312351105329, 53.554975388722006, 57.23734794792106, 35.501597196710826, 33.89366219978527, 33.069646193447056, 29.766194866915473, 30.257723436707632, 30.97276110927349, 29.284071851056446, 27.68282540250193, 28.386958627018597, 39.074037404222224, 26.4541482245459, 26.377193002394687, 26.49831533423966, 25.07083786479683, 25.000615261126175, 25.056590900546688, 45.609611456576474, 24.015951965675587, 23.92749485393891, 74.32058027004764, 47.36488695740934, 23.354177565700926, 1229.9376491878222, 22.932497766839354, 197.1408757454947, 376.6974897736356, 133.76258445659, 49.262751921827174, 145.51069485972118, 40.21519205856594, 127.62789363795683, 41.845541424436206, 486.80599103446053, 92.3417186596216, 176.66792055921093, 83.97357949356186, 63.179798328051824, 587.2276908908467, 112.05510090050734, 108.97722488896612, 226.40437472600343, 88.34773759443584, 3241.678695977423, 2651.5700080631664, 716.5906854107338, 354.7390262365981, 654.7842163263144, 597.3130515785763, 624.3286313856427, 600.1509728892786, 379.9121985262099, 5061.907570955655, 170.49892291221732, 992.1217307925427, 1457.6025844752521, 1782.6944134284536, 1083.1178460330646, 774.9877610069224, 448.26565607702815, 638.2876634969459, 1717.7099172403157, 1446.212139000902, 2965.238851909155, 3611.932091715938, 3547.2080586451702, 1475.0960834786213, 940.8319284135231, 2938.8265806914387, 271.56421820573047, 167.48224895535571, 206.96687697712528, 104.95787603233502, 96.8910221310095, 90.57118950227631, 226.83138752469782, 68.20141041289132, 90.49023349254006, 52.630735796687915, 65.12349470492792, 70.84380206283029, 47.37477172861198, 46.684283454980054, 41.69466444518858, 38.51065245763548, 36.95826139275285, 35.661981920780136, 35.50111148962352, 31.017339305936115, 33.814682846759, 240.77324015707927, 29.84323038735036, 29.726375307350146, 27.958927100242747, 27.6954116263965, 26.852354739575173, 84.5663388723193, 25.921121942352542, 413.4410459393682, 395.2677173523198, 41.88097778600739, 499.54301303171485, 102.2229884362491, 140.33363604836666, 165.1672653199004, 89.22076586335666, 367.3727071691163, 411.94632815773866, 230.66538672497455, 140.24211350427336, 594.0245028748587, 338.96367718221126, 371.74657950227464, 103.17074480036207, 236.17595233504903, 338.947626700646, 3783.1915118377856, 359.4634891141267, 5061.907570955655, 164.7083387538409, 4764.090421877766, 1377.9631401909735, 3611.932091715938, 1717.7099172403157, 256.51586085693907, 756.0034329036646, 3241.678695977423, 2965.238851909155, 1336.680209251609, 879.2738689656397, 1046.1453799129924, 1457.6025844752521, 83.81140774990335, 61.71949644389218, 69.94902203380246, 44.324261239528866, 39.7972544106733, 36.98404161172962, 39.027518479223644, 32.13973016232456, 30.93755853431679, 31.121722291038, 39.535154006733784, 29.8074343453685, 27.508677404697384, 64.80486725194692, 27.520772270970113, 23.709955866708906, 23.537740816975386, 224.92886020859447, 24.462942711445436, 22.42746803392282, 25.209572480647235, 22.47203760026163, 22.215548705760536, 21.637032842566835, 21.295075822711027, 21.44848823952781, 23.541803467564485, 20.683613453451947, 23.916926597083698, 21.02964798251603, 32.01521011203889, 70.44708376707747, 140.68605107648466, 53.2714641716424, 210.81454071703087, 281.79438411939344, 55.659559308656284, 172.37391407334601, 390.4386410127633, 817.2259691697161, 103.54385363183322, 276.6001734117671, 2651.5700080631664, 96.46170178922635, 104.72586511998938, 355.07163156689563, 440.9790291264562, 181.93871180417892, 243.55796565520882, 712.3724918557364, 145.09824463261856, 314.1245115069556, 271.47894302573593, 124.28732366050956, 101.34490589643103, 703.4858385164943, 624.0378418309991, 205.54918803514428, 363.3245801646747, 360.0373883152578, 151.0754620062864, 969.2199897503419, 195.73624669489487, 262.149684892831, 182.0764054343749, 3547.2080586451702, 634.7636437484448, 774.9877610069224, 3611.932091715938, 1071.2636552324836, 992.1217307925427, 5061.907570955655, 903.0949208128733, 1011.9866260229425, 1046.1453799129924, 1037.6042863524542, 300.3624012711755, 243.55089065546, 61.80038122683033, 53.59125644071229, 85.94809082628733, 41.70728652344005, 37.97539905251572, 37.93889459716658, 32.42303318856781, 29.028554856884654, 26.686976931411973, 26.102500126692426, 78.23938976859243, 21.918125920831574, 25.28359908186769, 20.59570537661603, 23.30908689537502, 20.62783503052432, 19.051532516465887, 395.3274199773366, 18.053791468701153, 134.4248094623528, 276.03363619386255, 19.399287657909262, 20.45905735523225, 22.313056478610736, 28.440834375587478, 26.62367000163461, 17.001584287219075, 828.4462193488434, 219.9390402889987, 419.7673172312616, 162.8055703910486, 55.19489511517033, 107.49005572560172, 309.85212863159416, 43.731436140267284, 250.55382760191753, 744.4230173314758, 123.0920350270799, 142.11151076247126, 89.79593653364547, 435.11045446255787, 41.016800859102766, 303.9054393024214, 903.0949208128733, 453.4007487396568, 1166.7409327943576, 569.4046842779171, 5061.907570955655, 237.88249623428638, 227.08569529380085, 216.09065096888614, 4764.090421877766, 3611.932091715938, 774.9877610069224, 252.24253035496324, 3783.1915118377856, 672.4709116277822, 1457.6025844752521, 1065.3032067408815, 2965.238851909155, 1011.9866260229425, 3241.678695977423, 1446.212139000902, 1336.680209251609, 3547.2080586451702, 93.18070627799169, 72.67649631451827, 47.75472098679181, 59.09309191033459, 32.0742602018859, 31.521043305078322, 30.999195800284138, 28.558049855166484, 26.672585161362186, 26.467556343186164, 26.844895941781544, 25.489131114285673, 23.293594717904718, 21.610158883166758, 19.985813427293166, 19.716031850433932, 18.164971715415962, 105.80939019002739, 91.50609380578533, 22.794270313250635, 25.85045177910677, 17.023561554087287, 140.3094652659333, 18.96148752418698, 24.796819515745234, 56.856000891788234, 43.90348210894834, 27.63519379434089, 24.584479433147823, 232.99587203387767, 89.65126345745875, 57.564603834262975, 48.08418610948173, 107.61900394237193, 38.80194666397939, 72.40896848851388, 2965.238851909155, 553.0296218755375, 271.05460444294164, 382.18243718873015, 184.39936409141458, 3241.678695977423, 134.8623296709046, 261.07552622413584, 235.05324887834573, 187.25455243730434, 109.40913036866853, 248.71897552443122, 112.28512487766967, 436.8848388623143, 657.9085024087485, 590.80012768022, 1507.048800580094, 261.5971164461999, 272.99406951345355, 3783.1915118377856, 454.33527578857104, 3611.932091715938, 3547.2080586451702, 4764.090421877766, 527.3545130778597, 1782.6944134284536, 1910.0777851111595, 1336.680209251609, 744.4230173314758, 1201.9049651772523, 621.5806770411293, 898.5783652181057, 1071.2636552324836, 756.0034329036646, 1475.0960834786213, 1607.050583730051, 5061.907570955655, 1457.6025844752521, 1117.230967434868, 992.1217307925427, 112.1290889023515, 76.11233574870836, 190.07043772759306, 49.66709786548369, 48.83655690530566, 39.25243246568772, 34.662171655598655, 346.93792626530086, 26.126935964872143, 25.33085347567263, 24.14690097210468, 23.93177221586138, 23.554301603891066, 24.328143006423087, 28.74392527149513, 32.43555605663221, 23.093530202548234, 16.05177113516339, 16.023474039911353, 16.82310258284202, 37.41991682633676, 17.02008969800838, 20.148638808839742, 119.20463730444799, 43.78055387971938, 28.054131782453872, 36.027066709969446, 62.59937351206633, 31.247047107551168, 31.99862132970059, 998.2261610774832, 303.963653276263, 49.33046090062361, 81.72893025947562, 146.32634736357986, 163.00857756177484, 650.2359430356843, 258.79182554072264, 153.48973677062543, 118.16665347798144, 1201.9049651772523, 310.61573275953305, 350.6918207135904, 338.947626700646, 298.7712010094864, 1475.0960834786213, 1011.9866260229425, 1377.9631401909735, 1910.0777851111595, 1083.1178460330646, 3241.678695977423, 672.4709116277822, 3783.1915118377856, 1607.050583730051, 4764.090421877766, 1507.048800580094, 3611.932091715938, 5061.907570955655, 2965.238851909155, 1166.7409327943576, 3547.2080586451702, 1717.7099172403157, 1782.6944134284536, 992.1217307925427, 254.72289863443672, 84.27046863453958, 245.1248189067459, 72.6811138388298, 62.433600507593596, 52.69909892413232, 56.635674688574504, 44.34471400158966, 45.12789638547006, 29.690990103992746, 29.609844822559527, 38.54262309496994, 29.70471369396781, 29.269175151909327, 29.384024468093454, 25.35422340249801, 54.03840334760995, 19.431934040281046, 21.137698148071646, 38.28651964728108, 16.712852184335887, 25.078975260040526, 109.44206124766019, 19.16104715075232, 18.229788154669766, 88.1527625159368, 118.91473741826788, 21.499036086805283, 29.445183976841317, 62.95609428497694, 47.90659428880877, 277.8725116490437, 185.38324893355986, 497.6397104674363, 423.36456101390405, 519.6510941715525, 408.16044829214064, 58.3185016341796, 97.82972947123562, 152.9935977356524, 69.22950708607505, 92.9870625211095, 315.1810150573129, 86.7407424236188, 654.7842163263144, 555.3152918857082, 107.05888454669413, 5061.907570955655, 940.8319284135231, 498.52135581189077, 707.996309162346, 489.334027533182, 307.2050927497042, 3547.2080586451702, 587.2276908908467, 206.93507677255224, 198.88631295767186, 515.1357135505583, 1457.6025844752521, 1084.9562897038384, 1717.7099172403157, 3783.1915118377856, 2965.238851909155, 1072.860609673468, 4764.090421877766, 3611.932091715938, 1782.6944134284536, 60.95611209942462, 55.31256371077664, 47.63791516664798, 40.89910515579237, 39.40801877086543, 66.6068503187667, 32.05918539979183, 30.818813900205686, 29.665266492766385, 24.06423536769346, 136.15134316535725, 22.996744696949325, 22.61163259551403, 22.52462406174339, 19.417250463718574, 17.662940621286015, 16.597280031977157, 63.97091603062841, 34.66715224252802, 18.05190162766434, 78.18893226112542, 785.0609105937191, 34.13214564227821, 21.325950497593283, 491.3706923157937, 257.30011578706177, 36.67544175428272, 28.72046389700395, 27.858814024883827, 22.233656634512656, 180.20548151107533, 142.75181992834263, 116.3146297104496, 272.99198770336676, 174.27649447080745, 216.77583505193883, 63.61183181266288, 4764.090421877766, 546.2370582174284, 163.8254965057189, 3783.1915118377856, 1046.1453799129924, 332.7047337760157, 553.0296218755375, 3611.932091715938, 295.98161131461285, 5061.907570955655, 224.73761088198248, 262.1076221643181, 1717.7099172403157, 1446.212139000902, 411.6696903782277, 3241.678695977423, 1166.7409327943576, 1224.1118410779063, 1098.7430923446832, 1475.0960834786213, 2965.238851909155, 879.2738689656397, 1336.680209251609, 936.1318818291421], \"Category\": [\"Default\", \"Default\", \"Default\", \"Default\", \"Default\", \"Default\", \"Default\", \"Default\", \"Default\", \"Default\", \"Default\", \"Default\", \"Default\", \"Default\", \"Default\", \"Default\", \"Default\", \"Default\", \"Default\", \"Default\", \"Default\", \"Default\", \"Default\", \"Default\", \"Default\", \"Default\", \"Default\", \"Default\", \"Default\", \"Default\", \"Topic1\", \"Topic1\", \"Topic1\", \"Topic1\", \"Topic1\", \"Topic1\", \"Topic1\", \"Topic1\", \"Topic1\", \"Topic1\", \"Topic1\", \"Topic1\", \"Topic1\", \"Topic1\", \"Topic1\", \"Topic1\", \"Topic1\", \"Topic1\", \"Topic1\", \"Topic1\", \"Topic1\", \"Topic1\", \"Topic1\", \"Topic1\", \"Topic1\", \"Topic1\", \"Topic1\", \"Topic1\", \"Topic1\", \"Topic1\", \"Topic1\", \"Topic1\", \"Topic1\", \"Topic1\", \"Topic1\", \"Topic1\", \"Topic1\", \"Topic1\", \"Topic1\", \"Topic1\", \"Topic1\", \"Topic1\", \"Topic1\", \"Topic1\", \"Topic1\", \"Topic1\", \"Topic1\", \"Topic1\", \"Topic1\", \"Topic1\", \"Topic1\", \"Topic1\", \"Topic1\", \"Topic1\", \"Topic1\", \"Topic1\", \"Topic1\", \"Topic1\", \"Topic1\", \"Topic1\", \"Topic1\", \"Topic1\", \"Topic1\", \"Topic1\", \"Topic1\", \"Topic1\", \"Topic1\", \"Topic1\", \"Topic1\", \"Topic1\", \"Topic1\", \"Topic1\", \"Topic1\", \"Topic2\", \"Topic2\", \"Topic2\", \"Topic2\", \"Topic2\", \"Topic2\", \"Topic2\", \"Topic2\", \"Topic2\", \"Topic2\", \"Topic2\", \"Topic2\", \"Topic2\", \"Topic2\", \"Topic2\", \"Topic2\", \"Topic2\", \"Topic2\", \"Topic2\", \"Topic2\", \"Topic2\", \"Topic2\", \"Topic2\", \"Topic2\", \"Topic2\", \"Topic2\", \"Topic2\", \"Topic2\", \"Topic2\", \"Topic2\", \"Topic2\", \"Topic2\", \"Topic2\", \"Topic2\", \"Topic2\", \"Topic2\", \"Topic2\", \"Topic2\", \"Topic2\", \"Topic2\", \"Topic2\", \"Topic2\", \"Topic2\", \"Topic2\", \"Topic2\", \"Topic2\", \"Topic2\", \"Topic2\", \"Topic2\", \"Topic2\", \"Topic2\", \"Topic2\", \"Topic2\", \"Topic2\", \"Topic2\", \"Topic2\", \"Topic2\", \"Topic2\", \"Topic2\", \"Topic2\", \"Topic2\", \"Topic2\", \"Topic2\", \"Topic2\", \"Topic2\", \"Topic2\", \"Topic2\", \"Topic2\", \"Topic2\", \"Topic2\", \"Topic2\", \"Topic2\", \"Topic2\", \"Topic2\", \"Topic3\", \"Topic3\", \"Topic3\", \"Topic3\", \"Topic3\", \"Topic3\", \"Topic3\", \"Topic3\", \"Topic3\", \"Topic3\", \"Topic3\", \"Topic3\", \"Topic3\", \"Topic3\", \"Topic3\", \"Topic3\", \"Topic3\", \"Topic3\", \"Topic3\", \"Topic3\", \"Topic3\", \"Topic3\", \"Topic3\", \"Topic3\", \"Topic3\", \"Topic3\", \"Topic3\", \"Topic3\", \"Topic3\", \"Topic3\", \"Topic3\", \"Topic3\", \"Topic3\", \"Topic3\", \"Topic3\", \"Topic3\", \"Topic3\", \"Topic3\", \"Topic3\", \"Topic3\", \"Topic3\", \"Topic3\", \"Topic3\", \"Topic3\", \"Topic3\", \"Topic3\", \"Topic3\", \"Topic3\", \"Topic3\", \"Topic3\", \"Topic3\", \"Topic3\", \"Topic3\", \"Topic3\", \"Topic3\", \"Topic3\", \"Topic3\", \"Topic3\", \"Topic3\", \"Topic3\", \"Topic3\", \"Topic3\", \"Topic3\", \"Topic3\", \"Topic3\", \"Topic3\", \"Topic3\", \"Topic3\", \"Topic3\", \"Topic3\", \"Topic3\", \"Topic3\", \"Topic3\", \"Topic4\", \"Topic4\", \"Topic4\", \"Topic4\", \"Topic4\", \"Topic4\", \"Topic4\", \"Topic4\", \"Topic4\", \"Topic4\", \"Topic4\", \"Topic4\", \"Topic4\", \"Topic4\", \"Topic4\", \"Topic4\", \"Topic4\", \"Topic4\", \"Topic4\", \"Topic4\", \"Topic4\", \"Topic4\", \"Topic4\", \"Topic4\", \"Topic4\", \"Topic4\", \"Topic4\", \"Topic4\", \"Topic4\", \"Topic4\", \"Topic4\", \"Topic4\", \"Topic4\", \"Topic4\", \"Topic4\", \"Topic4\", \"Topic4\", \"Topic4\", \"Topic4\", \"Topic4\", \"Topic4\", \"Topic4\", \"Topic4\", \"Topic4\", \"Topic4\", \"Topic4\", \"Topic4\", \"Topic4\", \"Topic4\", \"Topic4\", \"Topic4\", \"Topic4\", \"Topic4\", \"Topic4\", \"Topic4\", \"Topic4\", \"Topic4\", \"Topic4\", \"Topic4\", \"Topic4\", \"Topic4\", \"Topic4\", \"Topic4\", \"Topic4\", \"Topic5\", \"Topic5\", \"Topic5\", \"Topic5\", \"Topic5\", \"Topic5\", \"Topic5\", \"Topic5\", \"Topic5\", \"Topic5\", \"Topic5\", \"Topic5\", \"Topic5\", \"Topic5\", \"Topic5\", \"Topic5\", \"Topic5\", \"Topic5\", \"Topic5\", \"Topic5\", \"Topic5\", \"Topic5\", \"Topic5\", \"Topic5\", \"Topic5\", \"Topic5\", \"Topic5\", \"Topic5\", \"Topic5\", \"Topic5\", \"Topic5\", \"Topic5\", \"Topic5\", \"Topic5\", \"Topic5\", \"Topic5\", \"Topic5\", \"Topic5\", \"Topic5\", \"Topic5\", \"Topic5\", \"Topic5\", \"Topic5\", \"Topic5\", \"Topic5\", \"Topic5\", \"Topic5\", \"Topic5\", \"Topic5\", \"Topic5\", \"Topic5\", \"Topic5\", \"Topic5\", \"Topic5\", \"Topic5\", \"Topic5\", \"Topic5\", \"Topic5\", \"Topic5\", \"Topic5\", \"Topic5\", \"Topic5\", \"Topic5\", \"Topic5\", \"Topic5\", \"Topic5\", \"Topic5\", \"Topic5\", \"Topic5\", \"Topic5\", \"Topic5\", \"Topic5\", \"Topic5\", \"Topic5\", \"Topic5\", \"Topic5\", \"Topic6\", \"Topic6\", \"Topic6\", \"Topic6\", \"Topic6\", \"Topic6\", \"Topic6\", \"Topic6\", \"Topic6\", \"Topic6\", \"Topic6\", \"Topic6\", \"Topic6\", \"Topic6\", \"Topic6\", \"Topic6\", \"Topic6\", \"Topic6\", \"Topic6\", \"Topic6\", \"Topic6\", \"Topic6\", \"Topic6\", \"Topic6\", \"Topic6\", \"Topic6\", \"Topic6\", \"Topic6\", \"Topic6\", \"Topic6\", \"Topic6\", \"Topic6\", \"Topic6\", \"Topic6\", \"Topic6\", \"Topic6\", \"Topic6\", \"Topic6\", \"Topic6\", \"Topic6\", \"Topic6\", \"Topic6\", \"Topic6\", \"Topic6\", \"Topic6\", \"Topic6\", \"Topic6\", \"Topic6\", \"Topic6\", \"Topic6\", \"Topic6\", \"Topic6\", \"Topic6\", \"Topic6\", \"Topic6\", \"Topic6\", \"Topic6\", \"Topic6\", \"Topic6\", \"Topic6\", \"Topic6\", \"Topic6\", \"Topic6\", \"Topic6\", \"Topic6\", \"Topic6\", \"Topic6\", \"Topic7\", \"Topic7\", \"Topic7\", \"Topic7\", \"Topic7\", \"Topic7\", \"Topic7\", \"Topic7\", \"Topic7\", \"Topic7\", \"Topic7\", \"Topic7\", \"Topic7\", \"Topic7\", \"Topic7\", \"Topic7\", \"Topic7\", \"Topic7\", \"Topic7\", \"Topic7\", \"Topic7\", \"Topic7\", \"Topic7\", \"Topic7\", \"Topic7\", \"Topic7\", \"Topic7\", \"Topic7\", \"Topic7\", \"Topic7\", \"Topic7\", \"Topic7\", \"Topic7\", \"Topic7\", \"Topic7\", \"Topic7\", \"Topic7\", \"Topic7\", \"Topic7\", \"Topic7\", \"Topic7\", \"Topic7\", \"Topic7\", \"Topic7\", \"Topic7\", \"Topic7\", \"Topic7\", \"Topic7\", \"Topic7\", \"Topic7\", \"Topic7\", \"Topic7\", \"Topic7\", \"Topic7\", \"Topic7\", \"Topic7\", \"Topic7\", \"Topic7\", \"Topic7\", \"Topic7\", \"Topic7\", \"Topic7\", \"Topic7\", \"Topic7\", \"Topic7\", \"Topic7\", \"Topic7\", \"Topic7\", \"Topic7\", \"Topic7\", \"Topic7\", \"Topic7\", \"Topic7\", \"Topic7\", \"Topic7\", \"Topic7\", \"Topic8\", \"Topic8\", \"Topic8\", \"Topic8\", \"Topic8\", \"Topic8\", \"Topic8\", \"Topic8\", \"Topic8\", \"Topic8\", \"Topic8\", \"Topic8\", \"Topic8\", \"Topic8\", \"Topic8\", \"Topic8\", \"Topic8\", \"Topic8\", \"Topic8\", \"Topic8\", \"Topic8\", \"Topic8\", \"Topic8\", \"Topic8\", \"Topic8\", \"Topic8\", \"Topic8\", \"Topic8\", \"Topic8\", \"Topic8\", \"Topic8\", \"Topic8\", \"Topic8\", \"Topic8\", \"Topic8\", \"Topic8\", \"Topic8\", \"Topic8\", \"Topic8\", \"Topic8\", \"Topic8\", \"Topic8\", \"Topic8\", \"Topic8\", \"Topic8\", \"Topic8\", \"Topic8\", \"Topic8\", \"Topic8\", \"Topic8\", \"Topic8\", \"Topic8\", \"Topic8\", \"Topic8\", \"Topic8\", \"Topic8\", \"Topic8\", \"Topic8\", \"Topic8\", \"Topic8\", \"Topic8\", \"Topic8\", \"Topic8\", \"Topic8\", \"Topic9\", \"Topic9\", \"Topic9\", \"Topic9\", \"Topic9\", \"Topic9\", \"Topic9\", \"Topic9\", \"Topic9\", \"Topic9\", \"Topic9\", \"Topic9\", \"Topic9\", \"Topic9\", \"Topic9\", \"Topic9\", \"Topic9\", \"Topic9\", \"Topic9\", \"Topic9\", \"Topic9\", \"Topic9\", \"Topic9\", \"Topic9\", \"Topic9\", \"Topic9\", \"Topic9\", \"Topic9\", \"Topic9\", \"Topic9\", \"Topic9\", \"Topic9\", \"Topic9\", \"Topic9\", \"Topic9\", \"Topic9\", \"Topic9\", \"Topic9\", \"Topic9\", \"Topic9\", \"Topic9\", \"Topic9\", \"Topic9\", \"Topic9\", \"Topic9\", \"Topic9\", \"Topic9\", \"Topic9\", \"Topic9\", \"Topic9\", \"Topic9\", \"Topic9\", \"Topic9\", \"Topic9\", \"Topic9\", \"Topic9\", \"Topic9\", \"Topic9\", \"Topic9\", \"Topic9\", \"Topic9\", \"Topic9\", \"Topic9\", \"Topic9\", \"Topic9\", \"Topic9\", \"Topic9\", \"Topic10\", \"Topic10\", \"Topic10\", \"Topic10\", \"Topic10\", \"Topic10\", \"Topic10\", \"Topic10\", \"Topic10\", \"Topic10\", \"Topic10\", \"Topic10\", \"Topic10\", \"Topic10\", \"Topic10\", \"Topic10\", \"Topic10\", \"Topic10\", \"Topic10\", \"Topic10\", \"Topic10\", \"Topic10\", \"Topic10\", \"Topic10\", \"Topic10\", \"Topic10\", \"Topic10\", \"Topic10\", \"Topic10\", \"Topic10\", \"Topic10\", \"Topic10\", \"Topic10\", \"Topic10\", \"Topic10\", \"Topic10\", \"Topic10\", \"Topic10\", \"Topic10\", \"Topic10\", \"Topic10\", \"Topic10\", \"Topic10\", \"Topic10\", \"Topic10\", \"Topic10\", \"Topic10\", \"Topic10\", \"Topic10\", \"Topic10\", \"Topic10\", \"Topic10\", \"Topic10\", \"Topic10\", \"Topic10\", \"Topic10\", \"Topic10\", \"Topic10\", \"Topic10\", \"Topic10\", \"Topic10\"], \"logprob\": [30.0, 29.0, 28.0, 27.0, 26.0, 25.0, 24.0, 23.0, 22.0, 21.0, 20.0, 19.0, 18.0, 17.0, 16.0, 15.0, 14.0, 13.0, 12.0, 11.0, 10.0, 9.0, 8.0, 7.0, 6.0, 5.0, 4.0, 3.0, 2.0, 1.0, -6.2853, -6.4887, -5.6322, -6.6342, -6.7649, -6.5277, -7.0723, -7.1402, -5.8654, -7.1553, -6.2005, -7.2528, -7.2043, -7.383, -7.4234, -7.0383, -7.5024, -7.2944, -7.4146, -7.6139, -7.5918, -7.7805, -6.3769, -7.553, -7.9834, -7.031, -5.8274, -7.7042, -7.3794, -7.7862, -5.9367, -5.5935, -6.6167, -4.2876, -4.9241, -4.7378, -5.3169, -6.5149, -5.7174, -6.7295, -4.9425, -3.7189, -5.5049, -6.4608, -6.4876, -3.7691, -5.8617, -4.2777, -4.3986, -3.344, -6.1243, -5.2682, -4.2092, -5.1042, -4.4082, -4.5814, -4.7521, -5.448, -4.8158, -5.3136, -4.8695, -5.2831, -4.9069, -4.7584, -4.913, -4.5605, -5.2765, -5.047, -5.3505, -5.264, -5.3088, -4.9136, -5.1977, -6.7555, -6.8206, -6.067, -6.6293, -6.8605, -6.8766, -6.863, -6.3896, -7.048, -7.0723, -7.1075, -7.1572, -7.1603, -7.1945, -5.8866, -7.2631, -7.2347, -7.3, -6.1796, -7.0711, -7.3358, -7.3526, -7.4262, -7.204, -7.5147, -7.5866, -6.1093, -7.5833, -7.6556, -7.6603, -7.1503, -4.9815, -5.8473, -6.7643, -5.004, -6.3513, -3.813, -6.3282, -6.8019, -5.8861, -5.8778, -4.774, -5.1154, -3.9168, -4.8466, -6.7854, -4.856, -5.6094, -5.336, -5.308, -6.1444, -5.5874, -5.0502, -4.9364, -4.5088, -5.3994, -3.4547, -5.0126, -3.8401, -5.095, -3.7701, -5.7351, -4.7906, -4.3263, -5.2471, -4.4411, -4.9422, -4.8854, -5.0267, -5.1734, -5.0418, -5.3052, -5.4125, -5.3726, -5.3847, -3.8583, -6.2339, -6.3058, -6.3417, -6.276, -6.7624, -6.8091, -6.8346, -6.9427, -6.9263, -6.903, -6.9597, -7.0176, -6.9929, -6.6735, -7.0646, -7.0676, -7.0631, -7.1201, -7.1231, -7.1212, -6.5228, -7.1649, -7.1687, -6.0355, -6.4865, -7.1938, -3.2302, -7.2132, -5.0666, -4.4401, -5.4683, -6.4595, -5.4111, -6.6587, -5.5483, -6.6242, -4.3105, -5.9116, -5.322, -6.0246, -6.281, -4.332, -5.788, -5.8603, -5.2973, -6.1129, -3.5559, -3.9315, -4.797, -5.2551, -4.8771, -4.9553, -4.9494, -4.9809, -5.279, -3.9537, -5.7416, -4.904, -4.7329, -4.6444, -4.8898, -5.0798, -5.3701, -5.252, -4.9351, -5.0022, -4.8198, -4.7794, -4.8217, -5.1433, -5.2373, -2.3075, -4.6917, -5.1768, -4.9662, -5.6473, -5.7284, -5.7961, -4.879, -6.0832, -5.8011, -6.3461, -6.1337, -6.0508, -6.4537, -6.4686, -6.5836, -6.665, -6.7073, -6.7435, -6.7483, -6.8869, -6.8013, -4.8387, -6.9267, -6.9307, -6.994, -7.004, -7.0358, -5.8895, -7.0723, -4.3129, -4.3621, -6.5945, -4.1562, -5.7539, -5.4555, -5.3187, -5.8975, -4.592, -4.5282, -5.0529, -5.5227, -4.3015, -4.7926, -4.7193, -5.8192, -5.155, -5.0111, -3.4848, -5.0868, -3.593, -5.5737, -3.8356, -4.5726, -4.1873, -4.5278, -5.3934, -4.9888, -4.5968, -4.6261, -4.8825, -5.0407, -5.0246, -5.1516, -5.8576, -6.1646, -6.0394, -6.502, -6.6111, -6.6863, -6.6353, -6.8303, -6.8698, -6.8652, -6.6259, -6.9084, -6.9907, -6.1373, -6.9953, -7.1447, -7.1528, -4.896, -7.1147, -7.2025, -7.0857, -7.2011, -7.2126, -7.24, -7.2566, -7.2501, -7.1573, -7.2871, -7.144, -7.2736, -6.8554, -6.0863, -5.4291, -6.3744, -5.0586, -4.813, -6.3452, -5.2835, -4.5314, -3.8464, -5.7705, -4.858, -2.7861, -5.8587, -5.7857, -4.6912, -4.5731, -5.3623, -5.1287, -4.2426, -5.5743, -4.9665, -5.0895, -5.7488, -5.9094, -4.4758, -4.5709, -5.3897, -5.0056, -5.0851, -5.6287, -4.635, -5.534, -5.4062, -5.5904, -4.3852, -5.1975, -5.1428, -4.8435, -5.1517, -5.1729, -4.8334, -5.2216, -5.2802, -5.3405, -5.3584, -4.5211, -4.7318, -6.1139, -6.261, -5.789, -6.5142, -6.6098, -6.6115, -6.772, -6.8859, -6.9731, -6.9958, -5.9047, -7.1776, -7.0354, -7.2422, -7.1207, -7.2434, -7.3238, -4.2935, -7.3803, -5.3805, -4.6619, -7.3194, -7.2688, -7.1831, -6.944, -7.013, -7.4679, -3.5817, -4.9701, -4.3561, -5.2732, -6.3173, -5.7122, -4.7503, -6.5545, -4.9606, -4.0152, -5.6385, -5.5181, -5.9408, -4.638, -6.6287, -5.019, -4.1702, -4.7564, -4.0484, -4.683, -3.363, -5.3854, -5.4272, -5.4605, -3.6231, -3.8092, -4.7767, -5.3771, -4.1947, -5.0136, -4.7962, -4.9554, -4.7241, -5.0383, -4.7724, -4.9645, -5.0532, -4.9443, -5.637, -5.8872, -6.3135, -6.1049, -6.7208, -6.7387, -6.7575, -6.8405, -6.911, -6.9193, -6.9083, -6.9606, -7.052, -7.1302, -7.2114, -7.2257, -7.3118, -5.5574, -5.7117, -7.1143, -6.9919, -7.4516, -5.3455, -7.3548, -7.0963, -6.2695, -6.528, -7.0026, -7.12, -4.8784, -5.8399, -6.2937, -6.4698, -5.7277, -6.6944, -6.1513, -2.9649, -4.422, -5.0266, -4.7732, -5.4361, -3.2043, -5.6985, -5.1947, -5.3075, -5.4966, -5.9036, -5.3527, -5.9032, -5.0419, -4.8141, -4.8908, -4.3306, -5.4198, -5.4037, -3.9549, -5.1497, -4.0853, -4.1147, -4.0202, -5.1012, -4.5544, -4.5473, -4.7329, -5.0298, -4.9641, -5.1617, -5.0935, -5.0606, -5.143, -5.0657, -5.0538, -4.8998, -5.0821, -5.1175, -5.1347, -5.3408, -5.7296, -4.815, -6.1635, -6.1804, -6.4017, -6.5296, -4.2315, -6.8209, -6.8541, -6.9022, -6.9114, -6.9287, -6.8985, -6.7367, -6.6164, -6.9657, -7.3303, -7.3321, -7.285, -6.4866, -7.2766, -7.1122, -5.3483, -6.3538, -6.8005, -6.5504, -6.0149, -6.7209, -6.6992, -3.3052, -4.5064, -6.3064, -5.8566, -5.4037, -5.3261, -4.3904, -5.1448, -5.5513, -5.7824, -4.1828, -5.1172, -5.0622, -5.1505, -5.2735, -4.3468, -4.6436, -4.4971, -4.3327, -4.7337, -4.1692, -5.0338, -4.2277, -4.7305, -4.3046, -4.8337, -4.5397, -4.4703, -4.7013, -5.0615, -4.9159, -5.1185, -5.1706, -5.2183, -4.2446, -5.3576, -4.2901, -5.5072, -5.6621, -5.834, -5.7633, -6.0109, -5.9936, -6.4208, -6.424, -6.1606, -6.4229, -6.4379, -6.4373, -6.585, -5.8365, -6.8611, -6.7788, -6.1866, -7.0217, -6.6184, -5.1473, -6.8927, -6.9838, -5.4233, -5.1263, -6.8397, -6.5525, -5.7928, -6.0715, -4.362, -4.7559, -3.8382, -3.9924, -4.0347, -4.2842, -5.9255, -5.5254, -5.179, -5.8343, -5.6418, -4.8421, -5.714, -4.442, -4.6543, -5.6119, -3.661, -4.5141, -4.8609, -4.7534, -4.9668, -5.169, -4.2724, -4.9518, -5.3658, -5.3905, -5.1199, -4.9166, -5.0254, -4.9993, -4.8768, -4.9231, -5.0928, -4.9732, -5.1345, -5.155, -5.6019, -5.7027, -5.855, -6.0084, -6.0461, -5.5233, -6.258, -6.2982, -6.3378, -6.5546, -4.8219, -6.6012, -6.6188, -6.6228, -6.7814, -6.8805, -6.943, -5.6127, -6.2372, -6.8931, -5.441, -3.1357, -6.3016, -6.7769, -3.6399, -4.3521, -6.3586, -6.6072, -6.6435, -6.8733, -4.8164, -5.0962, -5.2978, -4.5179, -5.0791, -4.9508, -5.9091, -2.6759, -4.4445, -5.3113, -3.4501, -4.2585, -4.9662, -4.6983, -3.7111, -5.0815, -3.5972, -5.2674, -5.2319, -4.4106, -4.5307, -5.1014, -4.4478, -4.8424, -4.8465, -4.9, -4.9263, -4.8027, -5.1357, -5.1416, -5.1958], \"loglift\": [30.0, 29.0, 28.0, 27.0, 26.0, 25.0, 24.0, 23.0, 22.0, 21.0, 20.0, 19.0, 18.0, 17.0, 16.0, 15.0, 14.0, 13.0, 12.0, 11.0, 10.0, 9.0, 8.0, 7.0, 6.0, 5.0, 4.0, 3.0, 2.0, 1.0, 1.9529, 1.9494, 1.9469, 1.9465, 1.9454, 1.9411, 1.9383, 1.9364, 1.9357, 1.9336, 1.9324, 1.9319, 1.9311, 1.9276, 1.9268, 1.9267, 1.9238, 1.9228, 1.922, 1.9192, 1.9174, 1.909, 1.8996, 1.8989, 1.8949, 1.8916, 1.8899, 1.8756, 1.8735, 1.8712, 1.8574, 1.8504, 1.8559, 1.7583, 1.7306, 1.7129, 1.7374, 1.8246, 1.7442, 1.8396, 1.597, 1.4206, 1.6682, 1.7853, 1.7813, 1.1977, 1.6478, 1.273, 1.2886, 1.0037, 1.6586, 1.3472, 0.8266, 1.1433, 0.7956, 0.8486, 0.9279, 1.2943, 0.887, 1.1885, 0.7075, 1.0144, 0.6255, 0.4668, 0.5901, -0.2308, 0.9421, 0.4871, 1.0535, 0.7804, 0.7596, -0.9214, 0.0473, 1.9821, 1.9807, 1.9804, 1.9802, 1.9799, 1.9795, 1.9795, 1.975, 1.9748, 1.9731, 1.9727, 1.9717, 1.9717, 1.9703, 1.9699, 1.9672, 1.9671, 1.967, 1.9668, 1.9666, 1.9662, 1.9653, 1.9628, 1.9592, 1.9592, 1.9559, 1.9556, 1.9552, 1.9528, 1.9526, 1.9523, 1.9296, 1.9347, 1.942, 1.8649, 1.8977, 1.7306, 1.8676, 1.9111, 1.797, 1.7697, 1.5546, 1.5999, 1.3765, 1.5037, 1.8873, 1.4212, 1.5901, 1.4917, 1.4791, 1.7004, 1.5218, 1.3234, 1.2599, 1.0932, 1.4316, 0.5981, 1.2029, 0.4433, 1.099, 0.2221, 1.4346, 0.6691, 0.0034, 0.93, -0.0933, 0.3028, 0.1876, 0.385, 0.5837, 0.1953, 0.3747, 0.1072, -0.4058, 2.2094, 2.2032, 2.2008, 2.1998, 2.1993, 2.1985, 2.1897, 2.1894, 2.1885, 2.1856, 2.1856, 2.1855, 2.185, 2.1833, 2.1829, 2.1827, 2.1817, 2.1816, 2.1815, 2.1798, 2.1797, 2.1794, 2.1787, 2.1781, 2.178, 2.1778, 2.1773, 2.1771, 2.1768, 2.176, 2.1712, 2.1501, 2.1573, 2.165, 2.1303, 2.1688, 2.1243, 2.1635, 2.0234, 2.0846, 2.0254, 2.0666, 2.0947, 1.8143, 2.0147, 1.9702, 1.8021, 1.9275, 0.8819, 0.7072, 1.1502, 1.3952, 1.1603, 1.1739, 1.1356, 1.1436, 1.3027, 0.0385, 1.6414, 0.7179, 0.5042, 0.3914, 0.6443, 0.7891, 1.0462, 0.8109, 0.1379, 0.2428, -0.2928, -0.4497, -0.4739, 0.0819, 0.4376, 2.2284, 2.2258, 2.224, 2.223, 2.2208, 2.2197, 2.2195, 2.2185, 2.216, 2.2153, 2.2123, 2.2117, 2.2104, 2.2099, 2.2096, 2.2078, 2.2058, 2.2046, 2.2041, 2.2038, 2.2002, 2.1995, 2.1991, 2.199, 2.199, 2.197, 2.1964, 2.1956, 2.1946, 2.1943, 2.1842, 2.18, 2.1923, 2.1518, 2.1406, 2.1222, 2.0961, 2.1331, 2.0233, 1.9726, 2.0278, 2.0556, 1.8332, 1.9032, 1.8842, 2.0661, 1.9021, 1.6847, 0.7986, 1.5503, 0.3991, 1.8438, 0.2172, 0.7208, 0.1424, 0.5452, 1.5811, 0.9049, -0.159, -0.0991, 0.4412, 0.7019, 0.5442, 0.0856, 2.2355, 2.2345, 2.2345, 2.2281, 2.2268, 2.2249, 2.2221, 2.2213, 2.2199, 2.2186, 2.2186, 2.2185, 2.2165, 2.213, 2.2114, 2.2111, 2.2103, 2.2099, 2.2098, 2.2089, 2.2087, 2.2083, 2.2083, 2.2072, 2.2066, 2.2059, 2.2056, 2.2053, 2.2031, 2.2021, 2.2, 2.1805, 2.146, 2.1719, 2.1121, 2.0675, 2.1572, 2.0885, 2.023, 1.9694, 2.1112, 2.0411, 1.8527, 2.0938, 2.0847, 1.9582, 1.8595, 1.9557, 1.8977, 1.7104, 1.97, 1.8054, 1.8283, 1.9503, 1.9937, 1.4899, 1.5146, 1.8063, 1.6208, 1.5504, 1.8752, 1.0102, 1.7109, 1.5466, 1.7269, -0.0374, 0.8709, 0.726, -0.5139, 0.3934, 0.449, -0.8413, 0.4943, 0.3218, 0.2283, 0.2186, 2.2956, 2.2945, 2.2839, 2.2793, 2.279, 2.2768, 2.275, 2.2742, 2.2709, 2.2675, 2.2644, 2.2639, 2.2572, 2.2568, 2.2561, 2.2544, 2.2522, 2.2516, 2.2508, 2.2485, 2.248, 2.2402, 2.2392, 2.237, 2.2345, 2.2335, 2.2298, 2.2269, 2.2205, 2.2204, 2.1582, 2.1259, 2.1559, 2.1935, 2.1321, 2.0353, 2.1891, 2.0374, 1.8939, 2.0703, 2.0469, 2.0834, 1.8081, 2.179, 1.786, 1.5457, 1.6485, 1.4113, 1.4941, 0.6292, 1.6645, 1.6692, 1.6854, 0.4298, 0.5205, 1.0921, 1.6142, 0.0887, 0.9971, 0.441, 0.5953, -0.1971, 0.5637, -0.3346, 0.2805, 0.2705, -0.5965, 2.3502, 2.3485, 2.3421, 2.3377, 2.3328, 2.3323, 2.3302, 2.3293, 2.327, 2.3265, 2.3233, 2.3228, 2.3215, 2.3183, 2.3153, 2.3145, 2.3103, 2.3027, 2.2936, 2.2808, 2.2774, 2.2355, 2.2323, 2.2245, 2.2147, 2.2117, 2.2117, 2.2, 2.1996, 2.1922, 2.1859, 2.1751, 2.179, 2.1154, 2.1688, 2.0881, 1.5621, 1.7843, 1.8928, 1.8026, 1.8684, 1.2335, 1.9189, 1.7622, 1.7544, 1.7926, 1.923, 1.6526, 1.8974, 1.4002, 1.2185, 1.2494, 0.8732, 1.5351, 1.5086, 0.3284, 1.2531, 0.2444, 0.2331, 0.0327, 1.1526, 0.4814, 0.4195, 0.5908, 0.8793, 0.4659, 0.9277, 0.6274, 0.4845, 0.7507, 0.1595, 0.0857, -0.9076, 0.155, 0.3856, 0.4871, 2.4613, 2.4599, 2.4593, 2.4529, 2.4528, 2.45, 2.4465, 2.4411, 2.4378, 2.4355, 2.4353, 2.435, 2.4337, 2.4315, 2.4265, 2.426, 2.4165, 2.4156, 2.4155, 2.4139, 2.4129, 2.4107, 2.4063, 2.3925, 2.3887, 2.3871, 2.3871, 2.37, 2.3589, 2.3568, 2.3105, 2.2984, 2.3168, 2.2617, 2.1322, 2.1017, 1.6539, 1.8208, 1.9367, 1.9672, 1.2473, 1.6659, 1.5995, 1.5453, 1.5485, 0.8784, 0.9584, 0.7963, 0.6341, 0.8004, 0.2686, 0.977, 0.0557, 0.4091, -0.2518, 0.3701, -0.21, -0.4781, -0.1743, 0.3982, -0.5681, -0.0456, -0.1348, 0.4035, 2.737, 2.7301, 2.7298, 2.7284, 2.7254, 2.7231, 2.7218, 2.7187, 2.7186, 2.7101, 2.7096, 2.7094, 2.7075, 2.7072, 2.704, 2.7037, 2.6955, 2.6937, 2.6919, 2.69, 2.6838, 2.6812, 2.6789, 2.6761, 2.6349, 2.6193, 2.617, 2.614, 2.5866, 2.5864, 2.581, 2.5326, 2.5434, 2.4736, 2.481, 2.2338, 2.2258, 2.5303, 2.4131, 2.3123, 2.4499, 2.3475, 1.9264, 2.3447, 1.5954, 1.5479, 2.2364, 0.3312, 1.1609, 1.4491, 1.2059, 1.3618, 1.6252, 0.0754, 1.1945, 1.8235, 1.8385, 1.1573, 0.3206, 0.507, 0.0736, -0.5934, -0.3961, 0.4508, -0.9204, -0.8048, -0.1192, 2.8096, 2.806, 2.803, 2.8022, 2.8016, 2.7995, 2.7961, 2.7953, 2.7939, 2.7864, 2.786, 2.7851, 2.7845, 2.7843, 2.7741, 2.7697, 2.7694, 2.7506, 2.7387, 2.7354, 2.7216, 2.7202, 2.6898, 2.6849, 2.6846, 2.6193, 2.561, 2.5569, 2.551, 2.5467, 2.5112, 2.4644, 2.4676, 2.3944, 2.282, 2.1921, 2.4598, 1.3769, 1.7741, 2.1115, 0.8332, 1.3103, 1.7482, 1.508, 0.6186, 1.7499, 0.3949, 1.8393, 1.721, 0.6624, 0.7143, 1.4, -0.0099, 0.6173, 0.5652, 0.6198, 0.2989, -0.2757, 0.6069, 0.1822, 0.4842]}, \"token.table\": {\"Topic\": [1, 2, 1, 8, 4, 10, 1, 2, 3, 4, 5, 6, 7, 8, 9, 10, 1, 9, 4, 5, 7, 2, 8, 4, 5, 6, 7, 8, 1, 2, 3, 4, 5, 6, 7, 8, 9, 10, 1, 2, 3, 4, 5, 6, 7, 8, 9, 10, 7, 8, 3, 6, 8, 5, 6, 10, 5, 9, 1, 1, 2, 3, 6, 7, 8, 2, 4, 5, 8, 10, 2, 1, 2, 3, 4, 5, 8, 9, 10, 1, 2, 6, 8, 10, 1, 2, 3, 4, 5, 6, 7, 8, 9, 10, 1, 2, 3, 5, 6, 7, 9, 6, 7, 9, 1, 2, 3, 4, 5, 6, 7, 8, 9, 10, 1, 2, 5, 6, 7, 9, 10, 3, 9, 10, 1, 5, 6, 7, 8, 5, 7, 2, 3, 4, 7, 8, 9, 1, 2, 3, 6, 7, 9, 2, 6, 1, 2, 3, 4, 5, 6, 7, 8, 9, 10, 1, 2, 3, 4, 5, 6, 7, 8, 9, 10, 10, 2, 3, 4, 5, 6, 8, 2, 4, 10, 1, 2, 3, 4, 5, 7, 9, 10, 2, 4, 5, 6, 7, 8, 7, 1, 2, 5, 8, 2, 4, 5, 3, 5, 1, 2, 3, 7, 8, 9, 10, 8, 1, 2, 3, 4, 5, 6, 7, 8, 9, 10, 2, 6, 7, 3, 8, 2, 4, 4, 8, 9, 8, 2, 7, 2, 5, 6, 7, 8, 9, 10, 4, 8, 1, 2, 3, 4, 5, 6, 7, 8, 9, 10, 1, 7, 8, 4, 5, 2, 3, 5, 6, 7, 8, 9, 10, 6, 7, 1, 2, 3, 4, 5, 7, 8, 6, 8, 10, 5, 4, 6, 8, 4, 9, 5, 7, 8, 3, 5, 5, 2, 4, 10, 1, 2, 5, 6, 7, 2, 4, 7, 10, 1, 2, 8, 10, 7, 2, 3, 6, 7, 9, 10, 8, 3, 6, 3, 3, 5, 6, 8, 9, 2, 3, 5, 7, 9, 3, 2, 5, 7, 1, 3, 10, 2, 5, 6, 10, 5, 2, 4, 5, 6, 8, 10, 3, 1, 2, 4, 8, 2, 2, 4, 5, 6, 7, 8, 1, 2, 3, 4, 5, 7, 8, 9, 10, 4, 8, 10, 2, 9, 10, 2, 4, 1, 2, 4, 5, 7, 8, 9, 10, 1, 2, 3, 4, 5, 6, 7, 8, 9, 10, 1, 2, 3, 4, 5, 6, 7, 8, 10, 1, 2, 8, 9, 9, 7, 1, 2, 3, 4, 5, 6, 7, 8, 9, 10, 1, 2, 3, 4, 5, 6, 7, 8, 1, 2, 3, 4, 5, 6, 7, 8, 9, 2, 1, 2, 3, 5, 6, 7, 9, 10, 6, 8, 5, 5, 1, 2, 3, 5, 6, 7, 8, 10, 1, 2, 3, 4, 5, 6, 7, 8, 9, 10, 1, 6, 8, 6, 6, 7, 1, 2, 6, 2, 4, 1, 6, 10, 2, 1, 2, 5, 6, 7, 8, 10, 3, 5, 6, 8, 10, 6, 1, 9, 2, 3, 4, 5, 1, 6, 1, 4, 8, 3, 4, 5, 7, 8, 4, 1, 2, 5, 6, 7, 1, 2, 3, 4, 5, 6, 7, 8, 9, 1, 8, 4, 1, 1, 2, 3, 4, 5, 6, 7, 8, 9, 10, 2, 3, 4, 7, 8, 1, 2, 3, 4, 10, 7, 5, 1, 2, 3, 5, 6, 7, 8, 9, 10, 5, 1, 2, 3, 4, 5, 6, 7, 8, 9, 10, 3, 5, 9, 2, 1, 2, 3, 4, 6, 8, 9, 10, 2, 3, 6, 7, 9, 10, 1, 2, 5, 7, 3, 5, 3, 3, 5, 10, 4, 6, 2, 10, 1, 2, 4, 5, 7, 8, 9, 10, 2, 4, 2, 4, 6, 8, 1, 2, 3, 4, 5, 6, 7, 8, 9, 1, 2, 3, 5, 6, 7, 8, 9, 10, 3, 5, 6, 1, 1, 4, 2, 5, 7, 8, 1, 10, 1, 2, 3, 4, 5, 6, 7, 8, 9, 10, 4, 2, 3, 4, 6, 8, 9, 10, 1, 2, 6, 1, 3, 9, 10, 1, 2, 3, 4, 5, 6, 7, 8, 10, 1, 4, 9, 1, 2, 3, 5, 7, 8, 9, 6, 1, 2, 3, 4, 5, 6, 7, 8, 9, 10, 3, 3, 5, 3, 5, 1, 2, 3, 4, 5, 6, 7, 8, 9, 10, 5, 2, 5, 6, 1, 2, 3, 4, 5, 6, 7, 8, 9, 10, 5, 3, 5, 9, 9, 1, 2, 3, 4, 5, 6, 7, 8, 9, 10, 5, 4, 6, 9, 4, 1, 2, 3, 5, 6, 7, 8, 9, 10, 1, 2, 5, 6, 1, 2, 3, 4, 5, 6, 7, 8, 9, 10, 2, 4, 7, 1, 2, 3, 4, 5, 6, 7, 8, 9, 10, 4, 3, 5, 2, 5, 7, 10, 1, 2, 3, 4, 5, 6, 7, 8, 9, 10, 1, 3, 4, 7, 8, 9, 1, 2, 3, 4, 5, 6, 7, 8, 9, 10, 2, 6, 7, 8, 9, 10, 10, 3, 5, 6, 7, 1, 2, 3, 4, 5, 6, 7, 8, 9, 10, 1, 2, 3, 4, 5, 6, 7, 8, 9, 10, 6, 1, 2, 3, 5, 6, 5, 6, 10, 9, 3, 9, 1, 2, 3, 4, 5, 6, 7, 8, 9, 10, 1, 2, 4, 5, 7, 8, 3, 1, 4, 6, 3, 7, 1, 2, 4, 5, 6, 7, 8, 9, 10, 4, 2, 10, 1, 7, 8, 4, 9, 5, 6, 7, 2, 7, 2, 3, 1, 2, 3, 5, 6, 7, 8, 9, 10, 1, 2, 3, 5, 6, 7, 8, 9, 10, 1, 2, 3, 4, 5, 6, 7, 8, 9, 10, 7, 8, 1, 2, 3, 4, 5, 6, 7, 8, 9, 10, 5, 2, 6, 7, 9, 10, 1, 2, 3, 4, 5, 6, 7, 8, 9, 1, 2, 3, 4, 5, 6, 7, 8, 10, 1, 2, 3, 4, 5, 6, 7, 8, 10, 5, 10, 3, 2, 8, 1, 2, 3, 5, 6, 7, 8, 9, 10, 1, 2, 3, 4, 5, 6, 7, 8, 10, 2, 10, 10, 2, 10, 1, 2, 3, 5, 6, 7, 8, 1, 5, 2, 2, 4, 2, 10, 4, 3, 5, 1, 2, 3, 5, 6, 7, 8, 3, 8, 1, 2, 3, 4, 5, 6, 7, 8, 9, 10, 4, 3, 7, 4, 2, 4, 8, 5, 8, 2, 6, 8, 9, 10, 3, 9, 1, 4, 7, 10, 1, 2, 3, 4, 5, 6, 7, 8, 9, 10, 1, 2, 3, 4, 5, 6, 8, 9, 10, 3, 1, 2, 3, 4, 5, 6, 7, 8, 9, 10, 3, 5, 1, 2, 3, 4, 5, 6, 7, 8, 9, 10, 1, 2, 3, 4, 5, 6, 7, 8, 9, 10, 1, 2, 3, 4, 5, 6, 7, 8, 9, 10, 2, 6, 9, 1, 2, 4, 7, 8, 10, 5, 1, 2, 3, 4, 5, 6, 7, 8, 9, 10, 1, 2, 4, 5, 8, 2, 3, 7, 2, 7, 1, 2, 3, 5, 6, 7, 3, 2, 3, 4, 2, 2, 6, 9, 1, 2, 4, 5, 6, 7, 8, 9, 10, 7, 2, 7, 8, 7, 1, 2, 3, 4, 5, 6, 7, 9, 10, 9, 1, 6, 5, 6, 5, 1, 2, 3, 4, 5, 6, 7, 8, 9, 10, 1, 2, 3, 4, 5, 7, 8, 9, 10, 1, 2, 3, 4, 5, 6, 7, 8, 9, 10, 4, 7, 7, 9, 7, 1, 2, 3, 4, 5, 6, 7, 8, 9, 10, 4, 5, 8, 4, 9, 1, 2, 3, 4, 5, 6, 7, 8, 9, 10, 6, 9, 1, 9, 1, 2, 3, 5, 6, 8, 5, 6, 1, 5, 6, 9, 3, 9, 3, 5, 2, 7, 10, 1, 2, 3, 4, 5, 6, 7, 8, 9, 10, 4, 8, 1, 2, 4, 6, 7, 8, 10, 1, 2, 3, 4, 5, 6, 7, 8, 9, 10, 6, 8, 1, 2, 3, 4, 5, 6, 7, 8, 10, 1, 2, 3, 4, 5, 6, 7, 8, 10, 2, 1, 2, 3, 4, 5, 6, 7, 8, 10, 1, 2, 3, 4, 5, 6, 7, 8, 9, 10, 1, 2, 4, 6, 7, 8, 6, 6, 10, 6, 3, 1, 2, 3, 4, 5, 7, 8, 10, 2, 4, 5, 6, 8, 9, 7, 5, 10, 3, 1, 2, 5, 6, 7, 9, 10, 1, 2, 3, 4, 5, 6, 7, 8, 9, 10, 5, 3, 4, 5, 6, 1, 2, 10, 1, 3, 8, 1, 2, 3, 5, 6, 7, 8, 9, 10, 2, 6, 8, 2, 3, 4, 5, 6, 1, 4, 2, 8, 3, 10, 1, 2, 7, 10, 3, 1, 2, 3, 5, 6, 5, 8, 2, 3, 5, 6, 7, 10, 1, 2, 4, 5, 6, 7, 9, 10, 7, 1, 2, 3, 4, 5, 6, 7, 8, 9, 10, 1, 4, 1, 1, 2, 3, 4, 5, 6, 7, 8, 9, 10, 1, 2, 3, 4, 5, 6, 7, 8, 9, 10, 1, 1, 5, 2, 1, 2, 5, 6, 7, 10, 4, 6, 3, 5, 1, 2, 3, 4, 5, 6, 7, 8, 9, 10, 5, 1, 2, 3, 4, 5, 6, 7, 8, 9, 10, 1, 2, 3, 4, 5, 6, 7, 8, 9, 5, 2, 5, 6, 1, 4, 6, 7, 8, 9, 10, 1, 4, 10, 1, 2, 3, 4, 5, 6, 7, 8, 9, 10, 1, 1, 1, 1, 2, 3, 4, 5, 5, 6, 6, 1, 3, 4, 5, 8, 9, 1, 2, 3, 4, 5, 6, 7, 8, 9, 10, 3, 1, 2, 5, 6, 7, 9, 7, 9, 2, 3, 4, 5, 4, 5, 1, 2, 5, 6, 7, 10, 1, 2, 6, 7, 10, 1, 2, 3, 4, 5, 6, 7, 8, 9, 10, 2, 5, 7, 9, 2, 1, 2, 3, 4, 5, 6, 7, 8, 10, 9, 3, 4, 6, 8, 9, 1, 3, 5, 9, 2, 3, 4, 5, 7, 9, 10, 1, 1, 8, 1, 4, 5, 7, 8, 10, 5, 4, 1, 2, 3, 4, 5, 6, 7, 8, 10, 9, 1, 2, 5, 1, 2, 3, 4, 5, 6, 7, 8, 1, 4, 7, 6, 8, 8, 9, 9, 1, 2, 3, 4, 5, 6, 7, 8, 9, 10, 1, 3, 5, 9, 2, 8, 9, 5, 6, 1, 2, 3, 4, 5, 6, 7, 8, 9, 10, 2, 1, 2, 3, 4, 5, 6, 8, 9, 10, 2, 4, 7, 8, 9, 2, 7, 9, 1, 2, 3, 5, 6, 7, 8, 10, 3, 2, 6, 9, 2, 8, 1, 2, 5, 6, 7, 8, 10, 6, 8, 10, 5, 7, 9, 2, 8, 9, 10, 1, 5, 8, 8, 10, 2, 4, 6, 7, 10, 2, 4, 6, 7, 9, 2, 4, 2, 3, 5, 6, 7, 9, 10, 8, 9, 1, 5, 9, 1, 4, 6, 10, 1, 2, 3, 4, 5, 6, 8, 9, 10, 2, 4, 3, 4, 6, 4, 7, 1, 2, 7, 2, 4, 7, 9, 2, 3, 4, 5, 7, 10, 3, 5, 1, 2, 3, 4, 5, 6, 7, 8, 9, 10, 2, 4, 5, 6, 10, 2, 5, 6, 7, 8, 6, 2, 3, 4, 5, 6, 7, 8, 9, 10, 1, 2, 3, 4, 5, 6, 7, 8, 9, 10, 1, 2, 4, 5, 7, 8, 2, 1, 2, 4, 5, 6, 7, 8, 10, 3, 5, 7, 8, 2, 9, 7, 3, 6, 7, 1, 2, 3, 4, 5, 6, 7, 8, 9, 10, 2, 4, 6, 7, 8, 10, 1, 3, 4, 5, 8, 9, 2, 2, 9, 1, 2, 3, 4, 5, 6, 7, 8, 9, 10, 5, 2, 9, 3, 5, 3, 3, 1, 2, 3, 5, 6, 7, 8, 9, 10, 2, 6, 1, 2, 3, 4, 5, 6, 7, 8, 9, 10, 1, 1, 2, 3, 4, 5, 6, 7, 8, 9, 10, 4, 5, 8, 2, 8, 9, 2, 7, 9, 1, 2, 10, 5, 6, 3, 6, 3, 3, 1, 2, 3, 4, 5, 6, 7, 6, 3, 5, 6, 7, 8, 8, 1, 2, 3, 4, 5, 6, 7, 8, 9, 10, 2, 1, 3, 5, 7, 8, 8, 2, 2, 4, 5, 6, 8, 10, 2, 3, 7, 9, 1, 7, 2, 7, 9, 10, 9, 2, 5, 8, 6, 8, 1, 2, 3, 4, 5, 6, 7, 8, 9, 10, 1, 3, 6, 9, 1, 2, 3, 4, 5, 6, 7, 8, 9, 10, 1, 2, 3, 4, 8, 9, 10, 1, 2, 3, 4, 5, 6, 7, 8, 9, 10, 8, 1, 4, 1, 1, 2, 3, 4, 5, 6, 7, 8, 9, 10, 1, 3, 5, 6, 7, 9, 3, 5, 3, 5, 6, 7, 9, 7, 8, 2, 8, 4, 1, 2, 3, 4, 5, 6, 7, 8, 9, 10, 1, 2, 3, 4, 5, 6, 7, 8, 9, 10, 5, 8, 1, 2, 3, 4, 5, 6, 7, 8, 9, 10, 5, 3], \"Freq\": [0.8969895595402123, 0.052764091737659544, 0.9286623084902026, 0.04643311542451013, 0.055395825914955746, 0.9417290405542477, 0.0035804690004400995, 0.47620237705853324, 0.028643752003520796, 0.023273048502860647, 0.08414102151034233, 0.0751898490092421, 0.11636524251430323, 0.06265820750770174, 0.10025313201232279, 0.030433986503740847, 0.9123940831845861, 0.057024630199036634, 0.08065550498240551, 0.040327752491202754, 0.8468828023152579, 0.9472675809996938, 0.04405895725579971, 0.0036835269389758935, 0.655667795137709, 0.2688974665452402, 0.03315174245078304, 0.03315174245078304, 0.08788916797677664, 0.0423170068036332, 0.019530926217061477, 0.07812370486824591, 0.013020617478040983, 0.029296389325592215, 0.04882731554265369, 0.17903349032306354, 0.3287705913205348, 0.1692680272145328, 0.46385545494862557, 0.090048688771065, 0.041883111056309305, 0.053400966596794365, 0.016753244422523725, 0.01151785554048506, 0.1434496553678594, 0.15915582201397538, 0.007853083323057996, 0.012041394428688927, 0.049631144291557475, 0.9429917415395921, 0.7470479923659833, 0.21505927052960125, 0.02263781795048434, 0.08995371444638839, 0.08995371444638839, 0.7646065727943012, 0.970056634828842, 0.9887760728185915, 0.9646560926503924, 0.7899381482176582, 0.0028313195276618575, 0.01132527811064743, 0.019819236693633002, 0.06512034913622272, 0.11042146157881244, 0.6639478704950686, 0.029291817815958913, 0.1025213623558562, 0.048819696359931525, 0.1513410587157877, 0.9723849444665265, 0.019316471663220525, 0.1545317733057642, 0.06438823887740176, 0.1609705971935044, 0.12877647775480353, 0.4474982601979422, 0.009658235831610263, 0.01287764777548035, 0.1289605618600221, 0.08597370790668141, 0.042986853953340703, 0.042986853953340703, 0.6963870340441194, 0.21320715763858752, 0.018425309919384108, 0.4000924439637692, 0.010528748525362347, 0.018425309919384108, 0.028954058444746456, 0.03421843270742763, 0.036850619838768216, 0.11581623377898582, 0.12371279517300758, 0.08807551634820905, 0.008257079657644599, 0.13211327452231358, 0.5339578178610174, 0.002752359885881533, 0.2256935106422857, 0.011009439543526131, 0.04555447322007206, 0.8655349911813692, 0.0683317098301081, 0.35881856979755233, 0.09702747040444018, 0.02562989784268231, 0.0659054515954688, 0.0164763628988672, 0.0036614139775260446, 0.07505898653928392, 0.0036614139775260446, 0.0018307069887630223, 0.34966503485373723, 0.003227345909858096, 0.03227345909858096, 0.03227345909858096, 0.7681083265462268, 0.10004772320560097, 0.003227345909858096, 0.058092226377445724, 0.9419674456192255, 0.05233152475662364, 0.9775742283343855, 0.00441110872789582, 0.2580498605819055, 0.5227163842556547, 0.00441110872789582, 0.20952766457505145, 0.9729116455977715, 0.9506743405326243, 0.06187010524964162, 0.002690004576071375, 0.7074712035067716, 0.08877015101035537, 0.002690004576071375, 0.13719023337964012, 0.061836260968644814, 0.013250627350423889, 0.6625313675211945, 0.013250627350423889, 0.18992565868940908, 0.053002509401695555, 0.9604505713823206, 0.9743149755670283, 0.10174460507359852, 0.09501150620843392, 0.0830415526703635, 0.1675793495329858, 0.06209413397874027, 0.13166948891877456, 0.1705718379175034, 0.0822934305742341, 0.035909860614211246, 0.07107159913229308, 0.11355171589354278, 0.19851127310885536, 0.06862118082775247, 0.10619944651914072, 0.07270577492464249, 0.0588181549952164, 0.12172090408732283, 0.08169188193780055, 0.07433961256339851, 0.10456560888038471, 0.9557752261215742, 0.05885258571614971, 0.3026704408259128, 0.004203756122582122, 0.046241317348403345, 0.5296732714453474, 0.05464882959356759, 0.15515578290839288, 0.813887352449289, 0.027220312790946118, 0.08966307160564735, 0.14034219903492628, 0.0038983944176368412, 0.5223848519633367, 0.015593577670547365, 0.03898394417636841, 0.050679127429278936, 0.14034219903492628, 0.11166503220387028, 0.7743727233268395, 0.0024275007000841365, 0.014565004200504819, 0.09467252730328132, 0.0024275007000841365, 0.9834699854305147, 0.041467234413303224, 0.08293446882660645, 0.8604451140760419, 0.010366808603325806, 0.02076642735188522, 0.9718688000682283, 0.008306570940754088, 0.9208945097072211, 0.07559581796104053, 0.17277000537697149, 0.5590759724558179, 0.036883484293960205, 0.005823708046414769, 0.017471124139244308, 0.2057710176399885, 0.0019412360154715898, 0.9454071358396556, 0.10705968993460067, 0.11279503046681143, 0.09558900887017918, 0.1854426772081476, 0.13286872232954905, 0.01625013150793046, 0.06117696567691468, 0.04014738372547526, 0.029632592749755545, 0.2198547204014121, 0.0036227469006628057, 0.9419141941723295, 0.05071845660927928, 0.886359271190266, 0.09496706477038565, 0.04111831702963783, 0.9553961898062907, 0.9835315543454431, 0.9610654736533125, 0.9770379972332489, 0.9865686159620111, 0.043870673913114284, 0.9212841521753999, 0.002009485937247036, 0.004018971874494072, 0.17281579060324512, 0.002009485937247036, 0.0502371484311759, 0.7656141420911208, 0.002009485937247036, 0.0960090721428528, 0.8960846733332928, 0.22371424051359617, 0.09355322785114022, 0.118636339666301, 0.07728310126833322, 0.008812985232353788, 0.03864155063416661, 0.1105012763748975, 0.20269866034413714, 0.04609869198461981, 0.07999478903213439, 0.9855066471822111, 0.055513817322423255, 0.9159779858199837, 0.9867399686827629, 0.9903186478823428, 0.34246293608786627, 0.008781100925329905, 0.12293541295461866, 0.44783614719182513, 0.01931842203572579, 0.04741794499678148, 0.005268660555197943, 0.005268660555197943, 0.12202820922679496, 0.8541974645875646, 0.4593565731647099, 0.12152290295362697, 0.23089351561189123, 0.004860916118145079, 0.17742343831229537, 0.0024304580590725393, 0.0024304580590725393, 0.014411799983425672, 0.9684729588862052, 0.011529439986740537, 0.945283876537997, 0.9827482430109374, 0.9286840380815928, 0.9853856048725027, 0.9682577283131536, 0.9794039845121076, 0.08794146478075905, 0.8618263548514387, 0.03517658591230362, 0.8237367809460948, 0.17255334064706224, 0.9789944459573112, 0.17947641258288813, 0.03589528251657763, 0.7538009328481301, 0.016675905228094506, 0.019058177403536578, 0.07623270961414631, 0.8409420779310515, 0.047645443508841444, 0.8155917207033208, 0.14253059196757062, 0.039591831102102945, 0.9767088649157777, 0.825081057163295, 0.028451070936665348, 0.12802981921499407, 0.9762700619403597, 0.9717651829185744, 0.006580994419154724, 0.003290497209577362, 0.5988704921430799, 0.13161988838309446, 0.059228949772392514, 0.20401082699379644, 0.9899304550370976, 0.9370914582205582, 0.061056950535617105, 0.9599763745541876, 0.12666109805901404, 0.007036727669945224, 0.7740400436939746, 0.06333054902950702, 0.02111018300983567, 0.0051087509096324904, 0.6692463691618562, 0.05619626000595739, 0.054493343036079896, 0.2128646212346871, 0.9685930128785891, 0.028352871088399415, 0.01890191405893294, 0.9450957029466471, 0.968352474836713, 0.012414775318419398, 0.012414775318419398, 0.0012737865132575873, 0.0025475730265151746, 0.09298641546780388, 0.9005670648731143, 0.9447409303780956, 0.00100177699101835, 0.024042647784440402, 0.0020035539820367, 0.11219902299405521, 0.8495068883835609, 0.0100177699101835, 0.9578318173952532, 0.04194467692754291, 0.008388935385508582, 0.016777870771017164, 0.922782892405944, 0.9586372005109313, 0.2818319309686043, 0.03963261529245998, 0.01761449568553777, 0.5328384944875175, 0.057247110977997756, 0.07045798274215108, 0.04349190161652553, 0.08698380323305106, 0.38659468103578254, 0.028994601077683688, 0.028994601077683688, 0.019329734051789126, 0.009664867025894563, 0.4010919815746244, 0.9566571395175966, 0.20857798103977154, 0.6870804081310121, 0.09815434401871602, 0.004070246824396767, 0.12414252814410139, 0.8689976970087097, 0.0006805437289632264, 0.9990381941180164, 0.9731900509056275, 0.5686532876119829, 0.028432664380599142, 0.03791021917413219, 0.2227225376480266, 0.07582043834826438, 0.004738777396766524, 0.06160410615796481, 0.25240975968242657, 0.11456896893386738, 0.11635910907345906, 0.08861193690978805, 0.02595703202407933, 0.07876616614203383, 0.13873586081835504, 0.07518588586285047, 0.08234644642121719, 0.026852102093875167, 0.5099177817260839, 0.06798903756347785, 0.006180821596679805, 0.07726026995849757, 0.15452053991699513, 0.021632875588379317, 0.05253698357177834, 0.10507396714355668, 0.0030904107983399025, 0.013944867992252032, 0.9064164194963821, 0.027889735984504064, 0.05577947196900813, 0.9906287369186421, 0.9823347370220473, 0.17860402575383996, 0.40543113846121676, 0.0642974492713824, 0.012502281802768798, 0.21968295167722318, 0.055367247983690394, 0.010716241545230399, 0.039292885665844796, 0.014288322060307198, 0.0017860402575383997, 0.1379407261348299, 0.09706939987265809, 0.010217831565542956, 0.005108915782771478, 0.5824163992359485, 0.1430496419176014, 0.015326747348314435, 0.005108915782771478, 0.0840987863278857, 0.16437490054995843, 0.05351740948138181, 0.14908421212670647, 0.01146801631743896, 0.04969473737556883, 0.4396072921684935, 0.04204939316394285, 0.01146801631743896, 0.9648357371675387, 0.0019243681216417681, 0.04426046679776067, 0.0019243681216417681, 0.02309241745970122, 0.053882307405969505, 0.22130233398880333, 0.6023272220738735, 0.05195793928432774, 0.9246224825578587, 0.07483889545507473, 0.9616620223605359, 0.969695135016009, 0.07321937371159497, 0.1910070618563347, 0.009550353092816736, 0.6398736572187212, 0.006366902061877824, 0.006366902061877824, 0.022284157216572384, 0.054118667525961506, 0.5390387607191075, 0.12250880925434263, 0.08439495748632492, 0.07350528555260558, 0.029946597817728196, 0.03266901580115803, 0.040836269751447545, 0.046281105718307215, 0.008167253950289508, 0.02177934386743869, 0.9132958674629598, 0.038053994477623324, 0.038053994477623324, 0.995464141765382, 0.10855722678573498, 0.8684578142858799, 0.009303186171498303, 0.13954779257247454, 0.8465899416063456, 0.014115560866046054, 0.9880892606232238, 0.9596463600897761, 0.8018180196051795, 0.17818178213448432, 0.9493108000416558, 0.008124002497643352, 0.008124002497643352, 0.03249600999057341, 0.7961522447690484, 0.10561203246936357, 0.016248004995286704, 0.040620012488216756, 0.004546714392706294, 0.03637371514165035, 0.8684224490069022, 0.004546714392706294, 0.0818408590687133, 0.9752524524729642, 0.026118853560276926, 0.9402787281699694, 0.06405854784314317, 0.008007318480392897, 0.9248452844853796, 0.002001829620098224, 0.04481680942987791, 0.941152998027436, 0.8913759699370232, 0.006233398391167994, 0.0935009758675199, 0.0029503083108564925, 0.5812107372387291, 0.017701849865138956, 0.0029503083108564925, 0.39534131365477, 0.9759074231022373, 0.7979736039472637, 0.01688833024227013, 0.004222082560567533, 0.17310538498326883, 0.008444165121135066, 0.04338409755054286, 0.005423012193817857, 0.06507614632581428, 0.027115060969089284, 0.07592217071345, 0.12472928045781072, 0.6128003779014178, 0.037961085356725, 0.005423012193817857, 0.06852357346236546, 0.9136476461648728, 0.9971205966103055, 0.9503530416598821, 0.016357584855787165, 0.11004193448438639, 0.002974106337415848, 0.046098648229945645, 0.019331691193203014, 0.27213072987355014, 0.18439459291978258, 0.22454502847489655, 0.029741063374158484, 0.09665845596601506, 0.9272365998624451, 0.0641439263056273, 0.02850841169138991, 0.8766336595102397, 0.021381308768542433, 0.9770695381332352, 0.7353265722837803, 0.02792379388419419, 0.21408241977882211, 0.009307931294731396, 0.9808102083946073, 0.9736719494535466, 0.004535363062415549, 0.0884395797171032, 0.0068030445936233235, 0.6780367778311246, 0.1519346625909209, 0.018141452249662196, 0.029479859905701067, 0.01587377071845442, 0.009070726124831098, 0.9701233319519407, 0.14770613670228297, 0.242330380527183, 0.03923444256154392, 0.18347871668486715, 0.11077960252671223, 0.06577538900023538, 0.03000280901765123, 0.033464671596610984, 0.06923725157919515, 0.07731493093010125, 0.11589292438996839, 0.8691969329247629, 0.009657743699164032, 0.9494769931984359, 0.37894458505476236, 0.08501961844177361, 0.01214565977739623, 0.15546444515067173, 0.026720451510271706, 0.09230701430821135, 0.004858263910958492, 0.24048406359244537, 0.03921732731827776, 0.09150709707598145, 0.013072442439425921, 0.17647797293224993, 0.6536221219712961, 0.026144884878851842, 0.9674727096168871, 0.8726627357718381, 0.026444325326419334, 0.09255513864246767, 0.9871951706443898, 0.010951451972283246, 0.9828326272049647, 0.012789533903089092, 0.06394766951544546, 0.9080569071193255, 0.9823843758418194, 0.9889672965334113, 0.9700191044038206, 0.02825298362341225, 0.003628544083775016, 0.5348473979484374, 0.22134118911027598, 0.0014514176335100064, 0.010885632251325049, 0.18723287472279082, 0.0007257088167550032, 0.03918827610477017, 0.1453900524710311, 0.8529549744967158, 0.9748548914138325, 0.9696529504937651, 0.023650071963262565, 0.9344763187621486, 0.03554501601490273, 0.11171290747540859, 0.1946512781768483, 0.08632361032190664, 0.008463099051167317, 0.09478670937307396, 0.3283682431852919, 0.006770479240933854, 0.1303317253879767, 0.033548916909628156, 0.021935830287064563, 0.24000379019964757, 0.218067959912583, 0.2993595662705281, 0.033548916909628156, 0.054194404238630096, 0.015484115496751456, 0.08258194931600776, 0.8771766561825861, 0.10829341434352915, 0.010829341434352916, 0.9812666052910505, 0.9931807658646136, 0.981437321059422, 0.006579734051894234, 0.14475414914167314, 0.006579734051894234, 0.8389160916165148, 0.015013470764856849, 0.9758755997156952, 0.02160873951861122, 0.1478492703904978, 0.05800240607627221, 0.21722469726603907, 0.02956985407809956, 0.10349448927334846, 0.16263419742954757, 0.1319270412715211, 0.0181968332788305, 0.10918099967298299, 0.9908737098296471, 0.030520279850489926, 0.2441622388039194, 0.06714461567107784, 0.006104055970097985, 0.15260139925244964, 0.006104055970097985, 0.4883244776078388, 0.9848511828805991, 0.0071366027744970955, 0.0071366027744970955, 0.0345858234109733, 0.2766865872877864, 0.6686592526121505, 0.011528607803657767, 0.023548962810019447, 0.007849654270006483, 0.002616551423335494, 0.06279723416005187, 0.0444813741967034, 0.10727860835675526, 0.5730247617104732, 0.06279723416005187, 0.11774481405009724, 0.06858886781919069, 0.10288330172878601, 0.8059191968754905, 0.27227872962999916, 0.04254355150468737, 0.0467979066551561, 0.034034841203749895, 0.5445574592599983, 0.05530661695609358, 0.004254355150468737, 0.9645674797813535, 0.006613726581631986, 0.05687804860203508, 0.07936471897958383, 0.2658718085816058, 0.013227453163263972, 0.12169256910202854, 0.19973454276528596, 0.14417923947957728, 0.013227453163263972, 0.09920589872447978, 0.9725127610154213, 0.5630534103105527, 0.43402033711438437, 0.30448359640353706, 0.6883976962166924, 0.06302725768841874, 0.0666288152706141, 0.025210903075367497, 0.050421806150734994, 0.15486697603440033, 0.12965607295903284, 0.03601557582195356, 0.12605451537683748, 0.30253083690440996, 0.046820248568539634, 0.9520193179961384, 0.019460062276266885, 0.6421820551168073, 0.33568607426560376, 0.0092553749596875, 0.02313843739921875, 0.06941531219765625, 0.08792606211703125, 0.041649187318593746, 0.5414394351417187, 0.07867068715734374, 0.09718143707671874, 0.013883062439531248, 0.032393812358906246, 0.9864326618698993, 0.9647089417082858, 0.02192520322064286, 0.9767272798390167, 0.9573470658105857, 0.003171925069733169, 0.21014003586982244, 0.0301332881624651, 0.2392160156757098, 0.015330971170376982, 0.10969574199493876, 0.13110623621563763, 0.08907822904167316, 0.03568415703449815, 0.13639277799852625, 0.9645382784308315, 0.9748907279018846, 0.9977380881097277, 0.9394058611923652, 0.9657022926235813, 0.0456333416172497, 0.0045256206562561685, 0.22100114204717622, 0.672431802508729, 0.02375950844534488, 0.024136643500032896, 0.000754270109376028, 0.006788430984384252, 0.000754270109376028, 0.031120950835336746, 0.004445850119333821, 0.9603036257761053, 0.9448058829095735, 0.11958875807073469, 0.05979437903536734, 0.004429213261879062, 0.007751123208288359, 0.17273931721328342, 0.4706039090746504, 0.03321909946409297, 0.11848145475526492, 0.0011073033154697656, 0.011073033154697655, 0.012108936938117527, 0.8778979280135207, 0.10898043244305775, 0.2557994575328138, 0.06917846964723895, 0.025740825915251703, 0.09652809718219388, 0.012870412957625851, 0.15122735225210374, 0.23810263971607823, 0.04826404859109694, 0.038611238872877554, 0.06274326316842602, 0.9833392484522383, 0.9511409924098563, 0.9733928048735071, 0.10221243086295712, 0.055752235016158426, 0.7805312902262179, 0.04646019584679869, 0.20828092537819007, 0.05331991689681666, 0.3415807176202317, 0.05998490650891874, 0.0649836487179953, 0.07164863833009738, 0.056652411702867694, 0.05165366949379113, 0.061651153911944256, 0.02999245325445937, 0.2241183618486176, 0.015456438748180526, 0.038641096870451315, 0.19320548435225657, 0.5216548077510927, 0.0038641096870451314, 0.11024424627389479, 0.12838570452149772, 0.3446877067044558, 0.057215368319363115, 0.0683793426255803, 0.03767841328348302, 0.05861086510764026, 0.12140822058011197, 0.02930543255382013, 0.04605139401314592, 0.7947020414467628, 0.03820682891570975, 0.0458481946988517, 0.02292409734942585, 0.0916963893977034, 0.9669615622922625, 0.9624671431841259, 0.9811944522527527, 0.04553187836308422, 0.9511103480288703, 0.0025295487979491234, 0.22804536081151394, 0.07478410617705518, 0.2077336282695977, 0.060935197625748665, 0.02862107767270013, 0.03785368337357114, 0.053549113065051855, 0.1874218957276815, 0.09324931757879719, 0.026774556532525928, 0.11129777354397045, 0.13538460513184467, 0.06949189343168305, 0.12403333967089245, 0.06312411036822205, 0.16888468124831338, 0.12043415793937101, 0.06838445289890722, 0.028793453852171462, 0.11019033301119463, 0.9870489273538194, 0.021292120560705924, 0.003548686760117654, 0.003548686760117654, 0.8339413886276487, 0.13839878364458852, 0.04463461785066073, 0.9447660778389854, 0.0074391029751101215, 0.9750066704675113, 0.24556003235532803, 0.7511248048515916, 0.057330963369290236, 0.04620201165642801, 0.08127507159999381, 0.0974626377277934, 0.026304794957674342, 0.08228679448298128, 0.44987944196843044, 0.07082060180912324, 0.043504083968461414, 0.045190288773440536, 0.020884157539880644, 0.6077289844105268, 0.26731721651047224, 0.020884157539880644, 0.07727138289755839, 0.006265247261964193, 0.9906049518210017, 0.05604076530409521, 0.9078603979263423, 0.022416306121638082, 0.15634607728583236, 0.8338457455244391, 0.25093257042875117, 0.11406025928579598, 0.014257532410724498, 0.017109038892869396, 0.011406025928579599, 0.11976327225008579, 0.41631994639315534, 0.05132711667860819, 0.0028515064821448997, 0.9880158278781349, 0.09378245533420458, 0.8909333256749435, 0.011154332481599874, 0.8365749361199906, 0.14500632226079835, 0.9717446678390493, 0.9971620194402931, 0.10308761141907548, 0.05154380570953774, 0.8247008913526038, 0.058742114382046226, 0.8811317157306934, 0.024866224648229608, 0.9449165366327251, 0.07885732767903422, 0.10983699212436909, 0.005632666262788159, 0.7463282798194311, 0.028163331313940793, 0.011265332525576318, 0.0028163331313940795, 0.014081665656970397, 0.0028163331313940795, 0.006409867690497002, 0.020832069994115257, 0.10896775073844904, 0.4791376098646509, 0.18428369610178882, 0.09294308151220654, 0.036856739220357766, 0.006409867690497002, 0.06409867690497002, 0.12236185930421282, 0.05616609935275343, 0.16248050169903672, 0.02607711755663552, 0.2647830398058376, 0.022065253317153134, 0.006017796359223582, 0.03610677815534149, 0.2748127004045436, 0.03008898179611791, 0.9804591049460079, 0.9808964175073058, 0.08150884302370749, 0.14341429342146, 0.09079466058337037, 0.08150884302370749, 0.2899238593628076, 0.09079466058337037, 0.09079466058337037, 0.07531829798393223, 0.021666907639213383, 0.034047997718763885, 0.9611698994147763, 0.17230800174876298, 0.2635298850275199, 0.010135764808750765, 0.20947247271418246, 0.3412374152279424, 0.01338817123767225, 0.020082256856508374, 0.30792793846646177, 0.016735214047090313, 0.01338817123767225, 0.006694085618836125, 0.023429299665926436, 0.3982980943207494, 0.19747552575566568, 0.02356350770664908, 0.5991863388262194, 0.08415538466660386, 0.13801483085323032, 0.08415538466660386, 0.020197292319984926, 0.013464861546656617, 0.006732430773328309, 0.02356350770664908, 0.03232334031233933, 0.5915171277158097, 0.08404068481208224, 0.13252569528059124, 0.09050535287455011, 0.019394004187403596, 0.01292933612493573, 0.006464668062467865, 0.02909100628110539, 0.21812961527766223, 0.7634536534718178, 0.947788492798697, 0.030830364007141065, 0.955741284221373, 0.0073419105930956526, 0.09544483771024348, 0.04038050826202609, 0.7562167910888522, 0.06362989180682899, 0.004894607062063769, 0.013460169420675364, 0.014683821186191305, 0.00611825882757971, 0.6913706676868875, 0.07569751835987819, 0.01009300244798376, 0.00252325061199594, 0.01009300244798376, 0.035325508567943156, 0.10849977631582541, 0.05803476407590662, 0.007569751835987819, 0.20891027462219738, 0.7660043402813904, 0.9780165078828128, 0.9773024654939317, 0.9270107543616061, 0.9516419301785334, 0.6199819318290344, 0.0044603016678347795, 0.04906331834618257, 0.0044603016678347795, 0.0044603016678347795, 0.31222111674843456, 0.015430939718034177, 0.956718262518119, 0.9619172039371204, 0.9512075458344236, 0.9853423164213296, 0.9674529445582143, 0.9843147460280091, 0.9979223396607316, 0.8574125389703097, 0.13099358234268618, 0.018315416188019396, 0.04029391561364268, 0.051283165326454314, 0.03663083237603879, 0.1978064948306095, 0.42491765556205, 0.23077424396904442, 0.9742595628920281, 0.9393289101949986, 0.2843087715424049, 0.10312216459334687, 0.13878123085459765, 0.07324564961770431, 0.13107116247378667, 0.06553558123689333, 0.016383895309223333, 0.09252082056973177, 0.04240537609446039, 0.05107920302287275, 0.9740717945963563, 0.9572875118665083, 0.9747836530545044, 0.9644644261771895, 0.9512154870730655, 0.023200377733489402, 0.011600188866744701, 0.9510382682880819, 0.9568668914568736, 0.11653363606871943, 0.0721398699473025, 0.0721398699473025, 0.005549220765177116, 0.7324971410033793, 0.9687760743845689, 0.02691044651068247, 0.019565070739907892, 0.9195583247756709, 0.009782535369953946, 0.04891267684976973, 0.05571022308231524, 0.16851354712487554, 0.1133959859902445, 0.16041383383985808, 0.04543741598912236, 0.1882689453810157, 0.038127918634350506, 0.05235180537877142, 0.08988706206543771, 0.0881090762223851, 0.1563991961949569, 0.20980379977372265, 0.026702301789382883, 0.01907307270670206, 0.4958998903742536, 0.026702301789382883, 0.053404603578765766, 0.003814614541340412, 0.011443843624021236, 0.9584329786297866, 0.0500822383120846, 0.16396787611764685, 0.1804332695353185, 0.1173159281009105, 0.01646539341767165, 0.15573517940881101, 0.11045534751021398, 0.05488464472557216, 0.08918754767905476, 0.061745225316268686, 0.9540676914392068, 0.04059862516762582, 0.3060427559124936, 0.0492129054733658, 0.03690967910502435, 0.009227419776256088, 0.03537177580898167, 0.0030758065920853624, 0.06459193843379261, 0.4413782459642495, 0.04767500217732312, 0.007689516480213407, 0.2617616974021357, 0.11152523023119161, 0.11982049528970999, 0.095856396231768, 0.08940452340847592, 0.08848282729086276, 0.015668833999423613, 0.05714515929201554, 0.10691674964312585, 0.053458374821562925, 0.013573214413445509, 0.011413839393124632, 0.2634437524791469, 0.09161919729075718, 0.029922768138732143, 0.07187633996210917, 0.3239062530481315, 0.11043660818212482, 0.025295535952330268, 0.058611607694423785, 0.9746277539238802, 0.9493392367973481, 0.035160712473975855, 0.08237039926000668, 0.06936454674526879, 0.8193687084284875, 0.013005852514737898, 0.004335284171579299, 0.008670568343158599, 0.9883424770883175, 0.042289021715737084, 0.1480115760050798, 0.08902951940155177, 0.11907698219957548, 0.052304842648411655, 0.12575419615469186, 0.17694616981058411, 0.08569091242399357, 0.09793247134170693, 0.06232066358108623, 0.057044205910061596, 0.0641747316488193, 0.8414020371734086, 0.0356526286937885, 0.0071305257387576995, 0.9802670705874176, 0.011398454309156017, 0.9906916768305583, 0.03868404345676599, 0.9284170429623838, 0.002777489317649352, 0.05554978635298703, 0.0861021688471299, 0.49717058785923396, 0.14998442315306498, 0.20831169882370137, 0.9576967855728717, 0.163926126656841, 0.15178345060818613, 0.6799898587246739, 0.9592347936969683, 0.07568447944634157, 0.03363754642059626, 0.8829855935406516, 0.0018248186790991829, 0.448905395058399, 0.05474456037297549, 0.09124093395495915, 0.13321176357424036, 0.08211684055946324, 0.1715329558353232, 0.0036496373581983658, 0.012773730753694281, 0.9636827605135881, 0.005261207434231248, 0.005261207434231248, 0.9838457902012433, 0.9358671329816994, 0.00634555986703805, 0.1396023170748371, 0.37438803215524497, 0.009518339800557074, 0.00634555986703805, 0.015863899667595126, 0.00634555986703805, 0.4441891906926635, 0.003172779933519025, 0.976276031432987, 0.8701889775980165, 0.12213178632954619, 0.03756056170838217, 0.9390140427095542, 0.9639569339849479, 0.3125894808278115, 0.02705101276394523, 0.11421538722554653, 0.07213603403718728, 0.03005668084882803, 0.003005668084882803, 0.024045344679062424, 0.07814737020695288, 0.003005668084882803, 0.33964049359175674, 0.2867045855115068, 0.02036699241338573, 0.24597060068473534, 0.05013413517141102, 0.16293593930708583, 0.16293593930708583, 0.048567443447304424, 0.004700075172319783, 0.015666917241065944, 0.04172885551455165, 0.044510779215521754, 0.036165008112611426, 0.50631011357656, 0.06954809252425274, 0.08902155843104351, 0.06954809252425274, 0.055638474019402195, 0.0862396347300734, 0.0027819237009701096, 0.9908038731410561, 0.984195887418114, 0.12524371830375827, 0.8558320750756815, 0.9815022048263576, 0.03369023969114781, 0.18529631830131296, 0.037901519652541286, 0.015441359858442747, 0.583964154646562, 0.03369023969114781, 0.0028075199742623176, 0.0477278395624594, 0.03509399967827897, 0.028075199742623177, 0.20721317775420164, 0.7696489459441775, 0.009867294178771507, 0.05485527267325039, 0.8776843627720062, 0.045251982734052856, 0.07541997122342142, 0.16592393669152714, 0.08547596738654428, 0.010055996163122857, 0.015083994244684285, 0.035195986570929996, 0.14078394628371999, 0.4072678446064757, 0.015083994244684285, 0.0081591085265049, 0.9872521317070929, 0.039874037500780404, 0.9569769000187298, 0.004105798787199771, 0.10675076846719406, 0.008211597574399543, 0.7020915926111609, 0.16423195148799086, 0.012317396361599314, 0.011634929762676575, 0.9773341000648323, 0.012284591953433335, 0.11670362355761668, 0.8660637327170501, 0.0061422959767166675, 0.9711835698322968, 0.021112686300702104, 0.03123515343177346, 0.9370546029532038, 0.010928233939505967, 0.9398281187975133, 0.04371293575802387, 0.4390285751515782, 0.06406425560151785, 0.21857216616988445, 0.11117032589675158, 0.0018842428118093486, 0.05087455591885241, 0.009421214059046744, 0.02449515655352153, 0.028263642177140228, 0.05464304154247111, 0.07129074660050169, 0.926779705806522, 0.00651509358892443, 0.3062093986794482, 0.01954528076677329, 0.02606037435569772, 0.04560565512247101, 0.5863584230031986, 0.01303018717784886, 0.5799444083687633, 0.004978063591148182, 0.023645802057953868, 0.07840450156058387, 0.003733547693361137, 0.03360192924025023, 0.10267256156743126, 0.12694062157427866, 0.016800964620125116, 0.028623865649102048, 0.1835335413344763, 0.8075475818716957, 0.021322390841060693, 0.1321988232145763, 0.002842985445474759, 0.06112418707770732, 0.4676711057805979, 0.07960359247329327, 0.20043047390597052, 0.018479405395585936, 0.015636419950111176, 0.0506591786571832, 0.5640055223833064, 0.010131835731436641, 0.02364095004001883, 0.12495930735438524, 0.03715006434860101, 0.08780924300578422, 0.02364095004001883, 0.07092285012005649, 0.9779080577052678, 0.33989637017250096, 0.15300801229630268, 0.030601602459260538, 0.09945520799259674, 0.019672458723810345, 0.12896389607831227, 0.1027339511132318, 0.0852473211365115, 0.03934491744762069, 0.5003270398768677, 0.09480868860706122, 0.029099696503157406, 0.057260693119116184, 0.000938699887198626, 0.18210777811653345, 0.07978949041188321, 0.03003839639035603, 0.022528797292767026, 0.001877399774397252, 0.010522881373160233, 0.8698915268479126, 0.024553389870707213, 0.0035076271243867445, 0.08067542386089513, 0.007015254248773489, 0.9742579711003773, 0.18266606626363352, 0.8161675301141071, 0.9492319476467166, 0.9736333537958336, 0.7255609365051934, 0.09319131294562116, 0.01331304470651731, 0.04659565647281058, 0.019969567059775963, 0.07987826823910385, 0.01331304470651731, 0.006656522353258655, 0.970510241641184, 0.015653390994212646, 0.021258274378106068, 0.1889624389164984, 0.018896243891649837, 0.7723839690711871, 0.966507093378798, 0.06252841522677047, 0.9222941245948643, 0.9420156174675259, 0.012875764595365016, 0.11588188135828514, 0.004291921531788339, 0.004291921531788339, 0.8455085417623027, 0.004291921531788339, 0.012875764595365016, 0.047119014097708335, 0.048638982294408606, 0.07447844163831317, 0.18695608819413306, 0.010639777376901883, 0.16871646983372984, 0.31919332130705647, 0.10487780557231856, 0.010639777376901883, 0.02735942754060484, 0.9769854731685713, 0.8264092288960153, 0.056603371842192836, 0.0679240462106314, 0.04528269747375427, 0.02884574980385171, 0.02884574980385171, 0.9230639937232548, 0.9711589820167505, 0.008909715431346336, 0.008909715431346336, 0.23397482053367877, 0.005637947482739248, 0.4397599036536613, 0.002818973741369624, 0.19450918815450405, 0.008456921224108871, 0.08456921224108871, 0.019732816189587367, 0.008456921224108871, 0.015974600765089848, 0.06389840306035939, 0.8945776428450315, 0.9689074823003335, 0.821024650021831, 0.008924180978498163, 0.017848361956996326, 0.15171107663446878, 0.0048316910155170555, 0.9953283491965135, 0.12162870345134259, 0.8514009241593982, 0.9593372786374907, 0.9866090872277594, 0.4182655481256436, 0.20023350708142512, 0.004449633490698336, 0.3737692132186602, 0.9783821579391327, 0.8342174106883665, 0.041710870534418326, 0.013903623511472774, 0.08342174106883665, 0.013903623511472774, 0.9162846532288009, 0.07186546299833732, 0.018315555859584432, 0.06227288992258707, 0.22344978148693007, 0.02930488937533509, 0.010989333515750658, 0.6520337886012058, 0.006016666782155909, 0.6678500128193059, 0.006016666782155909, 0.006016666782155909, 0.0030083333910779545, 0.2707500051970159, 0.03610000069293545, 0.9734313623211754, 0.9873288545971178, 0.3105407069896192, 0.10019582640049679, 0.055074527094312806, 0.10948550566941702, 0.03715871707568093, 0.005308388153668704, 0.22560649653091994, 0.1220929275343802, 0.002654194076834352, 0.03185032892201223, 0.9316591381482601, 0.0429996525299197, 0.9547088164337038, 0.38626353977444394, 0.017827547989589722, 0.24562399452323613, 0.06536767596182898, 0.15648625457528753, 0.045559289306729284, 0.001980838665509969, 0.005942515996529907, 0.06932935329284891, 0.005942515996529907, 0.3822724738954033, 0.1229135683026518, 0.06794075679114468, 0.01747853494212021, 0.10148826740585928, 0.055254723365412275, 0.11896680234797949, 0.04764310330997283, 0.06963222791457567, 0.016068975672594386, 0.942158978746343, 0.8894069753273085, 0.08719676228699104, 0.9762016231171925, 0.0025612219052040764, 0.0973264323977549, 0.7965400125184677, 0.005122443810408153, 0.09220398858734674, 0.005122443810408153, 0.9672009486080769, 0.9830416557298077, 0.9088922232710211, 0.07835277786819148, 0.5079057924629685, 0.02905393304343252, 0.04411893536224938, 0.08285751275349273, 0.023673575072426498, 0.015065002318816861, 0.13773716405775416, 0.0731728684056819, 0.022597503478225294, 0.06241215246366986, 0.9771541023772524, 0.29932401118312396, 0.09767415101765098, 0.06931713943188134, 0.0819202556922234, 0.25206232520684124, 0.006301558130171031, 0.055138633638996515, 0.02678162205322688, 0.011027726727799303, 0.10240031961527925, 0.13206106414664912, 0.08804070943109941, 0.09464376263843187, 0.04402035471554971, 0.0022010177357774854, 0.1958905784841962, 0.33015266036662283, 0.026412212829329824, 0.08363867395954444, 0.9705582162211451, 0.012781285781467446, 0.025562571562934892, 0.9585964336100584, 0.7757991549840243, 0.034633890847501084, 0.004617852113000144, 0.03232496479100101, 0.13622663733350426, 0.002308926056500072, 0.009235704226000289, 0.9298207032022023, 0.027347667741241245, 0.9640133786484046, 0.08121250037286051, 0.10361594875158066, 0.1381545983354409, 0.13255373624076083, 0.155890661635261, 0.05787557497836037, 0.15309023058792098, 0.0774785923097405, 0.06440991408882041, 0.03640560361542023, 0.990842643616376, 0.9342105656426061, 0.9244783841114602, 0.16896332933647712, 0.056321109778825706, 0.01609174565109306, 0.00804587282554653, 0.7402202999502807, 0.9809399780092763, 0.9416304619155454, 0.943837916034593, 0.7994430555837856, 0.10151657848682992, 0.05710307539884183, 0.01268957231085374, 0.01903435846628061, 0.01268957231085374, 0.3546508846075119, 0.19655350231259694, 0.04486547335396234, 0.0950720744881583, 0.08118514225955091, 0.028842090013261507, 0.0032046766681401674, 0.05341127780233612, 0.04807015002210251, 0.09614030004420503, 0.9676547433501417, 0.002450016909243128, 0.01225008454621564, 0.3136021643831204, 0.06860047345880758, 0.004900033818486256, 0.5978041258553233, 0.9685267566835101, 0.9696758896327203, 0.03035917043866212, 0.00252993086988851, 0.9512540070780797, 0.01264965434944255, 0.9709809318662809, 0.9790899836613528, 0.01808221405227107, 0.01265754983658975, 0.13380838398680592, 0.005424664215681321, 0.5623568570256302, 0.26761676797361184, 0.00922612061220203, 0.06919590459151521, 0.21220077408064666, 0.17529629163183855, 0.5305019352016167, 0.0911820856206672, 0.0436088235577104, 0.007928877010492798, 0.09514652412591358, 0.08325320861017439, 0.5034836901662927, 0.015857754020985597, 0.07928877010492799, 0.031715508041971194, 0.0436088235577104, 0.639644869125263, 0.004087187662142255, 0.10422328538462751, 0.2513620412217487, 0.9774078944974439, 0.2105818097043054, 0.059512250568608045, 0.041200788855190185, 0.11902450113721609, 0.03662292342683572, 0.0022889327141772326, 0.38225176326759785, 0.09384624128126653, 0.05264545242607635, 0.9867341389434614, 0.12266209939309194, 0.08177473292872796, 0.010221841616090995, 0.07155289131263697, 0.7155289131263697, 0.01419505175411302, 0.04258515526233906, 0.9368734157714593, 0.9777719480013839, 0.11490927715010986, 0.022981855430021972, 0.011490927715010986, 0.00766061847667399, 0.5477342210821903, 0.1608729880101538, 0.13023051410345785, 0.9571032138851818, 0.9258746287995929, 0.05735506550085974, 0.7418175884227985, 0.004755240951428196, 0.014265722854284587, 0.014265722854284587, 0.218741083765697, 0.004755240951428196, 0.9815084746818645, 0.9936934746533063, 0.021376344968929758, 0.5066193757636352, 0.008550537987571903, 0.05344086242232439, 0.07695484188814712, 0.23086452566444138, 0.02565161396271571, 0.017101075975143806, 0.05985376591300332, 0.9849239163478574, 0.883489106419954, 0.09603142461086457, 0.9669490316578191, 0.8133175360528657, 0.01078261884918572, 0.0015403741213122458, 0.0015403741213122458, 0.0030807482426244916, 0.0030807482426244916, 0.11706843321973068, 0.047751597760679616, 0.8936331564880037, 0.00884785303453469, 0.08847853034534689, 0.8776891236267784, 0.09752101373630871, 0.95250318152919, 0.9465878571392335, 0.9599761777715834, 0.1041118358703784, 0.11372215918149024, 0.33956475699261873, 0.09610323311111851, 0.02082236717407568, 0.11212043862963826, 0.12973936470001, 0.06086538097037506, 0.0016017205518519752, 0.022424087725927654, 0.01618269189507613, 0.01618269189507613, 0.1456442270556852, 0.8199230560171906, 0.027411764414882474, 0.01827450960992165, 0.941137244910965, 0.9799671001811753, 0.9695636973247423, 0.14062977491954207, 0.16239390675232834, 0.35324860128599256, 0.04185409967843514, 0.0937531832796947, 0.11049482315106876, 0.031809115755610705, 0.03850577170416033, 0.010044983922824434, 0.016741639871374055, 0.9756444342234458, 0.03512607577660035, 0.029017193032843773, 0.34820631639412525, 0.1496676272220363, 0.0076361034296957295, 0.012217765487513167, 0.01069054480157402, 0.31766190267534233, 0.08857879978447046, 0.08044849533641685, 0.719802326694256, 0.012702394000486871, 0.10161915200389497, 0.08044849533641685, 0.08286266363470943, 0.7595744166515032, 0.1381044393911824, 0.004029966739548253, 0.00940325572561259, 0.0026866444930321687, 0.07925601254444897, 0.6676311565184939, 0.22702145966121826, 0.006716611232580422, 0.004029966739548253, 0.9612372770488246, 0.03176817149657988, 0.09530451448973964, 0.8577406304076568, 0.280195608916052, 0.7107400811529124, 0.021968799254671715, 0.2087035929193813, 0.5931575798761363, 0.005492199813667929, 0.09336739683235479, 0.005492199813667929, 0.076890797391351, 0.9581111120472685, 0.9510730806764797, 0.9729505336277499, 0.02159263600560127, 0.16194477004200955, 0.8133226228776479, 0.0980723048366571, 0.07705681094308772, 0.11908779873022649, 0.7005164631189793, 0.12182817865970363, 0.8527972506179254, 0.023205367363753074, 0.9474611671908031, 0.9896463008394859, 0.24718266689361418, 0.09592163192886521, 0.02213576121435351, 0.6271799010733494, 0.0073785870714511695, 0.35381297230920733, 0.004020601958059174, 0.13670046657401191, 0.49051343888321924, 0.008041203916118348, 0.9690363056754385, 0.02516977417338801, 0.19615373435766345, 0.08406588615328434, 0.009340654017031592, 0.02802196205109478, 0.06538457811922115, 0.6071425111070535, 0.009340654017031592, 0.0370107160112542, 0.9622786162926091, 0.06792282233906241, 0.06792282233906241, 0.8490352792382801, 0.7349048481457994, 0.008748867239830944, 0.08748867239830944, 0.157479610316957, 0.40101100785849064, 0.20050550392924532, 0.08372757306935519, 0.05288057246485591, 0.08593093025539086, 0.10796450211574748, 0.04406714372071326, 0.006610071558106989, 0.013220143116213978, 0.008817121924020486, 0.9875176554902944, 0.02387718847228309, 0.9550875388913237, 0.927869121661343, 0.14557800737360654, 0.8318743278491803, 0.008741520987221179, 0.9353427456326662, 0.052449125923327074, 0.27960878960014035, 0.021508368430780026, 0.010754184215390013, 0.6775136055695709, 0.013783764269953086, 0.055135057079812345, 0.11027011415962469, 0.7581070348474198, 0.013783764269953086, 0.055135057079812345, 0.05631532841548905, 0.9198170307863212, 0.32698092726660954, 0.06988905315622189, 0.04076861434112943, 0.021632325976925822, 0.03244848896538873, 0.00915213791331477, 0.1505942693009067, 0.29370042576364674, 0.05241678986716641, 0.00249603761272221, 0.078601729544985, 0.015720345908997, 0.188644150907964, 0.015720345908997, 0.6916952199958679, 0.1100141166511274, 0.04231312178889515, 0.22849085766003382, 0.00846262435777903, 0.6008463294023112, 0.9710762333349173, 0.14814203719562505, 0.05555326394835939, 0.6733728963437502, 0.006733728963437502, 0.03535207705804688, 0.0016834322408593755, 0.0016834322408593755, 0.023568051372031256, 0.05723669618921877, 0.09604569843090434, 0.15113073135451124, 0.1412436741630946, 0.031073608315880814, 0.04802284921545217, 0.038135792024035546, 0.11299493933047569, 0.11581981281373759, 0.21610282146953474, 0.04943528595708312, 0.14418875081309443, 0.02136129641675473, 0.19225166775079258, 0.032041944625132095, 0.5660743550440004, 0.04272259283350946, 0.9798903456414062, 0.0009881553513507889, 0.40316738335112184, 0.020751262378366563, 0.14525883664856595, 0.1758916525404404, 0.030632815891874454, 0.2193704879998751, 0.0029644660540523666, 0.0924043279381869, 0.9027192037038259, 0.8965541325971955, 0.052738478388070324, 0.09302742652855356, 0.8837605520212588, 0.9444656467337611, 0.9558963425585293, 0.023897408563963232, 0.023897408563963232, 0.005999618084226223, 0.2631261074082072, 0.0017141765954932066, 0.02142720744366508, 0.04713985637606318, 0.41140238291836956, 0.01028505957295924, 0.12599197976875068, 0.003428353190986413, 0.10970730211156522, 0.9293739994992022, 0.03658952753933867, 0.0036589527539338668, 0.014635811015735467, 0.0109768582618016, 0.0036589527539338668, 0.016489069149994352, 0.032978138299988705, 0.11542348404996047, 0.7475044681330774, 0.08244534574997177, 0.010992712766662902, 0.9672231174186866, 0.8946071118069014, 0.08520067731494299, 0.02162007663141762, 0.24537737458375922, 0.0012594219396942303, 0.13370862926420413, 0.019730943721876275, 0.15427918761254322, 0.09739529666968715, 0.06548994086409998, 0.025608246107116015, 0.23509209540958967, 0.9391842586759029, 0.9592835471793334, 0.956637823057117, 0.9536327729552373, 0.0405801179980952, 0.9561511849312676, 0.9858711371792225, 0.002298267002651512, 0.0390705390450757, 0.01608786901856058, 0.020684403023863606, 0.6113390227053022, 0.10112374811666652, 0.009193068010606048, 0.10572028212196954, 0.09193068010606047, 0.9844890435438046, 0.9577626617626176, 0.14658983580822216, 0.1825458332706163, 0.1389837594219465, 0.09680460855259955, 0.03803038193137839, 0.13276060601499368, 0.03111576703476414, 0.05946568811088258, 0.0518596117246069, 0.12100576069074943, 0.9701690648177902, 0.32030167127851183, 0.06507004180088857, 0.16099225859357774, 0.0762890145251797, 0.020755099539938596, 0.05329012044038288, 0.1525780290503594, 0.07348427134410691, 0.05721676089388478, 0.019072253631294923, 0.9858846253371536, 0.09375403924716749, 0.8750376996402299, 0.9741245792960855, 0.9400655509983742, 0.9461768192495721, 0.32625863803013205, 0.6451023070141247, 0.02965987618455746, 0.02929789443888161, 0.08789368331664484, 0.8789368331664483, 0.09146738257509127, 0.8918069801071398, 0.9896372767479812, 0.9410887673584624, 0.9924875454391654, 0.9912924240655441, 0.04570002506328164, 0.10968006015187594, 0.027420015037968985, 0.10054005513921961, 0.05484003007593797, 0.018280010025312654, 0.6489403558985992, 0.9869526954462432, 0.9610243257294567, 0.000813049344948779, 0.013008789519180464, 0.001626098689897558, 0.021952332313617033, 0.9828702726335161, 0.02386898951242645, 0.16300773325559526, 0.12516665232126065, 0.18571238181619604, 0.07044262758545367, 0.09198293519422876, 0.07451782091684354, 0.08033952567597195, 0.06927828663362799, 0.11526975423074237, 0.9823978705267682, 0.08258606336479803, 0.7799794873342035, 0.045881146313776676, 0.08258606336479803, 0.9526477678831637, 0.9764670753897667, 0.9658182494389899, 0.008850505826874595, 0.7227913091947586, 0.01770101165374919, 0.2065118026270739, 0.03245185469854018, 0.011800674435832794, 0.008905899165980013, 0.1335884874897002, 0.632318840784581, 0.22264747914950034, 0.9728581247977446, 0.01737246651424544, 0.02203430337338992, 0.0073447677911299735, 0.0073447677911299735, 0.9621645806380266, 0.9528987436831095, 0.13015176222036487, 0.8134485138772803, 0.05422990092515202, 0.9058808771294773, 0.09058808771294773, 0.1629134246641948, 0.15017159256755389, 0.11740688146190577, 0.11285622714167685, 0.06370916048320469, 0.07918138517198296, 0.07645099257984561, 0.07099020739557092, 0.05733824443488421, 0.11012583454953952, 0.9689061593435223, 0.10209549585440303, 0.011343943983822559, 0.8848276307381595, 0.07630453412553483, 0.14497861483851618, 0.18694610860756034, 0.09538066765691854, 0.022891360237660446, 0.02670658694393719, 0.007630453412553482, 0.06867408071298134, 0.03433704035649067, 0.3319247234460765, 0.08607012692989763, 0.005738008461993176, 0.12623618616384985, 0.1434502115498294, 0.005738008461993176, 0.05164207615793858, 0.5795388546613107, 0.003728350136013872, 0.7615155152808334, 0.01398131301005202, 0.054061076972201146, 0.000932087534003468, 0.001864175068006936, 0.001864175068006936, 0.003728350136013872, 0.10159754120637801, 0.05778942710821502, 0.9361265829518569, 0.09263637974519158, 0.8978602959918569, 0.9568585128561048, 0.2788525025404143, 0.026769840243879777, 0.31008398282494076, 0.020077380182909832, 0.1360800212397222, 0.006692460060969944, 0.020077380182909832, 0.04684722042678961, 0.1494649413616621, 0.0044616400406466295, 0.05217856397659459, 0.04269155234448648, 0.8728050701539458, 0.023717529080270267, 0.004743505816054054, 0.004743505816054054, 0.14323109179202093, 0.8498378112993241, 0.007982316690757645, 0.20754023395969878, 0.7702935606581128, 0.007982316690757645, 0.003991158345378823, 0.9677670412251476, 0.9680928699951901, 0.9092423984077082, 0.06652993159080792, 0.9755646189675018, 0.05878398540494352, 0.06257650059235922, 0.039821409467864964, 0.09860539487280849, 0.045510182248988534, 0.09102036449797707, 0.29771244221213333, 0.15170060749662845, 0.07774656134202207, 0.07774656134202207, 0.09566001884285795, 0.1456158064607949, 0.16899936662238238, 0.10628890982539772, 0.03932689663539716, 0.05420734401095284, 0.10097446433412784, 0.07971668236904829, 0.2062004850612716, 0.0021257781965079545, 0.026723736576992695, 0.9353307801947442, 0.13607201194167687, 0.05342086394747314, 0.22376286408186863, 0.052412923118275535, 0.16530229598840745, 0.019150875754754524, 0.1532070060380362, 0.1259926036497008, 0.03830175150950905, 0.03225410653432341, 0.981075755402524, 0.9753339699769151], \"Term\": [\"accid\", \"accid\", \"account\", \"account\", \"acquir\", \"acquir\", \"add\", \"add\", \"add\", \"add\", \"add\", \"add\", \"add\", \"add\", \"add\", \"add\", \"advis\", \"advis\", \"agav\", \"agav\", \"agav\", \"alcohol\", \"alcohol\", \"almond\", \"almond\", \"almond\", \"almond\", \"almond\", \"amaz\", \"amaz\", \"amaz\", \"amaz\", \"amaz\", \"amaz\", \"amaz\", \"amaz\", \"amaz\", \"amaz\", \"amazon\", \"amazon\", \"amazon\", \"amazon\", \"amazon\", \"amazon\", \"amazon\", \"amazon\", \"amazon\", \"amazon\", \"annoy\", \"annoy\", \"apart\", \"apart\", \"apart\", \"appet\", \"appet\", \"appet\", \"appetit\", \"appli\", \"appropri\", \"arriv\", \"arriv\", \"arriv\", \"arriv\", \"arriv\", \"arriv\", \"artifici\", \"artifici\", \"artifici\", \"artifici\", \"artifici\", \"aspartam\", \"avail\", \"avail\", \"avail\", \"avail\", \"avail\", \"avail\", \"avail\", \"avail\", \"aw\", \"aw\", \"aw\", \"aw\", \"aw\", \"away\", \"away\", \"away\", \"away\", \"away\", \"away\", \"away\", \"away\", \"away\", \"away\", \"babi\", \"babi\", \"babi\", \"babi\", \"babi\", \"babi\", \"babi\", \"bacon\", \"bacon\", \"bacon\", \"bag\", \"bag\", \"bag\", \"bag\", \"bag\", \"bag\", \"bag\", \"bag\", \"bag\", \"bag\", \"bake\", \"bake\", \"bake\", \"bake\", \"bake\", \"bake\", \"bake\", \"ball\", \"ball\", \"balsam\", \"bar\", \"bar\", \"bar\", \"bar\", \"bar\", \"barley\", \"basil\", \"bean\", \"bean\", \"bean\", \"bean\", \"bean\", \"bean\", \"beef\", \"beef\", \"beef\", \"beef\", \"beef\", \"beef\", \"bell\", \"bergamot\", \"best\", \"best\", \"best\", \"best\", \"best\", \"best\", \"best\", \"best\", \"best\", \"best\", \"better\", \"better\", \"better\", \"better\", \"better\", \"better\", \"better\", \"better\", \"better\", \"better\", \"bigelow\", \"bite\", \"bite\", \"bite\", \"bite\", \"bite\", \"bite\", \"bitter\", \"bitter\", \"bitter\", \"black\", \"black\", \"black\", \"black\", \"black\", \"black\", \"black\", \"black\", \"blend\", \"blend\", \"blend\", \"blend\", \"blend\", \"blend\", \"blender\", \"blood\", \"blood\", \"blood\", \"blood\", \"bold\", \"bold\", \"bold\", \"bone\", \"bone\", \"bottl\", \"bottl\", \"bottl\", \"bottl\", \"bottl\", \"bottl\", \"bottl\", \"boyfriend\", \"brand\", \"brand\", \"brand\", \"brand\", \"brand\", \"brand\", \"brand\", \"brand\", \"brand\", \"brand\", \"bread\", \"bread\", \"bread\", \"breath\", \"breath\", \"brew\", \"brew\", \"brewer\", \"british\", \"broth\", \"browni\", \"burger\", \"burger\", \"butter\", \"butter\", \"butter\", \"butter\", \"butter\", \"butter\", \"butter\", \"butteri\", \"butteri\", \"buy\", \"buy\", \"buy\", \"buy\", \"buy\", \"buy\", \"buy\", \"buy\", \"buy\", \"buy\", \"buyer\", \"cacao\", \"cacao\", \"cafe\", \"calcium\", \"calori\", \"calori\", \"calori\", \"calori\", \"calori\", \"calori\", \"calori\", \"calori\", \"camp\", \"camp\", \"can\", \"can\", \"can\", \"can\", \"can\", \"can\", \"can\", \"candi\", \"candi\", \"candi\", \"canin\", \"cappuccino\", \"capsul\", \"carbon\", \"caribou\", \"carton\", \"cashew\", \"cashew\", \"cashew\", \"cat\", \"cat\", \"catnip\", \"celesti\", \"celesti\", \"celesti\", \"cereal\", \"cereal\", \"cereal\", \"cereal\", \"cereal\", \"chai\", \"chai\", \"chai\", \"charact\", \"charg\", \"charg\", \"charg\", \"cheddar\", \"cheer\", \"chees\", \"chees\", \"chees\", \"chees\", \"chees\", \"chees\", \"cherri\", \"chew\", \"chew\", \"chewer\", \"chewi\", \"chewi\", \"chewi\", \"chewi\", \"chewi\", \"chicken\", \"chicken\", \"chicken\", \"chicken\", \"chicken\", \"chihuahua\", \"chili\", \"chili\", \"chili\", \"china\", \"china\", \"china\", \"chip\", \"chip\", \"chip\", \"chip\", \"chlorid\", \"chocol\", \"chocol\", \"chocol\", \"chocol\", \"chocol\", \"chocol\", \"chow\", \"christma\", \"christma\", \"christma\", \"christma\", \"cider\", \"cinnamon\", \"cinnamon\", \"cinnamon\", \"cinnamon\", \"cinnamon\", \"cinnamon\", \"clean\", \"clean\", \"clean\", \"clean\", \"clean\", \"clean\", \"clean\", \"clean\", \"click\", \"cocoa\", \"cocoa\", \"cocoa\", \"coconut\", \"coconut\", \"coconut\", \"coffe\", \"coffe\", \"coke\", \"cold\", \"cold\", \"cold\", \"cold\", \"cold\", \"cold\", \"cold\", \"come\", \"come\", \"come\", \"come\", \"come\", \"come\", \"come\", \"come\", \"come\", \"come\", \"compani\", \"compani\", \"compani\", \"compani\", \"compani\", \"compani\", \"compani\", \"compani\", \"compani\", \"concentr\", \"concentr\", \"concentr\", \"concentr\", \"condition\", \"constip\", \"contain\", \"contain\", \"contain\", \"contain\", \"contain\", \"contain\", \"contain\", \"contain\", \"contain\", \"contain\", \"content\", \"content\", \"content\", \"content\", \"content\", \"content\", \"content\", \"content\", \"conveni\", \"conveni\", \"conveni\", \"conveni\", \"conveni\", \"conveni\", \"conveni\", \"conveni\", \"conveni\", \"convinc\", \"cook\", \"cook\", \"cook\", \"cook\", \"cook\", \"cook\", \"cook\", \"cook\", \"cooki\", \"cooki\", \"copper\", \"core\", \"corn\", \"corn\", \"corn\", \"corn\", \"corn\", \"corn\", \"corn\", \"corn\", \"cost\", \"cost\", \"cost\", \"cost\", \"cost\", \"cost\", \"cost\", \"cost\", \"cost\", \"cost\", \"coupon\", \"coupon\", \"coupon\", \"cracker\", \"crash\", \"crash\", \"crave\", \"crave\", \"crave\", \"creamer\", \"creamer\", \"credit\", \"crispi\", \"crispi\", \"critic\", \"crunch\", \"crunch\", \"crunch\", \"crunch\", \"crunch\", \"crunch\", \"crunch\", \"crunchi\", \"crunchi\", \"crunchi\", \"crunchi\", \"crunchi\", \"crust\", \"cuisin\", \"cuisin\", \"cup\", \"cup\", \"cup\", \"cup\", \"cupcak\", \"cupcak\", \"custom\", \"custom\", \"custom\", \"dark\", \"dark\", \"dark\", \"dark\", \"dark\", \"darker\", \"date\", \"date\", \"date\", \"date\", \"date\", \"daughter\", \"daughter\", \"daughter\", \"daughter\", \"daughter\", \"daughter\", \"daughter\", \"daughter\", \"daughter\", \"decad\", \"decad\", \"decaf\", \"decor\", \"delici\", \"delici\", \"delici\", \"delici\", \"delici\", \"delici\", \"delici\", \"delici\", \"delici\", \"delici\", \"delish\", \"deliveri\", \"deliveri\", \"deliveri\", \"deliveri\", \"dent\", \"descript\", \"descript\", \"descript\", \"descript\", \"diaper\", \"diarrhea\", \"diet\", \"diet\", \"diet\", \"diet\", \"diet\", \"diet\", \"diet\", \"diet\", \"diet\", \"dietari\", \"differ\", \"differ\", \"differ\", \"differ\", \"differ\", \"differ\", \"differ\", \"differ\", \"differ\", \"differ\", \"digest\", \"digest\", \"digest\", \"dilut\", \"disappoint\", \"disappoint\", \"disappoint\", \"disappoint\", \"disappoint\", \"disappoint\", \"disappoint\", \"disappoint\", \"dish\", \"dish\", \"dish\", \"dish\", \"dish\", \"dish\", \"display\", \"dissolv\", \"dissolv\", \"dissolv\", \"dog\", \"dog\", \"doggi\", \"dont\", \"dont\", \"dont\", \"donut\", \"dough\", \"dress\", \"dress\", \"drink\", \"drink\", \"drink\", \"drink\", \"drink\", \"drink\", \"drink\", \"drink\", \"drinker\", \"drinker\", \"drizzl\", \"earl\", \"earl\", \"earlier\", \"easi\", \"easi\", \"easi\", \"easi\", \"easi\", \"easi\", \"easi\", \"easi\", \"easi\", \"eat\", \"eat\", \"eat\", \"eat\", \"eat\", \"eat\", \"eat\", \"eat\", \"eat\", \"eater\", \"eater\", \"eater\", \"elimin\", \"email\", \"emeril\", \"energi\", \"energi\", \"energi\", \"energi\", \"english\", \"english\", \"enjoy\", \"enjoy\", \"enjoy\", \"enjoy\", \"enjoy\", \"enjoy\", \"enjoy\", \"enjoy\", \"enjoy\", \"enjoy\", \"espresso\", \"excit\", \"excit\", \"excit\", \"excit\", \"excit\", \"excit\", \"excit\", \"expir\", \"expir\", \"expir\", \"face\", \"face\", \"face\", \"face\", \"famili\", \"famili\", \"famili\", \"famili\", \"famili\", \"famili\", \"famili\", \"famili\", \"famili\", \"fanci\", \"fanci\", \"fanci\", \"fast\", \"fast\", \"fast\", \"fast\", \"fast\", \"fast\", \"fast\", \"father\", \"favorit\", \"favorit\", \"favorit\", \"favorit\", \"favorit\", \"favorit\", \"favorit\", \"favorit\", \"favorit\", \"favorit\", \"feast\", \"fee\", \"fee\", \"feed\", \"feed\", \"feel\", \"feel\", \"feel\", \"feel\", \"feel\", \"feel\", \"feel\", \"feel\", \"feel\", \"feel\", \"ferment\", \"fiber\", \"fiber\", \"fiber\", \"fill\", \"fill\", \"fill\", \"fill\", \"fill\", \"fill\", \"fill\", \"fill\", \"fill\", \"fill\", \"filler\", \"finicki\", \"finicki\", \"fishi\", \"fix\", \"flavor\", \"flavor\", \"flavor\", \"flavor\", \"flavor\", \"flavor\", \"flavor\", \"flavor\", \"flavor\", \"flavor\", \"flaxse\", \"floral\", \"flour\", \"flow\", \"folger\", \"food\", \"food\", \"food\", \"food\", \"food\", \"food\", \"food\", \"food\", \"food\", \"formula\", \"formula\", \"formula\", \"fragrant\", \"free\", \"free\", \"free\", \"free\", \"free\", \"free\", \"free\", \"free\", \"free\", \"free\", \"french\", \"french\", \"french\", \"fresh\", \"fresh\", \"fresh\", \"fresh\", \"fresh\", \"fresh\", \"fresh\", \"fresh\", \"fresh\", \"fresh\", \"fuel\", \"fussi\", \"gain\", \"garlic\", \"garlic\", \"garlic\", \"garlic\", \"get\", \"get\", \"get\", \"get\", \"get\", \"get\", \"get\", \"get\", \"get\", \"get\", \"gift\", \"gift\", \"gift\", \"gift\", \"gift\", \"gift\", \"give\", \"give\", \"give\", \"give\", \"give\", \"give\", \"give\", \"give\", \"give\", \"give\", \"glass\", \"glass\", \"glass\", \"glass\", \"glass\", \"glaze\", \"gloria\", \"glucosamin\", \"gluten\", \"gluten\", \"gluten\", \"go\", \"go\", \"go\", \"go\", \"go\", \"go\", \"go\", \"go\", \"go\", \"go\", \"good\", \"good\", \"good\", \"good\", \"good\", \"good\", \"good\", \"good\", \"good\", \"good\", \"graham\", \"grain\", \"grain\", \"grain\", \"grain\", \"grain\", \"granola\", \"granola\", \"granola\", \"grass\", \"gravi\", \"gravi\", \"great\", \"great\", \"great\", \"great\", \"great\", \"great\", \"great\", \"great\", \"great\", \"great\", \"green\", \"green\", \"green\", \"green\", \"green\", \"green\", \"greeni\", \"grey\", \"grey\", \"grey\", \"grill\", \"grill\", \"groceri\", \"groceri\", \"groceri\", \"groceri\", \"groceri\", \"groceri\", \"groceri\", \"groceri\", \"groceri\", \"ground\", \"grove\", \"grove\", \"gummi\", \"gummi\", \"gummi\", \"habit\", \"hair\", \"handi\", \"handi\", \"handi\", \"happier\", \"happier\", \"harder\", \"harder\", \"health\", \"health\", \"health\", \"health\", \"health\", \"health\", \"health\", \"health\", \"health\", \"healthi\", \"healthi\", \"healthi\", \"healthi\", \"healthi\", \"healthi\", \"healthi\", \"healthi\", \"healthi\", \"help\", \"help\", \"help\", \"help\", \"help\", \"help\", \"help\", \"help\", \"help\", \"help\", \"hemp\", \"hershey\", \"high\", \"high\", \"high\", \"high\", \"high\", \"high\", \"high\", \"high\", \"high\", \"high\", \"holist\", \"honey\", \"honey\", \"honey\", \"honey\", \"honey\", \"hour\", \"hour\", \"hour\", \"hour\", \"hour\", \"hour\", \"hour\", \"hour\", \"hour\", \"href\", \"href\", \"href\", \"href\", \"href\", \"href\", \"href\", \"href\", \"href\", \"http\", \"http\", \"http\", \"http\", \"http\", \"http\", \"http\", \"http\", \"http\", \"hydrat\", \"hydrat\", \"indoor\", \"infus\", \"infus\", \"ingredi\", \"ingredi\", \"ingredi\", \"ingredi\", \"ingredi\", \"ingredi\", \"ingredi\", \"ingredi\", \"ingredi\", \"item\", \"item\", \"item\", \"item\", \"item\", \"item\", \"item\", \"item\", \"item\", \"japan\", \"japan\", \"japanes\", \"jasmin\", \"jean\", \"joint\", \"juic\", \"juic\", \"juic\", \"juic\", \"juic\", \"juic\", \"junk\", \"junk\", \"junki\", \"kashi\", \"kcup\", \"ketchup\", \"kettl\", \"keurig\", \"kibbl\", \"kibbl\", \"kid\", \"kid\", \"kid\", \"kid\", \"kid\", \"kid\", \"kid\", \"kidney\", \"king\", \"know\", \"know\", \"know\", \"know\", \"know\", \"know\", \"know\", \"know\", \"know\", \"know\", \"kona\", \"kong\", \"larabar\", \"lavazza\", \"leaf\", \"leaf\", \"leaf\", \"lecithin\", \"leg\", \"lemon\", \"lemon\", \"lemon\", \"lemon\", \"lemon\", \"lick\", \"lick\", \"licoric\", \"licoric\", \"licoric\", \"licoric\", \"like\", \"like\", \"like\", \"like\", \"like\", \"like\", \"like\", \"like\", \"like\", \"like\", \"list\", \"list\", \"list\", \"list\", \"list\", \"list\", \"list\", \"list\", \"list\", \"litter\", \"littl\", \"littl\", \"littl\", \"littl\", \"littl\", \"littl\", \"littl\", \"littl\", \"littl\", \"littl\", \"liver\", \"liver\", \"local\", \"local\", \"local\", \"local\", \"local\", \"local\", \"local\", \"local\", \"local\", \"local\", \"look\", \"look\", \"look\", \"look\", \"look\", \"look\", \"look\", \"look\", \"look\", \"look\", \"love\", \"love\", \"love\", \"love\", \"love\", \"love\", \"love\", \"love\", \"love\", \"love\", \"macadamia\", \"macaroni\", \"macaroni\", \"machin\", \"machin\", \"machin\", \"machin\", \"machin\", \"machin\", \"magnesium\", \"make\", \"make\", \"make\", \"make\", \"make\", \"make\", \"make\", \"make\", \"make\", \"make\", \"maker\", \"maker\", \"maker\", \"maker\", \"maker\", \"mango\", \"mango\", \"mapl\", \"matcha\", \"matcha\", \"meal\", \"meal\", \"meal\", \"meal\", \"meal\", \"meal\", \"meati\", \"medium\", \"medium\", \"medium\", \"mexican\", \"microwav\", \"microwav\", \"microwav\", \"milk\", \"milk\", \"milk\", \"milk\", \"milk\", \"milk\", \"milk\", \"milk\", \"milk\", \"minimum\", \"mint\", \"mint\", \"mint\", \"minti\", \"minut\", \"minut\", \"minut\", \"minut\", \"minut\", \"minut\", \"minut\", \"minut\", \"minut\", \"miracl\", \"moistur\", \"moistur\", \"molass\", \"molass\", \"mold\", \"money\", \"money\", \"money\", \"money\", \"money\", \"money\", \"money\", \"money\", \"money\", \"money\", \"month\", \"month\", \"month\", \"month\", \"month\", \"month\", \"month\", \"month\", \"month\", \"morn\", \"morn\", \"morn\", \"morn\", \"morn\", \"morn\", \"morn\", \"morn\", \"morn\", \"morn\", \"mountain\", \"muffin\", \"mushroom\", \"mushroom\", \"mustard\", \"natur\", \"natur\", \"natur\", \"natur\", \"natur\", \"natur\", \"natur\", \"natur\", \"natur\", \"natur\", \"newman\", \"newman\", \"newman\", \"nicer\", \"nicer\", \"night\", \"night\", \"night\", \"night\", \"night\", \"night\", \"night\", \"night\", \"night\", \"night\", \"noodl\", \"noodl\", \"nourish\", \"nourish\", \"nutrit\", \"nutrit\", \"nutrit\", \"nutrit\", \"nutrit\", \"nutrit\", \"oat\", \"oat\", \"oatmeal\", \"oatmeal\", \"oatmeal\", \"oatmeal\", \"odor\", \"odor\", \"omega\", \"omega\", \"onion\", \"onion\", \"onion\", \"open\", \"open\", \"open\", \"open\", \"open\", \"open\", \"open\", \"open\", \"open\", \"open\", \"opportun\", \"opportun\", \"orang\", \"orang\", \"orang\", \"orang\", \"orang\", \"orang\", \"orang\", \"order\", \"order\", \"order\", \"order\", \"order\", \"order\", \"order\", \"order\", \"order\", \"order\", \"oreo\", \"oreo\", \"organ\", \"organ\", \"organ\", \"organ\", \"organ\", \"organ\", \"organ\", \"organ\", \"organ\", \"ounc\", \"ounc\", \"ounc\", \"ounc\", \"ounc\", \"ounc\", \"ounc\", \"ounc\", \"ounc\", \"overpric\", \"pack\", \"pack\", \"pack\", \"pack\", \"pack\", \"pack\", \"pack\", \"pack\", \"pack\", \"packag\", \"packag\", \"packag\", \"packag\", \"packag\", \"packag\", \"packag\", \"packag\", \"packag\", \"packag\", \"packet\", \"packet\", \"packet\", \"packet\", \"packet\", \"packet\", \"pamela\", \"pasta\", \"pasta\", \"pastri\", \"paw\", \"pay\", \"pay\", \"pay\", \"pay\", \"pay\", \"pay\", \"pay\", \"pay\", \"peach\", \"peach\", \"peanut\", \"peanut\", \"peanut\", \"peanut\", \"pear\", \"pecan\", \"pecan\", \"penni\", \"pepper\", \"pepper\", \"pepper\", \"pepper\", \"pepper\", \"pepper\", \"pepper\", \"perfect\", \"perfect\", \"perfect\", \"perfect\", \"perfect\", \"perfect\", \"perfect\", \"perfect\", \"perfect\", \"perfect\", \"photo\", \"picki\", \"picki\", \"picki\", \"picki\", \"pickl\", \"pickl\", \"pickl\", \"pictur\", \"pictur\", \"pictur\", \"piec\", \"piec\", \"piec\", \"piec\", \"piec\", \"piec\", \"piec\", \"piec\", \"piec\", \"pink\", \"pink\", \"pink\", \"pizza\", \"play\", \"play\", \"play\", \"play\", \"pod\", \"pod\", \"pomegran\", \"pomegran\", \"poodl\", \"popchip\", \"popcorn\", \"popcorn\", \"popcorn\", \"popcorn\", \"pork\", \"post\", \"post\", \"post\", \"post\", \"post\", \"potassium\", \"potassium\", \"potato\", \"potato\", \"potato\", \"potato\", \"potato\", \"potato\", \"powder\", \"powder\", \"powder\", \"powder\", \"powder\", \"powder\", \"powder\", \"prep\", \"pretzel\", \"price\", \"price\", \"price\", \"price\", \"price\", \"price\", \"price\", \"price\", \"price\", \"price\", \"prime\", \"prime\", \"print\", \"problem\", \"problem\", \"problem\", \"problem\", \"problem\", \"problem\", \"problem\", \"problem\", \"problem\", \"problem\", \"product\", \"product\", \"product\", \"product\", \"product\", \"product\", \"product\", \"product\", \"product\", \"product\", \"profession\", \"prompt\", \"prompt\", \"pronounc\", \"protein\", \"protein\", \"protein\", \"protein\", \"protein\", \"protein\", \"puck\", \"puff\", \"puppi\", \"puppi\", \"purchas\", \"purchas\", \"purchas\", \"purchas\", \"purchas\", \"purchas\", \"purchas\", \"purchas\", \"purchas\", \"purchas\", \"purina\", \"qualiti\", \"qualiti\", \"qualiti\", \"qualiti\", \"qualiti\", \"qualiti\", \"qualiti\", \"qualiti\", \"qualiti\", \"qualiti\", \"quick\", \"quick\", \"quick\", \"quick\", \"quick\", \"quick\", \"quick\", \"quick\", \"quick\", \"quicker\", \"raisin\", \"raisin\", \"raisin\", \"receiv\", \"receiv\", \"receiv\", \"receiv\", \"receiv\", \"receiv\", \"receiv\", \"reciev\", \"reciev\", \"recomend\", \"recommend\", \"recommend\", \"recommend\", \"recommend\", \"recommend\", \"recommend\", \"recommend\", \"recommend\", \"recommend\", \"recommend\", \"refund\", \"repli\", \"request\", \"research\", \"research\", \"research\", \"research\", \"research\", \"reserv\", \"resist\", \"retriev\", \"return\", \"return\", \"return\", \"return\", \"return\", \"return\", \"review\", \"review\", \"review\", \"review\", \"review\", \"review\", \"review\", \"review\", \"review\", \"review\", \"reward\", \"rice\", \"rice\", \"rice\", \"rice\", \"rice\", \"rice\", \"ride\", \"rins\", \"roast\", \"roast\", \"roast\", \"roast\", \"robust\", \"royal\", \"salt\", \"salt\", \"salt\", \"salt\", \"salt\", \"salt\", \"salti\", \"salti\", \"salti\", \"salti\", \"salti\", \"satisfi\", \"satisfi\", \"satisfi\", \"satisfi\", \"satisfi\", \"satisfi\", \"satisfi\", \"satisfi\", \"satisfi\", \"satisfi\", \"sauc\", \"sauc\", \"sauc\", \"sauc\", \"saut\", \"save\", \"save\", \"save\", \"save\", \"save\", \"save\", \"save\", \"save\", \"save\", \"scalp\", \"scent\", \"scent\", \"scent\", \"scent\", \"scent\", \"scienc\", \"scienc\", \"scienc\", \"scrap\", \"season\", \"season\", \"season\", \"season\", \"season\", \"season\", \"season\", \"secret\", \"seller\", \"seller\", \"send\", \"send\", \"send\", \"send\", \"send\", \"send\", \"senior\", \"senseo\", \"serv\", \"serv\", \"serv\", \"serv\", \"serv\", \"serv\", \"serv\", \"serv\", \"serv\", \"shampoo\", \"shell\", \"shell\", \"shepherd\", \"ship\", \"ship\", \"ship\", \"ship\", \"ship\", \"ship\", \"ship\", \"ship\", \"shipment\", \"shipment\", \"shipment\", \"shortbread\", \"shortbread\", \"shot\", \"shower\", \"shrimp\", \"size\", \"size\", \"size\", \"size\", \"size\", \"size\", \"size\", \"size\", \"size\", \"size\", \"skin\", \"skin\", \"skin\", \"skin\", \"sleep\", \"sleep\", \"sleep\", \"slim\", \"slip\", \"small\", \"small\", \"small\", \"small\", \"small\", \"small\", \"small\", \"small\", \"small\", \"small\", \"smallest\", \"smell\", \"smell\", \"smell\", \"smell\", \"smell\", \"smell\", \"smell\", \"smell\", \"smell\", \"smooth\", \"smooth\", \"smooth\", \"smooth\", \"smooth\", \"smoothi\", \"smoothi\", \"smoothi\", \"snack\", \"snack\", \"snack\", \"snack\", \"snack\", \"snack\", \"snack\", \"snack\", \"sniff\", \"soak\", \"soak\", \"soak\", \"soda\", \"soda\", \"sodium\", \"sodium\", \"sodium\", \"sodium\", \"sodium\", \"sodium\", \"sodium\", \"soggi\", \"son\", \"sooo\", \"soup\", \"soup\", \"soup\", \"sour\", \"sour\", \"sour\", \"sour\", \"sourc\", \"sourc\", \"sourc\", \"south\", \"sparkl\", \"spice\", \"spice\", \"spice\", \"spice\", \"spice\", \"spici\", \"spici\", \"spici\", \"spici\", \"spici\", \"splenda\", \"splenda\", \"spoon\", \"spoon\", \"spoon\", \"spoon\", \"spoon\", \"spoon\", \"spoon\", \"spread\", \"spread\", \"stain\", \"stain\", \"stain\", \"stale\", \"stale\", \"stale\", \"stale\", \"star\", \"star\", \"star\", \"star\", \"star\", \"star\", \"star\", \"star\", \"star\", \"starbuck\", \"starbuck\", \"station\", \"station\", \"steal\", \"steam\", \"steam\", \"stevia\", \"stevia\", \"stevia\", \"stir\", \"stir\", \"stir\", \"stir\", \"stomach\", \"stomach\", \"stomach\", \"stomach\", \"stomach\", \"stomach\", \"stool\", \"stool\", \"store\", \"store\", \"store\", \"store\", \"store\", \"store\", \"store\", \"store\", \"store\", \"store\", \"strang\", \"strang\", \"strang\", \"strang\", \"strang\", \"strawberri\", \"strawberri\", \"strawberri\", \"strawberri\", \"strawberri\", \"strike\", \"strong\", \"strong\", \"strong\", \"strong\", \"strong\", \"strong\", \"strong\", \"strong\", \"strong\", \"stuff\", \"stuff\", \"stuff\", \"stuff\", \"stuff\", \"stuff\", \"stuff\", \"stuff\", \"stuff\", \"stuff\", \"subscrib\", \"subscrib\", \"subscrib\", \"subscrib\", \"subscrib\", \"subscrib\", \"sucralos\", \"sugar\", \"sugar\", \"sugar\", \"sugar\", \"sugar\", \"sugar\", \"sugar\", \"sugar\", \"supplement\", \"supplement\", \"supplier\", \"supplier\", \"sushi\", \"sushi\", \"sustain\", \"swallow\", \"swallow\", \"swallow\", \"sweet\", \"sweet\", \"sweet\", \"sweet\", \"sweet\", \"sweet\", \"sweet\", \"sweet\", \"sweet\", \"sweet\", \"sweeten\", \"sweeten\", \"sweeten\", \"sweeten\", \"sweeten\", \"sweeten\", \"switch\", \"switch\", \"switch\", \"switch\", \"switch\", \"switch\", \"tabasco\", \"taco\", \"taco\", \"tast\", \"tast\", \"tast\", \"tast\", \"tast\", \"tast\", \"tast\", \"tast\", \"tast\", \"tast\", \"tastier\", \"tazo\", \"tbsp\", \"teeth\", \"teeth\", \"teriyaki\", \"terrier\", \"textur\", \"textur\", \"textur\", \"textur\", \"textur\", \"textur\", \"textur\", \"textur\", \"textur\", \"theater\", \"thin\", \"think\", \"think\", \"think\", \"think\", \"think\", \"think\", \"think\", \"think\", \"think\", \"think\", \"tight\", \"time\", \"time\", \"time\", \"time\", \"time\", \"time\", \"time\", \"time\", \"time\", \"time\", \"timothi\", \"tin\", \"tin\", \"titl\", \"toffe\", \"tofu\", \"tomato\", \"tomato\", \"tomato\", \"ton\", \"ton\", \"ton\", \"tooth\", \"tooth\", \"toy\", \"trail\", \"train\", \"trap\", \"travel\", \"travel\", \"travel\", \"travel\", \"travel\", \"travel\", \"travel\", \"tray\", \"treat\", \"treat\", \"treat\", \"treat\", \"treat\", \"tree\", \"tri\", \"tri\", \"tri\", \"tri\", \"tri\", \"tri\", \"tri\", \"tri\", \"tri\", \"tri\", \"tulli\", \"tuna\", \"tuna\", \"tuna\", \"tuna\", \"unbeliev\", \"unsweeten\", \"user\", \"vanilla\", \"vanilla\", \"vanilla\", \"vanilla\", \"vanilla\", \"vanilla\", \"veggi\", \"veggi\", \"veggi\", \"veggi\", \"vendor\", \"vendor\", \"vinegar\", \"vinegar\", \"vinegar\", \"vinegar\", \"virgin\", \"vitamin\", \"vitamin\", \"vitamin\", \"wafer\", \"wafer\", \"want\", \"want\", \"want\", \"want\", \"want\", \"want\", \"want\", \"want\", \"want\", \"want\", \"warehous\", \"wash\", \"wash\", \"wash\", \"wasn\", \"wasn\", \"wasn\", \"wasn\", \"wasn\", \"wasn\", \"wasn\", \"wasn\", \"wasn\", \"wasn\", \"wast\", \"wast\", \"wast\", \"wast\", \"wast\", \"wast\", \"wast\", \"water\", \"water\", \"water\", \"water\", \"water\", \"water\", \"water\", \"water\", \"water\", \"water\", \"watermelon\", \"weak\", \"weak\", \"wed\", \"week\", \"week\", \"week\", \"week\", \"week\", \"week\", \"week\", \"week\", \"week\", \"week\", \"weight\", \"weight\", \"weight\", \"weight\", \"weight\", \"weight\", \"well\", \"well\", \"wheat\", \"wheat\", \"wheat\", \"wheat\", \"wheat\", \"whip\", \"wind\", \"wine\", \"wine\", \"wolfgang\", \"wonder\", \"wonder\", \"wonder\", \"wonder\", \"wonder\", \"wonder\", \"wonder\", \"wonder\", \"wonder\", \"wonder\", \"work\", \"work\", \"work\", \"work\", \"work\", \"work\", \"work\", \"work\", \"work\", \"work\", \"wrapper\", \"wrapper\", \"year\", \"year\", \"year\", \"year\", \"year\", \"year\", \"year\", \"year\", \"year\", \"year\", \"zinc\", \"zuke\"]}, \"R\": 30, \"lambda.step\": 0.01, \"plot.opts\": {\"xlab\": \"PC1\", \"ylab\": \"PC2\"}, \"topic.order\": [6, 3, 8, 9, 4, 10, 5, 2, 7, 1]};\n",
              "\n",
              "function LDAvis_load_lib(url, callback){\n",
              "  var s = document.createElement('script');\n",
              "  s.src = url;\n",
              "  s.async = true;\n",
              "  s.onreadystatechange = s.onload = callback;\n",
              "  s.onerror = function(){console.warn(\"failed to load library \" + url);};\n",
              "  document.getElementsByTagName(\"head\")[0].appendChild(s);\n",
              "}\n",
              "\n",
              "if(typeof(LDAvis) !== \"undefined\"){\n",
              "   // already loaded: just create the visualization\n",
              "   !function(LDAvis){\n",
              "       new LDAvis(\"#\" + \"ldavis_el15711405504093620004110108369\", ldavis_el15711405504093620004110108369_data);\n",
              "   }(LDAvis);\n",
              "}else if(typeof define === \"function\" && define.amd){\n",
              "   // require.js is available: use it to load d3/LDAvis\n",
              "   require.config({paths: {d3: \"https://d3js.org/d3.v5\"}});\n",
              "   require([\"d3\"], function(d3){\n",
              "      window.d3 = d3;\n",
              "      LDAvis_load_lib(\"https://cdn.jsdelivr.net/gh/bmabey/pyLDAvis@3.4.0/pyLDAvis/js/ldavis.v3.0.0.js\", function(){\n",
              "        new LDAvis(\"#\" + \"ldavis_el15711405504093620004110108369\", ldavis_el15711405504093620004110108369_data);\n",
              "      });\n",
              "    });\n",
              "}else{\n",
              "    // require.js not available: dynamically load d3 & LDAvis\n",
              "    LDAvis_load_lib(\"https://d3js.org/d3.v5.js\", function(){\n",
              "         LDAvis_load_lib(\"https://cdn.jsdelivr.net/gh/bmabey/pyLDAvis@3.4.0/pyLDAvis/js/ldavis.v3.0.0.js\", function(){\n",
              "                 new LDAvis(\"#\" + \"ldavis_el15711405504093620004110108369\", ldavis_el15711405504093620004110108369_data);\n",
              "            })\n",
              "         });\n",
              "}\n",
              "</script>"
            ]
          },
          "metadata": {},
          "execution_count": 34
        }
      ]
    },
    {
      "cell_type": "markdown",
      "source": [
        "Each bubble on the left-hand side plot represents a topic. The larger the bubble, the more prevalent is that topic.\n",
        "\n",
        "A good topic model will have fairly big, non-overlapping bubbles scattered throughout the chart instead of being clustered in one quadrant.\n",
        "\n",
        "If you move the cursor over one of the bubbles, the words and bars on the right-hand side will update. These words are the salient keywords that form the selected topic."
      ],
      "metadata": {
        "id": "m7dhIbNXC7GJ"
      }
    },
    {
      "cell_type": "markdown",
      "source": [
        "### LDA using TF-IDF"
      ],
      "metadata": {
        "id": "mKuNhwXtC7GJ"
      }
    },
    {
      "cell_type": "code",
      "source": [
        "lda_model_tfidf = gensim.models.ldamodel.LdaModel(corpus_tfidf, num_topics=10, id2word=dictionary, passes=4)"
      ],
      "metadata": {
        "execution": {
          "iopub.status.busy": "2022-10-08T09:48:56.858031Z",
          "iopub.execute_input": "2022-10-08T09:48:56.858543Z",
          "iopub.status.idle": "2022-10-08T09:49:15.227872Z",
          "shell.execute_reply.started": "2022-10-08T09:48:56.858491Z",
          "shell.execute_reply": "2022-10-08T09:49:15.226618Z"
        },
        "trusted": true,
        "id": "Jscejl2aC7GJ"
      },
      "execution_count": null,
      "outputs": []
    },
    {
      "cell_type": "code",
      "source": [
        "for idx, topic in lda_model_tfidf.print_topics(-1):\n",
        "    print('Topic: {} \\nWord: {} \\n\\n'.format(idx, topic))"
      ],
      "metadata": {
        "execution": {
          "iopub.status.busy": "2022-10-08T09:49:15.229705Z",
          "iopub.execute_input": "2022-10-08T09:49:15.230048Z",
          "iopub.status.idle": "2022-10-08T09:49:15.239764Z",
          "shell.execute_reply.started": "2022-10-08T09:49:15.230017Z",
          "shell.execute_reply": "2022-10-08T09:49:15.238145Z"
        },
        "trusted": true,
        "id": "XQUQtZpyC7GJ",
        "outputId": "6aff5290-e6f6-4e1f-b4a8-259852383952",
        "colab": {
          "base_uri": "https://localhost:8080/"
        }
      },
      "execution_count": 36,
      "outputs": [
        {
          "output_type": "stream",
          "name": "stdout",
          "text": [
            "Topic: 0 \n",
            "Word: 0.008*\"product\" + 0.007*\"store\" + 0.007*\"food\" + 0.006*\"price\" + 0.006*\"amazon\" + 0.006*\"good\" + 0.005*\"great\" + 0.005*\"order\" + 0.005*\"bread\" + 0.005*\"free\" \n",
            "\n",
            "\n",
            "Topic: 1 \n",
            "Word: 0.009*\"cracker\" + 0.009*\"great\" + 0.008*\"chocol\" + 0.008*\"tast\" + 0.008*\"love\" + 0.007*\"cooki\" + 0.007*\"snack\" + 0.007*\"almond\" + 0.007*\"good\" + 0.006*\"flavor\" \n",
            "\n",
            "\n",
            "Topic: 2 \n",
            "Word: 0.021*\"treat\" + 0.013*\"dog\" + 0.010*\"love\" + 0.009*\"chew\" + 0.007*\"food\" + 0.006*\"product\" + 0.006*\"smell\" + 0.005*\"time\" + 0.005*\"great\" + 0.005*\"teeth\" \n",
            "\n",
            "\n",
            "Topic: 3 \n",
            "Word: 0.040*\"coffe\" + 0.012*\"flavor\" + 0.011*\"drink\" + 0.010*\"tast\" + 0.009*\"strong\" + 0.009*\"cup\" + 0.009*\"brew\" + 0.008*\"like\" + 0.008*\"bitter\" + 0.007*\"blend\" \n",
            "\n",
            "\n",
            "Topic: 4 \n",
            "Word: 0.013*\"chip\" + 0.013*\"snack\" + 0.011*\"ginger\" + 0.010*\"mint\" + 0.010*\"flavor\" + 0.009*\"cooki\" + 0.008*\"chocol\" + 0.008*\"sweet\" + 0.008*\"bar\" + 0.008*\"great\" \n",
            "\n",
            "\n",
            "Topic: 5 \n",
            "Word: 0.019*\"food\" + 0.017*\"cat\" + 0.010*\"order\" + 0.009*\"fast\" + 0.009*\"servic\" + 0.008*\"product\" + 0.008*\"deliveri\" + 0.008*\"love\" + 0.008*\"ship\" + 0.008*\"receiv\" \n",
            "\n",
            "\n",
            "Topic: 6 \n",
            "Word: 0.027*\"jerki\" + 0.016*\"mapl\" + 0.014*\"china\" + 0.012*\"crumb\" + 0.011*\"syrup\" + 0.011*\"tuna\" + 0.011*\"beef\" + 0.009*\"buyer\" + 0.009*\"squar\" + 0.009*\"buffalo\" \n",
            "\n",
            "\n",
            "Topic: 7 \n",
            "Word: 0.033*\"chip\" + 0.021*\"cooki\" + 0.018*\"hair\" + 0.013*\"oatmeal\" + 0.011*\"peanut\" + 0.011*\"butter\" + 0.008*\"biscuit\" + 0.007*\"greasi\" + 0.007*\"tortilla\" + 0.007*\"tast\" \n",
            "\n",
            "\n",
            "Topic: 8 \n",
            "Word: 0.017*\"sauc\" + 0.011*\"noodl\" + 0.010*\"season\" + 0.010*\"pasta\" + 0.010*\"coconut\" + 0.009*\"oliv\" + 0.008*\"cook\" + 0.007*\"flavor\" + 0.007*\"garlic\" + 0.007*\"product\" \n",
            "\n",
            "\n",
            "Topic: 9 \n",
            "Word: 0.009*\"tast\" + 0.008*\"drink\" + 0.007*\"like\" + 0.006*\"flavor\" + 0.006*\"sweet\" + 0.006*\"water\" + 0.006*\"sugar\" + 0.006*\"fruit\" + 0.005*\"ingredi\" + 0.005*\"product\" \n",
            "\n",
            "\n"
          ]
        }
      ]
    },
    {
      "cell_type": "markdown",
      "source": [
        "**Coherence Score**\n"
      ],
      "metadata": {
        "id": "pze7uOYXC7GK"
      }
    },
    {
      "cell_type": "code",
      "source": [
        "coherence_model_tfidf = CoherenceModel(model=lda_model_tfidf, texts=processed_text, dictionary=dictionary, coherence='c_v')\n",
        "coherence_tfidf = coherence_model_tfidf.get_coherence()\n",
        "print('\\nCoherence Score: ', coherence_tfidf)"
      ],
      "metadata": {
        "execution": {
          "iopub.status.busy": "2022-10-08T09:52:06.454179Z",
          "iopub.execute_input": "2022-10-08T09:52:06.454950Z",
          "iopub.status.idle": "2022-10-08T09:52:08.519793Z",
          "shell.execute_reply.started": "2022-10-08T09:52:06.454895Z",
          "shell.execute_reply": "2022-10-08T09:52:08.518380Z"
        },
        "trusted": true,
        "id": "rYylLSGAC7GK",
        "outputId": "e7e82e27-e2ba-4cca-bd5e-77bca3947a7a",
        "colab": {
          "base_uri": "https://localhost:8080/"
        }
      },
      "execution_count": 37,
      "outputs": [
        {
          "output_type": "stream",
          "name": "stdout",
          "text": [
            "\n",
            "Coherence Score:  0.4283271142535156\n"
          ]
        }
      ]
    },
    {
      "cell_type": "markdown",
      "source": [
        "**Visualize the topics-keywords**\n"
      ],
      "metadata": {
        "id": "pFUJ7IY4C7GK"
      }
    },
    {
      "cell_type": "code",
      "source": [
        "pyLDAvis.enable_notebook()\n",
        "vis = pyLDAvis.gensim_models.prepare(lda_model_tfidf, corpus_tfidf, dictionary)\n",
        "vis"
      ],
      "metadata": {
        "execution": {
          "iopub.status.busy": "2022-10-08T09:49:16.965126Z",
          "iopub.execute_input": "2022-10-08T09:49:16.965673Z",
          "iopub.status.idle": "2022-10-08T09:49:21.663753Z",
          "shell.execute_reply.started": "2022-10-08T09:49:16.965596Z",
          "shell.execute_reply": "2022-10-08T09:49:21.662584Z"
        },
        "trusted": true,
        "id": "gEut9_vDC7GK",
        "outputId": "a16a4750-5a88-4612-a5b2-cc31106e4be6",
        "colab": {
          "base_uri": "https://localhost:8080/",
          "height": 916
        }
      },
      "execution_count": 38,
      "outputs": [
        {
          "output_type": "stream",
          "name": "stderr",
          "text": [
            "/usr/local/lib/python3.9/dist-packages/pyLDAvis/_prepare.py:243: FutureWarning: In a future version of pandas all arguments of DataFrame.drop except for the argument 'labels' will be keyword-only.\n",
            "  default_term_info = default_term_info.sort_values(\n"
          ]
        },
        {
          "output_type": "execute_result",
          "data": {
            "text/plain": [
              "PreparedData(topic_coordinates=              x         y  topics  cluster       Freq\n",
              "topic                                                \n",
              "0      0.047235 -0.038890       1        1  18.142046\n",
              "3      0.094175 -0.004801       2        1  15.754433\n",
              "9      0.061817 -0.010865       3        1  15.315708\n",
              "2      0.071014 -0.078099       4        1  12.271574\n",
              "1      0.027727  0.056771       5        1   9.501568\n",
              "4      0.020481  0.106303       6        1   7.731047\n",
              "8      0.000262  0.031276       7        1   6.974893\n",
              "5      0.039751 -0.150348       8        1   6.728832\n",
              "7     -0.086545  0.185797       9        1   4.167397\n",
              "6     -0.275918 -0.097144      10        1   3.412500, topic_info=         Term        Freq       Total Category  logprob  loglift\n",
              "348     coffe  263.000000  263.000000  Default  30.0000  30.0000\n",
              "540      chip  114.000000  114.000000  Default  29.0000  29.0000\n",
              "686     cooki  118.000000  118.000000  Default  28.0000  28.0000\n",
              "125     treat  141.000000  141.000000  Default  27.0000  27.0000\n",
              "111     jerki   42.000000   42.000000  Default  26.0000  26.0000\n",
              "...       ...         ...         ...      ...      ...      ...\n",
              "302     syrup   15.442627   43.480667  Topic10  -4.4655   2.3425\n",
              "587      beef   14.256480   37.305313  Topic10  -4.5455   2.4158\n",
              "395   restaur   10.182194   25.048991  Topic10  -4.8820   2.4775\n",
              "1463    grade    8.252897   12.539993  Topic10  -5.0921   2.9594\n",
              "1171   tender    8.113667   12.520035  Topic10  -5.1091   2.9439\n",
              "\n",
              "[670 rows x 6 columns], token_table=      Topic      Freq    Term\n",
              "term                         \n",
              "1788     10  0.854111   accur\n",
              "1         1  0.164282     add\n",
              "1         2  0.164282     add\n",
              "1         3  0.328565     add\n",
              "1         4  0.032856     add\n",
              "...     ...       ...     ...\n",
              "633       6  0.681668  yogurt\n",
              "633       7  0.056806  yogurt\n",
              "1731      9  0.888214    yuck\n",
              "1230      7  0.932300    zico\n",
              "719       4  0.829013    zuke\n",
              "\n",
              "[1733 rows x 3 columns], R=30, lambda_step=0.01, plot_opts={'xlab': 'PC1', 'ylab': 'PC2'}, topic_order=[1, 4, 10, 3, 2, 5, 9, 6, 8, 7])"
            ],
            "text/html": [
              "\n",
              "<link rel=\"stylesheet\" type=\"text/css\" href=\"https://cdn.jsdelivr.net/gh/bmabey/pyLDAvis@3.4.0/pyLDAvis/js/ldavis.v1.0.0.css\">\n",
              "\n",
              "\n",
              "<div id=\"ldavis_el15711405505867613923952469259\" style=\"background-color:white;\"></div>\n",
              "<script type=\"text/javascript\">\n",
              "\n",
              "var ldavis_el15711405505867613923952469259_data = {\"mdsDat\": {\"x\": [0.047235183727276524, 0.09417458679576517, 0.061816909747204024, 0.0710138906808309, 0.02772749602914416, 0.020481147241061693, 0.00026180732062387535, 0.03975123104615439, -0.08654471698738893, -0.27591753560067167], \"y\": [-0.03889016870140797, -0.004800882749601337, -0.010865218185297258, -0.07809906942866512, 0.05677144178583781, 0.10630279085490087, 0.03127601475719854, -0.15034844441735842, 0.18579729806780085, -0.09714376198340766], \"topics\": [1, 2, 3, 4, 5, 6, 7, 8, 9, 10], \"cluster\": [1, 1, 1, 1, 1, 1, 1, 1, 1, 1], \"Freq\": [18.142046338599812, 15.754433132884433, 15.315708492817215, 12.271574419446013, 9.50156767875759, 7.731047438206021, 6.974893196107983, 6.728831926952989, 4.167397277686668, 3.412500098541263]}, \"tinfo\": {\"Term\": [\"coffe\", \"chip\", \"cooki\", \"treat\", \"jerki\", \"cat\", \"food\", \"sauc\", \"hair\", \"dog\", \"snack\", \"syrup\", \"brew\", \"drink\", \"peanut\", \"coconut\", \"pasta\", \"noodl\", \"butter\", \"ginger\", \"cracker\", \"chew\", \"mapl\", \"mint\", \"oatmeal\", \"bitter\", \"cup\", \"salt\", \"beef\", \"china\", \"grey\", \"earl\", \"jelli\", \"waffl\", \"flower\", \"lamb\", \"belli\", \"crust\", \"tree\", \"cholesterol\", \"rise\", \"toy\", \"bergamot\", \"poodl\", \"dough\", \"chihuahua\", \"magnesium\", \"scienc\", \"rip\", \"mile\", \"cheer\", \"florida\", \"stink\", \"kraft\", \"guilti\", \"internet\", \"fanci\", \"cheesi\", \"quicker\", \"length\", \"oven\", \"bread\", \"flour\", \"pancak\", \"wheat\", \"dollar\", \"descript\", \"manufactur\", \"dent\", \"soup\", \"bake\", \"shipment\", \"store\", \"local\", \"item\", \"chees\", \"groceri\", \"free\", \"product\", \"price\", \"amazon\", \"food\", \"gluten\", \"money\", \"deliv\", \"ship\", \"order\", \"buy\", \"review\", \"good\", \"can\", \"great\", \"stuff\", \"like\", \"time\", \"purchas\", \"better\", \"love\", \"tast\", \"pack\", \"go\", \"keurig\", \"decaf\", \"bold\", \"espresso\", \"starbuck\", \"brew\", \"drinker\", \"cappuccino\", \"coffe\", \"brewer\", \"creamer\", \"mountain\", \"strength\", \"robust\", \"creme\", \"kcup\", \"pod\", \"donut\", \"ground\", \"bitter\", \"timothi\", \"emeril\", \"trap\", \"coke\", \"latt\", \"sampler\", \"kona\", \"milder\", \"folger\", \"darker\", \"cup\", \"beverag\", \"weak\", \"tea\", \"french\", \"wake\", \"maker\", \"blend\", \"ice\", \"strong\", \"smooth\", \"roast\", \"caffein\", \"dark\", \"vanilla\", \"green\", \"drink\", \"stash\", \"rich\", \"black\", \"flavor\", \"machin\", \"morn\", \"tast\", \"like\", \"tri\", \"good\", \"great\", \"favorit\", \"bean\", \"water\", \"enjoy\", \"best\", \"differ\", \"love\", \"price\", \"fuel\", \"carbon\", \"bright\", \"kernel\", \"fructos\", \"softer\", \"apricot\", \"sugari\", \"pump\", \"juic\", \"berri\", \"gotta\", \"smallest\", \"antioxid\", \"blender\", \"holist\", \"workout\", \"whim\", \"nestl\", \"student\", \"quinoa\", \"cane\", \"hunger\", \"jitteri\", \"hospit\", \"senior\", \"whey\", \"tooth\", \"pomegran\", \"gentl\", \"vitamin\", \"soda\", \"mark\", \"smoothi\", \"energi\", \"benefit\", \"artifici\", \"magic\", \"orang\", \"popcorn\", \"cherri\", \"fruit\", \"pouch\", \"protein\", \"pop\", \"shake\", \"boost\", \"drink\", \"ingredi\", \"coconut\", \"powder\", \"natur\", \"nutrit\", \"water\", \"sugar\", \"sweet\", \"appl\", \"tast\", \"organ\", \"health\", \"like\", \"feel\", \"flavor\", \"food\", \"bar\", \"product\", \"good\", \"healthi\", \"great\", \"stuff\", \"love\", \"tri\", \"littl\", \"high\", \"pill\", \"train\", \"greeni\", \"pocket\", \"hole\", \"bull\", \"reward\", \"lick\", \"split\", \"readili\", \"wear\", \"drizzl\", \"spinach\", \"rawhid\", \"bone\", \"zuke\", \"british\", \"loaf\", \"entertain\", \"dozen\", \"con\", \"gobbl\", \"paw\", \"track\", \"compost\", \"fashion\", \"floor\", \"litter\", \"dunkin\", \"photo\", \"ball\", \"chew\", \"inexpens\", \"treat\", \"dog\", \"puppi\", \"teeth\", \"picki\", \"fridg\", \"last\", \"stale\", \"play\", \"run\", \"minut\", \"walk\", \"kibbl\", \"breath\", \"break\", \"freezer\", \"smell\", \"long\", \"love\", \"hour\", \"daughter\", \"take\", \"give\", \"expir\", \"food\", \"small\", \"time\", \"keep\", \"size\", \"product\", \"away\", \"month\", \"great\", \"littl\", \"good\", \"like\", \"year\", \"order\", \"buy\", \"amazon\", \"go\", \"birthday\", \"pork\", \"truffl\", \"awhil\", \"parti\", \"assort\", \"cheapest\", \"cola\", \"glucosamin\", \"theater\", \"part\", \"pickl\", \"pretzel\", \"jean\", \"tbsp\", \"diaper\", \"shortbread\", \"tastier\", \"gloria\", \"chow\", \"peac\", \"bird\", \"resist\", \"wasabi\", \"movi\", \"diagnos\", \"sustain\", \"mate\", \"intact\", \"listen\", \"pear\", \"cracker\", \"present\", \"sesam\", \"hazelnut\", \"almond\", \"asian\", \"pumpkin\", \"share\", \"dessert\", \"dress\", \"curri\", \"addict\", \"chocol\", \"grill\", \"gift\", \"licoric\", \"candi\", \"spice\", \"snack\", \"cooki\", \"seed\", \"great\", \"arriv\", \"salad\", \"love\", \"tast\", \"perfect\", \"salt\", \"good\", \"tasti\", \"fresh\", \"flavor\", \"sweet\", \"like\", \"packag\", \"product\", \"delici\", \"time\", \"peanut\", \"order\", \"quick\", \"senseo\", \"mold\", \"mango\", \"lipton\", \"ginger\", \"kashi\", \"macadamia\", \"mustard\", \"drawer\", \"fudg\", \"beer\", \"cashew\", \"glaze\", \"wafer\", \"gooey\", \"sucker\", \"float\", \"smart\", \"butteri\", \"potent\", \"wrapper\", \"promot\", \"gummi\", \"ruin\", \"popchip\", \"hang\", \"mint\", \"desk\", \"sensat\", \"contamin\", \"junk\", \"unabl\", \"bear\", \"crisp\", \"granola\", \"yogurt\", \"blueberri\", \"sprinkl\", \"snack\", \"chip\", \"nut\", \"bar\", \"cooki\", \"candi\", \"crunchi\", \"chocol\", \"sweet\", \"flavor\", \"calori\", \"great\", \"tast\", \"gift\", \"delici\", \"good\", \"like\", \"love\", \"salt\", \"littl\", \"best\", \"store\", \"pecan\", \"oliv\", \"relax\", \"spaghetti\", \"cancel\", \"zico\", \"taco\", \"england\", \"garlic\", \"citi\", \"tabasco\", \"disappear\", \"celesti\", \"aspartam\", \"jalapeno\", \"soap\", \"mushroom\", \"clock\", \"googl\", \"virgin\", \"recomend\", \"mexican\", \"cupcak\", \"nutiva\", \"habit\", \"francisco\", \"elimin\", \"click\", \"fragranc\", \"kidney\", \"email\", \"noodl\", \"chamomil\", \"sauc\", \"cafe\", \"pasta\", \"season\", \"onion\", \"moistur\", \"coconut\", \"cake\", \"chop\", \"fan\", \"salad\", \"cook\", \"rice\", \"pepper\", \"skin\", \"soup\", \"spici\", \"honey\", \"dish\", \"flavor\", \"product\", \"good\", \"tast\", \"chicken\", \"great\", \"love\", \"best\", \"like\", \"add\", \"tulli\", \"slim\", \"sardin\", \"prompt\", \"ride\", \"feast\", \"pamela\", \"wild\", \"well\", \"meati\", \"kitten\", \"corner\", \"constip\", \"shepherd\", \"boxer\", \"teriyaki\", \"catnip\", \"quarter\", \"indoor\", \"plant\", \"vendor\", \"shelter\", \"desert\", \"remark\", \"repli\", \"transit\", \"adopt\", \"crash\", \"tip\", \"gradual\", \"shell\", \"servic\", \"reorder\", \"cat\", \"crush\", \"turkey\", \"deliveri\", \"newman\", \"formula\", \"fast\", \"english\", \"food\", \"sleep\", \"babi\", \"receiv\", \"thank\", \"order\", \"feed\", \"ship\", \"month\", \"product\", \"time\", \"love\", \"amazon\", \"price\", \"qualiti\", \"arriv\", \"good\", \"great\", \"start\", \"best\", \"buy\", \"shampoo\", \"superb\", \"condition\", \"scalp\", \"prep\", \"junki\", \"yuck\", \"largest\", \"coffeemak\", \"flax\", \"saut\", \"goodi\", \"quaker\", \"sausag\", \"hair\", \"tortilla\", \"resembl\", \"evid\", \"brush\", \"attent\", \"strike\", \"lay\", \"rancid\", \"greasi\", \"kettl\", \"penni\", \"steel\", \"knock\", \"restrict\", \"versatil\", \"fragrant\", \"shrimp\", \"oatmeal\", \"oat\", \"chip\", \"regret\", \"biscuit\", \"jasmin\", \"raisin\", \"cooki\", \"peanut\", \"filter\", \"butter\", \"vinegar\", \"potato\", \"gluten\", \"cereal\", \"salt\", \"tast\", \"great\", \"free\", \"like\", \"love\", \"salti\", \"crumb\", \"buyer\", \"larabar\", \"tropic\", \"puck\", \"mapl\", \"wolfgang\", \"sparkl\", \"buffalo\", \"grate\", \"strip\", \"donat\", \"secret\", \"dental\", \"display\", \"grove\", \"lowest\", \"monster\", \"savor\", \"doggi\", \"sprout\", \"accur\", \"reserv\", \"squar\", \"jerki\", \"china\", \"cuisin\", \"print\", \"famous\", \"matcha\", \"bewar\", \"swallow\", \"econom\", \"fake\", \"graham\", \"japan\", \"tuna\", \"steak\", \"chines\", \"guy\", \"syrup\", \"beef\", \"restaur\", \"grade\", \"tender\"], \"Freq\": [263.0, 114.0, 118.0, 141.0, 42.0, 66.0, 185.0, 66.0, 34.0, 87.0, 107.0, 43.0, 56.0, 135.0, 64.0, 65.0, 42.0, 37.0, 66.0, 36.0, 48.0, 56.0, 23.0, 38.0, 30.0, 56.0, 65.0, 75.0, 37.0, 22.0, 14.564912838001781, 14.180651493563753, 12.030319697068562, 11.83470713487414, 11.824761846367156, 8.54723861439574, 8.928586608544009, 8.749162465819875, 10.012780983495562, 8.970202217376361, 9.666241083522547, 9.201267052483429, 6.810592169066777, 7.013467327026326, 7.827499789102075, 6.674904437818168, 6.4300965688477945, 8.4549498280841, 6.580846861373401, 5.897481692386449, 6.322923928908884, 5.791950253630742, 6.352945151666527, 5.695977596139583, 5.66385801309478, 9.957139733353822, 9.698799123707962, 5.401903352932551, 5.336179250953456, 5.251897398548023, 6.171275942142781, 36.353680947464184, 25.806403669994907, 14.60359182298999, 22.229363092285077, 12.389951802580521, 14.982392194131664, 11.561261157235185, 9.2358324367344, 25.79245782372912, 23.863610469918804, 14.568979060431882, 48.26632955357107, 36.189692158486366, 29.979839053155803, 23.49663306440382, 25.336297820214284, 36.229935458808484, 57.850668505623865, 45.35244729685412, 43.72330181482055, 48.10064179512327, 25.04563273712521, 21.97141563946862, 16.344340647878184, 28.406849333055515, 37.28074641359238, 35.11984011142349, 25.97752912818467, 41.60492959568378, 19.812522499753875, 38.00587057313066, 24.071084232864973, 34.9747029014961, 28.806150380815343, 25.160803583387434, 25.158409732079445, 30.092054158011358, 29.677203051130036, 23.577324139847267, 23.00600658924414, 37.907583198699854, 32.19689027200377, 37.8317616861738, 20.630633388442796, 35.20958925513071, 53.73748719460623, 18.73295613883509, 15.362725853049229, 248.24720232390854, 14.178567985026648, 13.729987925751102, 19.23645994940659, 11.727878892759465, 10.616323999085088, 10.446113928159754, 9.879506125617365, 28.4231524539613, 11.496152805640605, 9.551453427843668, 51.0734874815874, 8.69054535267543, 8.426226062726196, 7.992366538906806, 6.961713958438871, 13.274139268258264, 6.837796990459524, 6.7263607902830795, 6.689610699951872, 6.435331025951428, 6.393735444077748, 56.78109396081802, 13.393373151308733, 22.45713612009475, 34.94258412069622, 22.73987376363988, 9.957247645219683, 18.995963905153655, 43.929262414406004, 24.49051600517852, 56.971858934566974, 31.963498253933025, 39.77003048387959, 23.686262574903566, 33.76405490499721, 32.03966623390141, 39.9275345831645, 70.79264154081032, 19.920028664216304, 26.293275611730213, 24.68492466152935, 71.47877988915067, 23.55165997355691, 29.41835419700678, 62.143087617405996, 52.3859869955508, 38.71695424182094, 43.21226825309714, 40.591978295157396, 32.11525965536126, 26.79826923230375, 31.418435673653594, 30.834329099851836, 33.16432842400358, 29.294881862245095, 30.337668021266428, 29.886241154506372, 9.310948539613326, 11.362126474985795, 8.229052536768833, 8.12127182086541, 8.550464289881187, 7.812201681779992, 7.098236363154388, 7.032920118166026, 6.723544736750513, 27.941574146067694, 17.491749631912395, 6.403438859445761, 6.0337047895065385, 5.9531566013931645, 6.27021566904901, 5.5633919683878785, 7.146381148235247, 5.32302731671464, 5.300513414323961, 4.95352410821588, 4.857324707340179, 4.988131922236888, 4.786809518849112, 4.764141942733628, 4.70541823036882, 4.701073965390382, 4.617351958750522, 8.857954887621675, 8.739579105184667, 4.511793547351495, 20.13821186114336, 21.3041926528913, 10.080013256500422, 13.055364623371322, 31.518848652050043, 19.444955304921837, 22.21851623016548, 9.819078078604779, 17.21500500643733, 27.867937065331585, 16.67265604797592, 33.877115809041584, 15.904236901074313, 28.906796706458653, 15.7062265523947, 13.721644774677475, 9.704874643052246, 49.912310791911395, 32.648643842698306, 29.104927748657296, 22.204017570339204, 29.227894796762843, 16.815816805910167, 35.86213966185757, 35.29827638192323, 37.64069619918403, 17.608926197930707, 52.8923797316219, 25.739279504396332, 19.642771982605804, 42.27832501998421, 22.852512268545134, 37.659892082361246, 31.215545838737164, 22.16303229673872, 31.547540027665995, 30.78307850545804, 22.10577023902584, 26.981572282081128, 22.085725290976406, 26.30851504934035, 22.727991642235377, 22.404123214645637, 21.468533720001634, 19.8753775865955, 25.4238783659646, 13.116398311325463, 11.524821595400043, 9.629329301379666, 8.454359948359183, 8.662069627413608, 11.833058519856912, 7.2914241337441075, 6.988259140790074, 6.533116118290379, 6.335423799127986, 6.195026145722874, 8.844261098384761, 24.72422506529879, 6.265682351460742, 5.910215911203776, 5.731828529418764, 5.695328164363442, 5.972845072704201, 5.922131380036455, 7.223155182319624, 5.759078424568739, 5.465569273719759, 5.376807380121808, 5.630953259894797, 7.200901316804301, 5.218658809810863, 5.231062299544158, 5.253338092265844, 16.733808258260094, 43.37606228783308, 9.001833376733574, 102.77755250512752, 60.54303632321937, 17.55123427101569, 26.19905121429263, 20.958518610543422, 10.692492953621707, 17.866061726575122, 15.754593196701055, 12.177921750246684, 16.222480423986777, 22.21611023937991, 10.248302851818913, 10.056523007069979, 10.326263628456331, 21.231472973252266, 9.47732765791946, 27.271757136955483, 22.709753500602545, 47.839694854076036, 17.145333569413104, 16.98970437888979, 21.544849859775304, 22.461303634359677, 13.168207239839294, 32.266896189687344, 20.43760690038081, 26.370632166327802, 15.6145030864211, 20.297985694975413, 28.264492851300265, 17.311702593166345, 19.692738575720096, 26.321360046919477, 22.033046178042675, 24.567493892096664, 24.586025192654635, 20.186568499314856, 21.094278378684496, 19.52281509559163, 19.004680831568468, 18.64265253424803, 12.265500612144935, 9.70910464190334, 8.911678792382475, 8.571372126160211, 15.863806214582253, 11.239980968798644, 7.265133112042137, 7.161012062028653, 6.966743026067797, 6.881624785968138, 6.769911231425491, 6.2501209098873165, 20.02571760675683, 5.535557445958335, 5.470527716494692, 5.363743783033876, 8.084194617494393, 5.302483533343068, 5.12576158026516, 4.909942212086445, 4.631239267034465, 5.057079038147185, 4.607445269410762, 4.516350016113155, 9.448332736445202, 4.4770684585081435, 4.366379223852952, 4.4590864858812225, 4.204700363860862, 4.052902947610959, 6.287716453499928, 35.062724848109674, 11.657937438236083, 7.249591136427197, 14.196513812101509, 24.847815137836207, 7.565005915201635, 10.5854244536867, 15.12292647957954, 11.319869213518832, 13.415334294157294, 9.130602898953597, 15.412887801567088, 31.771782251969793, 7.576788423520328, 17.94114087674525, 12.01891508003674, 19.231045623622727, 15.750546820719437, 24.848616135963244, 25.92267278320745, 13.057393480038273, 31.87822793785196, 17.136583531943337, 12.710128577912442, 29.944705524197428, 30.069420932577156, 19.307398158132155, 18.056724906476752, 24.69167100077192, 16.36226386643709, 17.00555765136278, 22.81432467532685, 19.071253462479866, 22.664085287499052, 18.37476643671779, 20.638669234370287, 17.15032587372286, 17.828144419224138, 15.453905870872509, 16.629560424030032, 15.42233957946613, 18.354288923902544, 9.059666857024315, 19.055575649150946, 8.5985095928382, 32.42349592334659, 7.808603897859361, 8.079353109740294, 12.506026321612293, 7.574284134792673, 10.341307062206093, 8.891427892522357, 12.064520444134857, 6.89026427687078, 9.945277780610551, 5.643420981906629, 5.278635563303143, 5.122567848802694, 5.067093415119086, 6.7997786379270275, 4.943345997716815, 7.360960326998941, 4.481830276368674, 17.96798261572361, 4.093040625143333, 9.666655971018963, 4.153795572039865, 31.18221402749407, 3.7954368794717483, 3.7336178957029578, 3.675546418628072, 12.153303057352305, 5.484185242843772, 12.162451507530962, 16.39604453188995, 20.842198402849977, 12.379245832393396, 16.709956661606974, 9.858266200802321, 38.43631586588772, 38.79417512703444, 16.725051533560418, 25.103160269101654, 27.95694399799256, 19.667218330531654, 15.453652151964102, 25.128583807897655, 25.109034432713347, 30.711589527115642, 16.917839146354225, 24.51614628672289, 24.425721571328413, 14.685764652742021, 17.177115603810247, 21.728381016020712, 21.66370712639626, 21.616671312700895, 15.512776331297426, 16.151019934484584, 16.075736846325558, 14.35318724771857, 12.392216583495408, 25.59544474920355, 13.22753282033987, 9.346775866514438, 8.453212950910572, 8.70994700337052, 7.9913548482565515, 7.3938532785136575, 18.48559571889578, 8.466279866445065, 6.57588929193877, 9.016220292318318, 6.425843776688768, 6.382002980841933, 6.0977513911681145, 5.8939707822287986, 6.817102187942119, 5.814813203862766, 5.770809431079698, 5.756222036598931, 5.603565055617752, 5.466148015987512, 5.408764795427527, 5.190854725242, 5.131406810593768, 4.940969219292683, 4.8454142437658305, 4.768018733686841, 5.431361707417624, 4.381038626790931, 11.703046558810902, 30.16422385878221, 10.36569808496822, 46.530332004345524, 8.723272764627266, 27.790075555268782, 27.811734231406366, 12.520468567182158, 9.426681221411426, 27.35983945212076, 17.70852679993596, 8.939477329109502, 6.740407159126314, 14.150127999976721, 21.195766673909418, 17.43785470423922, 14.887044514850507, 11.790347231861453, 15.277915616208338, 13.981553604890061, 13.157441233505107, 10.624835887456303, 18.65246492784177, 18.46715056446558, 17.24957863450026, 17.36633786811896, 12.763122690602005, 15.400186665897936, 15.136810823942538, 13.353694864491391, 12.071106002097952, 11.174441411703727, 11.035803203895835, 10.354830931916785, 8.924435738199897, 16.88402541887217, 7.943034558969979, 7.910153066036585, 7.819687495593238, 11.873729128018235, 15.90247379458842, 6.832861045754065, 6.688303696099526, 6.500822646168381, 6.379671833946336, 6.21798039576349, 6.148706614255257, 5.912729231274869, 5.688891654298073, 5.412292873627164, 5.365754792590081, 17.15943358725231, 12.307183524916269, 4.644763211424879, 5.9782135238452145, 3.972091005397242, 3.6829642828154188, 4.31975164403585, 6.4447214389636045, 5.995241560942132, 5.096078642418706, 3.0894702604362307, 7.6288701416199665, 24.804152252084037, 10.370299643025431, 45.924309611076104, 12.042153598938103, 11.192226598882241, 20.775169586371316, 12.375806199962021, 17.749667761272466, 24.9881712160428, 10.12241428740309, 51.48743721588671, 11.5285354183156, 18.20092770023824, 20.012852167048372, 18.964230411348158, 27.77064015508345, 10.66768758713903, 20.052387154145244, 15.985061963360687, 21.588801100612383, 18.659794979671908, 20.080381032563402, 17.42040642940176, 15.320055364430397, 13.355929829390556, 12.356869853678191, 14.235969270179998, 14.187202875927566, 12.011016405419824, 12.196410338518108, 12.150527063412042, 10.694681833830433, 8.875832908856136, 8.420236080300619, 8.57827369564134, 7.799895269906501, 7.340916617999132, 8.02804843959233, 7.305678599112251, 6.404780104327994, 8.021678116968618, 5.844714872654489, 9.343312707043873, 6.380543321771681, 10.275861188622192, 29.26075761794911, 11.581739903415444, 5.160582242638238, 4.513695111788981, 7.540098223315232, 8.43658843345927, 3.940378295432101, 6.162658201781872, 5.245845738347537, 12.211720590581713, 10.258622137877385, 6.743439010825665, 3.82049922573921, 5.555150066832536, 6.222286132308635, 4.621158887803528, 5.199897466575675, 7.4103226615281, 20.62589642510615, 10.770381826375349, 53.86160705259079, 8.105395810856745, 13.358510789191392, 9.067028126008209, 11.166692878166891, 35.08958830766055, 18.77316740399104, 9.562638615144177, 17.97272617044493, 10.042678816865012, 10.550872621616408, 11.506465311865783, 10.563410113067178, 10.427110717704725, 11.558979040829199, 10.598275428748163, 9.674141791273435, 9.640832969718709, 9.588635427491443, 8.765272183046703, 16.712283702187616, 12.5764694547469, 10.722107445235974, 10.489703063986866, 10.040979962966547, 21.414338749570657, 9.539429525890114, 9.515026174677915, 11.89092546684562, 9.088904050297295, 11.843899875726732, 7.844583919947576, 7.655038154877532, 7.277263071120204, 7.033768645355428, 6.913058329433903, 6.785283605750069, 6.6833074788271, 6.64668775533897, 9.585032354291291, 11.881096834374619, 6.141865902097112, 5.923914288499114, 12.49614433674134, 36.71439005433017, 19.306377259353088, 6.190834580584758, 5.114029594532879, 4.996009081885582, 6.828904572589743, 10.829054173512946, 9.355838726357668, 8.604781987470153, 9.156915860545055, 11.401034804762144, 7.934752679789068, 14.860161840393102, 11.355360056487324, 9.162373015479005, 9.93266363013934, 15.442626513048758, 14.256480179622715, 10.182193696778233, 8.252896807443703, 8.113667436754344], \"Total\": [263.0, 114.0, 118.0, 141.0, 42.0, 66.0, 185.0, 66.0, 34.0, 87.0, 107.0, 43.0, 56.0, 135.0, 64.0, 65.0, 42.0, 37.0, 66.0, 36.0, 48.0, 56.0, 23.0, 38.0, 30.0, 56.0, 65.0, 75.0, 37.0, 22.0, 15.49002521137476, 15.107332282321725, 12.955777461973431, 12.766616436158623, 12.936410478114208, 9.470777867713421, 10.014614393360633, 9.847415610075316, 11.286860959684036, 10.118413574653047, 10.91061001592958, 10.415965729756918, 7.733094440424531, 8.008023376432808, 8.939758154019291, 7.632446955441671, 7.369438460374447, 9.692125004765993, 7.558999335730782, 6.820203044189264, 7.314407678116081, 6.714316781583529, 7.374699370496558, 6.619672844315605, 6.587919177298298, 11.626318896085497, 11.353790560897188, 6.324241488349585, 6.260129290178829, 6.184357268776655, 7.275235117596743, 45.660450157345785, 34.75296708970173, 19.045346474492348, 33.91504205146281, 16.847603163719917, 21.439146161452868, 15.645718057297737, 11.922540728415548, 46.184052491552855, 44.575080684191434, 22.733236201930964, 123.70699223906566, 83.62199078641446, 64.62719312296653, 46.121430394282754, 52.43527039438981, 96.76926272776511, 219.2318720629795, 153.25803856549632, 153.41475263419883, 185.0740303755369, 59.42700966235188, 48.36425794720509, 29.74918079352302, 87.21617284736334, 161.7971731673514, 143.90589197145147, 81.34091233403389, 226.74365327641956, 46.06963792980402, 231.13755584685015, 83.26617031764836, 233.01084668608573, 144.84761589067048, 106.86921708934065, 114.28341941455291, 234.45554554877407, 246.70584860814375, 97.50021148370921, 101.5115217811889, 38.90314027197754, 33.265220095223484, 39.276976345295196, 21.571344458207186, 36.893354720871955, 56.45214418316451, 19.70402230649978, 16.29482330859437, 263.8128618829369, 15.129411865749777, 14.657509453163254, 20.749796946730292, 12.700075899336905, 11.545682678278283, 11.37595371768795, 10.818890124956392, 31.139723996486985, 12.613245427054725, 10.480713446993688, 56.33643657201481, 9.6161604847386, 9.350835550379177, 8.919021692873704, 7.886530814077614, 15.083861447204656, 7.7702912374625415, 7.652283880267349, 7.61455840693504, 7.3627293991083835, 7.328065844158513, 65.51928866795367, 15.43889878865554, 26.417396492152456, 41.78738589328457, 27.109185417894572, 11.493610224666574, 22.760327119452082, 56.3906741673646, 30.083847431372508, 78.52716974970633, 41.02700885492246, 52.54697665503987, 31.216874070292267, 48.87715527386498, 45.96110838776998, 62.24299317053683, 135.71173888516765, 26.39816786355252, 40.25389433561156, 37.505192391591116, 227.5334353306544, 34.9448882818213, 53.91826267037208, 246.70584860814375, 233.01084668608573, 136.92543265876992, 226.74365327641956, 231.13755584685015, 103.56896779822786, 51.443420447073095, 99.36037375386915, 101.09058407206344, 146.1633156443738, 89.55942773397508, 234.45554554877407, 153.25803856549632, 10.239013174055907, 12.544056835583795, 9.15741267795584, 9.044614116903192, 9.556688430579776, 8.759031586518585, 8.022399234512896, 7.965469299112994, 7.651168609416517, 31.959362477707636, 20.00811625168593, 7.325239483055582, 6.9563920238088075, 6.877858587956525, 7.270568452688433, 6.485771139881344, 8.356204184369531, 6.246246445068568, 6.222269284820559, 5.875244914333026, 5.779302281077009, 5.938781048350712, 5.708231190470297, 5.685638737961931, 5.627112462739129, 5.625938712896297, 5.539851474490546, 10.649947479330695, 10.510506149257122, 5.44938100716062, 24.34579111247318, 25.87031057449649, 12.229095065769199, 16.414889193138098, 41.55462593796256, 25.135245568979528, 29.14718257773287, 12.342477907292423, 23.514599223341627, 40.753378187150496, 23.331361697595682, 55.21702484771033, 22.946689655616055, 48.037487400967116, 23.04897693316778, 19.845665936997396, 12.886005742016517, 135.71173888516765, 74.41684125554603, 65.35120726482512, 43.77404927140065, 66.480310562495, 29.09583759664808, 99.36037375386915, 100.88634552388226, 120.47046596993934, 33.258132504610664, 246.70584860814375, 74.62529965652152, 44.40788932112195, 233.01084668608573, 63.83568038428774, 227.5334353306544, 185.0740303755369, 68.86909461612352, 219.2318720629795, 226.74365327641956, 80.59511578924045, 231.13755584685015, 83.26617031764836, 234.45554554877407, 136.92543265876992, 132.81431868832877, 100.30051107337805, 20.813546669168275, 26.91938336302314, 14.122007330511593, 12.450290400906706, 10.555596347458902, 9.391763337397657, 9.682629998269187, 13.245084560362166, 8.214167398412705, 7.911779671995156, 7.468965920622609, 7.261874223183716, 7.122653839566146, 10.184892676772538, 28.47230565744157, 7.237524190676735, 6.832571558700093, 6.655200371990474, 6.619687166685477, 6.9434153187881975, 6.887329950972493, 8.413689075848046, 6.720616588684718, 6.4024660814722, 6.298968764603304, 6.597325056389554, 8.437595278916406, 6.140942035976085, 6.156718742092673, 6.184414118875419, 20.24892880492204, 56.485785097222966, 10.851019287411495, 141.10558718181554, 87.69746343204544, 23.211429053773323, 37.274821390500634, 30.87499143121382, 14.004943571417398, 26.046891085279178, 22.978450851637508, 16.79438698356655, 24.403788410814368, 38.99755126412366, 14.296789916863096, 13.94620414901357, 14.520463999244651, 45.28319257990946, 12.905826876637605, 73.3771710826852, 61.445646078056136, 234.45554554877407, 38.84459678356219, 38.76601417487112, 64.2667399286939, 77.33637261742282, 24.536388596437632, 185.0740303755369, 67.42934512164027, 144.84761589067048, 37.09717641702042, 74.96596993574802, 219.2318720629795, 49.184850786548566, 77.25064356955781, 231.13755584685015, 132.81431868832877, 226.74365327641956, 233.01084668608573, 105.45852982414371, 161.7971731673514, 143.90589197145147, 153.41475263419883, 101.5115217811889, 13.188079869975414, 10.631247415670318, 9.833789994850374, 9.495413179737074, 17.606330637329663, 12.572914893971163, 8.187260073316597, 8.0833140769633, 7.888394564338908, 7.803322657404442, 7.6956077306686055, 7.173284863486091, 23.116941946119283, 6.463850904230618, 6.394873296555555, 6.287359515214758, 9.485793019481887, 6.224639132607494, 6.0513954292582905, 5.834485248081813, 5.553866966467959, 6.06732478509312, 5.529969250886132, 5.438082991942385, 11.395985130628878, 5.401562314975075, 5.288908772308084, 5.413264604201068, 5.126646420728537, 4.995631789815171, 7.797388589925468, 48.90239640729868, 15.522073157585158, 9.418496230276121, 20.489789231486103, 42.52847361259799, 10.130762594995605, 15.52080266336693, 24.683649147815462, 17.556426668084253, 22.31499009367482, 13.32561533126784, 32.42772738024155, 118.83089493868412, 10.957899695532342, 51.759101608638, 25.510009666464192, 62.15142690758547, 43.094052036789385, 107.6253021966362, 118.5020677688543, 31.716556514649458, 231.13755584685015, 58.46216415320088, 30.186032685347858, 234.45554554877407, 246.70584860814375, 85.68294898582583, 75.0691649314668, 226.74365327641956, 68.40013901719504, 78.49935924975664, 227.5334353306544, 120.47046596993934, 233.01084668608573, 107.30253340380779, 219.2318720629795, 92.1286351477391, 144.84761589067048, 64.2565016445197, 161.7971731673514, 67.33283013959225, 19.26880083357699, 9.974820594415501, 21.027767845575987, 9.51336492038402, 36.12023388674388, 8.724553408524226, 9.029239068120463, 14.00733534463352, 8.51348174689407, 11.646742257123119, 10.027084909068014, 13.61386172662758, 7.8049756430732815, 11.29223243448816, 6.557777073232625, 6.19287024340558, 6.037134978168023, 5.982834480386998, 8.03930965378643, 5.858916352969468, 8.823773206192744, 5.402964729324848, 21.811010098672313, 5.009769168148147, 11.92769927496921, 5.136353045009653, 38.561404066831045, 4.719844231902436, 4.656340454831283, 4.591774713321633, 15.321651734791944, 6.893648513593409, 15.719936220070522, 22.11526481322782, 29.73801479873436, 17.60386956747599, 27.801473341908046, 15.095828156824286, 107.6253021966362, 114.9745931779892, 34.03456587681435, 68.86909461612352, 118.5020677688543, 62.15142690758547, 39.887775541734406, 118.83089493868412, 120.47046596993934, 227.5334353306544, 71.30558822265854, 231.13755584685015, 246.70584860814375, 51.759101608638, 92.1286351477391, 226.74365327641956, 233.01084668608573, 234.45554554877407, 75.0691649314668, 132.81431868832877, 146.1633156443738, 123.70699223906566, 13.306779391385069, 27.90952826198538, 14.463987016380075, 10.265377563178593, 9.367990052327443, 9.653548516495471, 8.907068168378084, 8.38187507406525, 20.963959999698496, 9.623204860995658, 7.490069836518523, 10.280447145070887, 7.341597019980842, 7.297188233484181, 7.013741462534913, 6.80846106469524, 7.888644852567439, 6.729282501806392, 6.689383303724099, 6.684914974970791, 6.529517762440055, 6.381098034442959, 6.324107429389755, 6.109489092646926, 6.049513604481871, 5.856349165096186, 5.761028588616212, 5.6826335310421685, 6.566123335788018, 5.301014838243967, 14.300431250650867, 37.24448963604458, 13.005845037664102, 66.156370290277, 11.128835452532025, 42.0941006107861, 42.44463434490456, 17.17134864416492, 12.43978677770659, 65.35120726482512, 37.30959213523708, 13.483757079163368, 8.567355597326207, 30.186032685347858, 64.96177826642138, 50.00437661150715, 38.12539464166703, 25.653447900977138, 46.184052491552855, 43.453696192880564, 44.12049230330556, 24.860134480535784, 227.5334353306544, 219.2318720629795, 226.74365327641956, 246.70584860814375, 65.74674157012068, 231.13755584685015, 234.45554554877407, 146.1633156443738, 233.01084668608573, 60.870834160155695, 11.948301821055237, 11.267221381229458, 9.915165324789935, 18.819750793695338, 8.855974834090938, 8.830965691178518, 8.732446769306895, 13.327221779290447, 17.981903193273496, 7.74700446302301, 7.622854644923822, 7.415136432295431, 7.293704129679756, 7.131640823504621, 7.061549880263876, 6.825438987378814, 6.609725912433405, 6.3275106419394636, 6.278683753633786, 20.209135160093332, 14.6567545316869, 5.557595520231973, 7.377988433602924, 4.90340728807574, 4.595582977805169, 5.43183587348425, 8.355885181935866, 7.812332167656442, 6.6886080515930955, 4.088921360041428, 10.098966175486089, 33.29726322399692, 13.851348392914769, 66.30297615064083, 16.257273125912395, 15.837130535340057, 35.044808527814304, 18.86777172128878, 30.37970392490271, 50.13624951058962, 15.178153487575596, 185.0740303755369, 22.258935501413113, 52.1619352211694, 64.00951193983045, 64.46100329384021, 161.7971731673514, 21.178150592768805, 87.21617284736334, 77.25064356955781, 219.2318720629795, 144.84761589067048, 234.45554554877407, 153.41475263419883, 153.25803856549632, 80.04365431395108, 58.46216415320088, 226.74365327641956, 231.13755584685015, 59.041298982883546, 146.1633156443738, 143.90589197145147, 11.589175530377519, 9.769833224489664, 9.31394111740952, 9.498980367623119, 8.694147441628237, 8.234377263685774, 9.006841126501927, 8.199666092295528, 7.298129506115378, 9.146358294458308, 6.738399707122127, 10.780698013934675, 7.372027230429211, 11.875895070899066, 34.393685640323056, 13.7497021242114, 6.16054646695818, 5.411019214362906, 9.091989915944776, 10.22660314293299, 4.836113281684973, 7.701916727874475, 6.812902819100995, 15.890266418991828, 13.480629274060071, 9.02131883222729, 5.201507676078182, 7.610160941930564, 8.601996812254654, 6.397066760849368, 7.205848577779896, 10.363683704853086, 30.579206056452556, 15.504800033926212, 114.9745931779892, 11.858924845392643, 22.881523631474046, 13.898238984333497, 19.473627535556556, 118.5020677688543, 64.2565016445197, 18.367732177698525, 66.76547516310016, 26.75472510762955, 37.880826472884635, 59.42700966235188, 64.51266083704257, 75.0691649314668, 246.70584860814375, 231.13755584685015, 96.76926272776511, 233.01084668608573, 234.45554554877407, 40.336214288549584, 17.587700014146364, 13.465735964650584, 11.597191285241328, 11.370568539978667, 10.91639150416453, 23.370655071367736, 10.414441677393159, 10.390407400153949, 13.034853965771628, 9.986555014198657, 13.037169448466761, 8.720523954323415, 8.531230380856872, 8.157352723315398, 7.9117243434049564, 7.78989807413641, 7.66076485777535, 7.558697829988819, 7.52203647960166, 10.859452667942724, 13.566443934752918, 7.024851352553295, 6.799439511068642, 14.434097808960944, 42.42447700351964, 22.31590205028277, 7.1725812239793765, 5.993342590533836, 5.8717888745980895, 8.039146757446376, 12.911398849447648, 11.337115097871017, 10.395152991086295, 11.295604385025094, 14.580549083199958, 9.56525303314171, 22.84663813426547, 17.85998225099456, 12.749987985786184, 15.714482734229978, 43.4806673770058, 37.30531326407213, 25.04899068317478, 12.539993450316386, 12.520035194325239], \"Category\": [\"Default\", \"Default\", \"Default\", \"Default\", \"Default\", \"Default\", \"Default\", \"Default\", \"Default\", \"Default\", \"Default\", \"Default\", \"Default\", \"Default\", \"Default\", \"Default\", \"Default\", \"Default\", \"Default\", \"Default\", \"Default\", \"Default\", \"Default\", \"Default\", \"Default\", \"Default\", \"Default\", \"Default\", \"Default\", \"Default\", \"Topic1\", \"Topic1\", \"Topic1\", \"Topic1\", \"Topic1\", \"Topic1\", \"Topic1\", \"Topic1\", \"Topic1\", \"Topic1\", \"Topic1\", \"Topic1\", \"Topic1\", \"Topic1\", \"Topic1\", \"Topic1\", \"Topic1\", \"Topic1\", \"Topic1\", \"Topic1\", \"Topic1\", \"Topic1\", \"Topic1\", \"Topic1\", \"Topic1\", \"Topic1\", \"Topic1\", \"Topic1\", \"Topic1\", \"Topic1\", \"Topic1\", \"Topic1\", \"Topic1\", \"Topic1\", \"Topic1\", \"Topic1\", \"Topic1\", \"Topic1\", \"Topic1\", \"Topic1\", \"Topic1\", \"Topic1\", \"Topic1\", \"Topic1\", \"Topic1\", \"Topic1\", \"Topic1\", \"Topic1\", \"Topic1\", \"Topic1\", \"Topic1\", \"Topic1\", \"Topic1\", \"Topic1\", \"Topic1\", \"Topic1\", \"Topic1\", \"Topic1\", \"Topic1\", \"Topic1\", \"Topic1\", \"Topic1\", \"Topic1\", \"Topic1\", \"Topic1\", \"Topic1\", \"Topic1\", \"Topic1\", \"Topic1\", \"Topic1\", \"Topic1\", \"Topic2\", \"Topic2\", \"Topic2\", \"Topic2\", \"Topic2\", \"Topic2\", \"Topic2\", \"Topic2\", \"Topic2\", \"Topic2\", \"Topic2\", \"Topic2\", \"Topic2\", \"Topic2\", \"Topic2\", \"Topic2\", \"Topic2\", \"Topic2\", \"Topic2\", \"Topic2\", \"Topic2\", \"Topic2\", \"Topic2\", \"Topic2\", \"Topic2\", \"Topic2\", \"Topic2\", \"Topic2\", \"Topic2\", \"Topic2\", \"Topic2\", \"Topic2\", \"Topic2\", \"Topic2\", \"Topic2\", \"Topic2\", \"Topic2\", \"Topic2\", \"Topic2\", \"Topic2\", \"Topic2\", \"Topic2\", \"Topic2\", \"Topic2\", \"Topic2\", \"Topic2\", \"Topic2\", \"Topic2\", \"Topic2\", \"Topic2\", \"Topic2\", \"Topic2\", \"Topic2\", \"Topic2\", \"Topic2\", \"Topic2\", \"Topic2\", \"Topic2\", \"Topic2\", \"Topic2\", \"Topic2\", \"Topic2\", \"Topic2\", \"Topic2\", \"Topic2\", \"Topic2\", \"Topic3\", \"Topic3\", \"Topic3\", \"Topic3\", \"Topic3\", \"Topic3\", \"Topic3\", \"Topic3\", \"Topic3\", \"Topic3\", \"Topic3\", \"Topic3\", \"Topic3\", \"Topic3\", \"Topic3\", \"Topic3\", \"Topic3\", \"Topic3\", \"Topic3\", \"Topic3\", \"Topic3\", \"Topic3\", \"Topic3\", \"Topic3\", \"Topic3\", \"Topic3\", \"Topic3\", \"Topic3\", \"Topic3\", \"Topic3\", \"Topic3\", \"Topic3\", \"Topic3\", \"Topic3\", \"Topic3\", \"Topic3\", \"Topic3\", \"Topic3\", \"Topic3\", \"Topic3\", \"Topic3\", \"Topic3\", \"Topic3\", \"Topic3\", \"Topic3\", \"Topic3\", \"Topic3\", \"Topic3\", \"Topic3\", \"Topic3\", \"Topic3\", \"Topic3\", \"Topic3\", \"Topic3\", \"Topic3\", \"Topic3\", \"Topic3\", \"Topic3\", \"Topic3\", \"Topic3\", \"Topic3\", \"Topic3\", \"Topic3\", \"Topic3\", \"Topic3\", \"Topic3\", \"Topic3\", \"Topic3\", \"Topic3\", \"Topic3\", \"Topic3\", \"Topic3\", \"Topic3\", \"Topic3\", \"Topic4\", \"Topic4\", \"Topic4\", \"Topic4\", \"Topic4\", \"Topic4\", \"Topic4\", \"Topic4\", \"Topic4\", \"Topic4\", \"Topic4\", \"Topic4\", \"Topic4\", \"Topic4\", \"Topic4\", \"Topic4\", \"Topic4\", \"Topic4\", \"Topic4\", \"Topic4\", \"Topic4\", \"Topic4\", \"Topic4\", \"Topic4\", \"Topic4\", \"Topic4\", \"Topic4\", \"Topic4\", \"Topic4\", \"Topic4\", \"Topic4\", \"Topic4\", \"Topic4\", \"Topic4\", \"Topic4\", \"Topic4\", \"Topic4\", \"Topic4\", \"Topic4\", \"Topic4\", \"Topic4\", \"Topic4\", \"Topic4\", \"Topic4\", \"Topic4\", \"Topic4\", \"Topic4\", \"Topic4\", \"Topic4\", \"Topic4\", \"Topic4\", \"Topic4\", \"Topic4\", \"Topic4\", \"Topic4\", \"Topic4\", \"Topic4\", \"Topic4\", \"Topic4\", \"Topic4\", \"Topic4\", \"Topic4\", \"Topic4\", \"Topic4\", \"Topic4\", \"Topic4\", \"Topic4\", \"Topic4\", \"Topic4\", \"Topic4\", \"Topic4\", \"Topic4\", \"Topic4\", \"Topic4\", \"Topic5\", \"Topic5\", \"Topic5\", \"Topic5\", \"Topic5\", \"Topic5\", \"Topic5\", \"Topic5\", \"Topic5\", \"Topic5\", \"Topic5\", \"Topic5\", \"Topic5\", \"Topic5\", \"Topic5\", \"Topic5\", \"Topic5\", \"Topic5\", \"Topic5\", \"Topic5\", \"Topic5\", \"Topic5\", \"Topic5\", \"Topic5\", \"Topic5\", \"Topic5\", \"Topic5\", \"Topic5\", \"Topic5\", \"Topic5\", \"Topic5\", \"Topic5\", \"Topic5\", \"Topic5\", \"Topic5\", \"Topic5\", \"Topic5\", \"Topic5\", \"Topic5\", \"Topic5\", \"Topic5\", \"Topic5\", \"Topic5\", \"Topic5\", \"Topic5\", \"Topic5\", \"Topic5\", \"Topic5\", \"Topic5\", \"Topic5\", \"Topic5\", \"Topic5\", \"Topic5\", \"Topic5\", \"Topic5\", \"Topic5\", \"Topic5\", \"Topic5\", \"Topic5\", \"Topic5\", \"Topic5\", \"Topic5\", \"Topic5\", \"Topic5\", \"Topic5\", \"Topic5\", \"Topic5\", \"Topic5\", \"Topic5\", \"Topic5\", \"Topic5\", \"Topic5\", \"Topic6\", \"Topic6\", \"Topic6\", \"Topic6\", \"Topic6\", \"Topic6\", \"Topic6\", \"Topic6\", \"Topic6\", \"Topic6\", \"Topic6\", \"Topic6\", \"Topic6\", \"Topic6\", \"Topic6\", \"Topic6\", \"Topic6\", \"Topic6\", \"Topic6\", \"Topic6\", \"Topic6\", \"Topic6\", \"Topic6\", \"Topic6\", \"Topic6\", \"Topic6\", \"Topic6\", \"Topic6\", \"Topic6\", \"Topic6\", \"Topic6\", \"Topic6\", \"Topic6\", \"Topic6\", \"Topic6\", \"Topic6\", \"Topic6\", \"Topic6\", \"Topic6\", \"Topic6\", \"Topic6\", \"Topic6\", \"Topic6\", \"Topic6\", \"Topic6\", \"Topic6\", \"Topic6\", \"Topic6\", \"Topic6\", \"Topic6\", \"Topic6\", \"Topic6\", \"Topic6\", \"Topic6\", \"Topic6\", \"Topic6\", \"Topic6\", \"Topic6\", \"Topic6\", \"Topic6\", \"Topic7\", \"Topic7\", \"Topic7\", \"Topic7\", \"Topic7\", \"Topic7\", \"Topic7\", \"Topic7\", \"Topic7\", \"Topic7\", \"Topic7\", \"Topic7\", \"Topic7\", \"Topic7\", \"Topic7\", \"Topic7\", \"Topic7\", \"Topic7\", \"Topic7\", \"Topic7\", \"Topic7\", \"Topic7\", \"Topic7\", \"Topic7\", \"Topic7\", \"Topic7\", \"Topic7\", \"Topic7\", \"Topic7\", \"Topic7\", \"Topic7\", \"Topic7\", \"Topic7\", \"Topic7\", \"Topic7\", \"Topic7\", \"Topic7\", \"Topic7\", \"Topic7\", \"Topic7\", \"Topic7\", \"Topic7\", \"Topic7\", \"Topic7\", \"Topic7\", \"Topic7\", \"Topic7\", \"Topic7\", \"Topic7\", \"Topic7\", \"Topic7\", \"Topic7\", \"Topic7\", \"Topic7\", \"Topic7\", \"Topic7\", \"Topic7\", \"Topic7\", \"Topic7\", \"Topic7\", \"Topic7\", \"Topic7\", \"Topic8\", \"Topic8\", \"Topic8\", \"Topic8\", \"Topic8\", \"Topic8\", \"Topic8\", \"Topic8\", \"Topic8\", \"Topic8\", \"Topic8\", \"Topic8\", \"Topic8\", \"Topic8\", \"Topic8\", \"Topic8\", \"Topic8\", \"Topic8\", \"Topic8\", \"Topic8\", \"Topic8\", \"Topic8\", \"Topic8\", \"Topic8\", \"Topic8\", \"Topic8\", \"Topic8\", \"Topic8\", \"Topic8\", \"Topic8\", \"Topic8\", \"Topic8\", \"Topic8\", \"Topic8\", \"Topic8\", \"Topic8\", \"Topic8\", \"Topic8\", \"Topic8\", \"Topic8\", \"Topic8\", \"Topic8\", \"Topic8\", \"Topic8\", \"Topic8\", \"Topic8\", \"Topic8\", \"Topic8\", \"Topic8\", \"Topic8\", \"Topic8\", \"Topic8\", \"Topic8\", \"Topic8\", \"Topic8\", \"Topic8\", \"Topic8\", \"Topic8\", \"Topic8\", \"Topic8\", \"Topic8\", \"Topic8\", \"Topic9\", \"Topic9\", \"Topic9\", \"Topic9\", \"Topic9\", \"Topic9\", \"Topic9\", \"Topic9\", \"Topic9\", \"Topic9\", \"Topic9\", \"Topic9\", \"Topic9\", \"Topic9\", \"Topic9\", \"Topic9\", \"Topic9\", \"Topic9\", \"Topic9\", \"Topic9\", \"Topic9\", \"Topic9\", \"Topic9\", \"Topic9\", \"Topic9\", \"Topic9\", \"Topic9\", \"Topic9\", \"Topic9\", \"Topic9\", \"Topic9\", \"Topic9\", \"Topic9\", \"Topic9\", \"Topic9\", \"Topic9\", \"Topic9\", \"Topic9\", \"Topic9\", \"Topic9\", \"Topic9\", \"Topic9\", \"Topic9\", \"Topic9\", \"Topic9\", \"Topic9\", \"Topic9\", \"Topic9\", \"Topic9\", \"Topic9\", \"Topic9\", \"Topic9\", \"Topic9\", \"Topic9\", \"Topic10\", \"Topic10\", \"Topic10\", \"Topic10\", \"Topic10\", \"Topic10\", \"Topic10\", \"Topic10\", \"Topic10\", \"Topic10\", \"Topic10\", \"Topic10\", \"Topic10\", \"Topic10\", \"Topic10\", \"Topic10\", \"Topic10\", \"Topic10\", \"Topic10\", \"Topic10\", \"Topic10\", \"Topic10\", \"Topic10\", \"Topic10\", \"Topic10\", \"Topic10\", \"Topic10\", \"Topic10\", \"Topic10\", \"Topic10\", \"Topic10\", \"Topic10\", \"Topic10\", \"Topic10\", \"Topic10\", \"Topic10\", \"Topic10\", \"Topic10\", \"Topic10\", \"Topic10\", \"Topic10\", \"Topic10\", \"Topic10\", \"Topic10\", \"Topic10\"], \"logprob\": [30.0, 29.0, 28.0, 27.0, 26.0, 25.0, 24.0, 23.0, 22.0, 21.0, 20.0, 19.0, 18.0, 17.0, 16.0, 15.0, 14.0, 13.0, 12.0, 11.0, 10.0, 9.0, 8.0, 7.0, 6.0, 5.0, 4.0, 3.0, 2.0, 1.0, -6.1948, -6.2216, -6.386, -6.4024, -6.4033, -6.7279, -6.6842, -6.7045, -6.5696, -6.6796, -6.6048, -6.6541, -6.955, -6.9256, -6.8158, -6.9751, -7.0125, -6.7387, -6.9893, -7.0989, -7.0293, -7.117, -7.0245, -7.1337, -7.1394, -6.5752, -6.6015, -7.1867, -7.1989, -7.2149, -7.0536, -5.2802, -5.6228, -6.1922, -5.772, -6.3566, -6.1666, -6.4258, -6.6504, -5.6234, -5.7011, -6.1946, -4.9967, -5.2847, -5.4729, -5.7166, -5.6412, -5.2836, -4.8156, -5.059, -5.0956, -5.0002, -5.6528, -5.7837, -6.0796, -5.5268, -5.255, -5.3147, -5.6162, -5.1452, -5.8871, -5.2357, -5.6924, -5.3188, -5.5129, -5.6482, -5.6483, -5.4692, -5.4831, -5.7132, -5.7377, -5.0972, -5.2605, -5.0992, -5.7056, -5.171, -4.7482, -5.8021, -6.0004, -3.2179, -6.0806, -6.1128, -5.7755, -6.2704, -6.37, -6.3861, -6.4419, -5.3851, -6.2903, -6.4757, -4.7991, -6.5701, -6.601, -6.6539, -6.7919, -6.1465, -6.8099, -6.8263, -6.8318, -6.8705, -6.877, -4.6931, -6.1376, -5.6207, -5.1786, -5.6082, -6.434, -5.7881, -4.9498, -5.5341, -4.6898, -5.2678, -5.0492, -5.5675, -5.213, -5.2654, -5.0453, -4.4726, -5.7406, -5.463, -5.5262, -4.4629, -5.5732, -5.3507, -4.6029, -4.7737, -5.0761, -4.9662, -5.0288, -5.263, -5.444, -5.285, -5.3037, -5.2309, -5.3549, -5.32, -5.335, -6.4729, -6.2738, -6.5964, -6.6096, -6.5581, -6.6484, -6.7443, -6.7535, -6.7985, -5.374, -5.8424, -6.8473, -6.9067, -6.9202, -6.8683, -6.9879, -6.7375, -7.0321, -7.0363, -7.104, -7.1236, -7.097, -7.1382, -7.143, -7.1554, -7.1563, -7.1743, -6.5228, -6.5362, -7.1974, -5.7015, -5.6452, -6.3936, -6.1349, -5.2535, -5.7365, -5.6032, -6.4198, -5.8583, -5.3766, -5.8903, -5.1814, -5.9375, -5.34, -5.95, -6.0851, -6.4315, -4.7938, -5.2183, -5.3332, -5.6038, -5.329, -5.8818, -5.1244, -5.1403, -5.076, -5.8357, -4.7358, -5.4561, -5.7264, -4.9598, -5.575, -5.0755, -5.2632, -5.6057, -5.2526, -5.2771, -5.6083, -5.409, -5.6092, -5.4342, -5.5805, -5.5949, -5.6375, -5.493, -5.2468, -5.9086, -6.038, -6.2177, -6.3478, -6.3236, -6.0116, -6.4958, -6.5383, -6.6056, -6.6364, -6.6588, -6.3027, -5.2747, -6.6474, -6.7058, -6.7365, -6.7429, -6.6953, -6.7038, -6.5052, -6.7317, -6.784, -6.8004, -6.7542, -6.5083, -6.8303, -6.8279, -6.8236, -5.6651, -4.7126, -6.2851, -3.8499, -4.3792, -5.6174, -5.2168, -5.44, -6.113, -5.5996, -5.7254, -5.9829, -5.6961, -5.3817, -6.1554, -6.1743, -6.1478, -5.427, -6.2336, -5.1767, -5.3597, -4.6147, -5.6408, -5.6499, -5.4124, -5.3707, -5.9047, -5.0085, -5.4651, -5.2103, -5.7343, -5.472, -5.1409, -5.6311, -5.5023, -5.2121, -5.39, -5.2811, -5.2803, -5.4775, -5.4335, -5.5109, -5.5378, -5.5571, -5.7199, -5.9536, -6.0393, -6.0783, -5.4626, -5.8072, -6.2436, -6.258, -6.2855, -6.2978, -6.3142, -6.3941, -5.2297, -6.5155, -6.5273, -6.547, -6.1368, -6.5585, -6.5924, -6.6354, -6.6939, -6.6059, -6.699, -6.719, -5.9808, -6.7277, -6.7528, -6.7317, -6.7905, -6.8273, -6.3881, -4.6695, -5.7707, -6.2457, -5.5737, -5.0139, -6.2032, -5.8672, -5.5105, -5.8001, -5.6303, -6.0151, -5.4915, -4.7681, -6.2016, -5.3396, -5.7402, -5.2702, -5.4698, -5.0139, -4.9716, -5.6573, -4.7648, -5.3855, -5.6843, -4.8273, -4.8232, -5.2662, -5.3332, -5.0202, -5.4317, -5.3931, -5.0993, -5.2785, -5.1059, -5.3157, -5.1995, -5.3847, -5.3459, -5.4888, -5.4155, -5.4909, -5.1106, -5.8166, -5.0731, -5.8689, -4.5416, -5.9652, -5.9312, -5.4943, -5.9957, -5.6843, -5.8354, -5.5302, -6.0904, -5.7234, -6.29, -6.3568, -6.3868, -6.3977, -6.1036, -6.4224, -6.0243, -6.5204, -5.1319, -6.6112, -5.7518, -6.5964, -4.5806, -6.6867, -6.7031, -6.7188, -5.5229, -6.3186, -5.5221, -5.2234, -4.9835, -5.5045, -5.2045, -5.7322, -4.3715, -4.3622, -5.2036, -4.7975, -4.6898, -5.0415, -5.2826, -4.7965, -4.7972, -4.5958, -5.1921, -4.8211, -4.8248, -5.3336, -5.1769, -4.9419, -4.9448, -4.947, -5.2788, -5.2385, -5.2432, -5.3565, -5.4005, -4.6751, -5.3352, -5.6825, -5.783, -5.7531, -5.8392, -5.9169, -5.0006, -5.7815, -6.0341, -5.7185, -6.0572, -6.0641, -6.1096, -6.1436, -5.9981, -6.1571, -6.1647, -6.1673, -6.1941, -6.219, -6.2295, -6.2706, -6.2822, -6.32, -6.3395, -6.3556, -6.2254, -6.4403, -5.4577, -4.5109, -5.579, -4.0774, -5.7515, -4.5929, -4.5921, -5.3902, -5.674, -4.6085, -5.0435, -5.7271, -6.0094, -5.2678, -4.8637, -5.0589, -5.2171, -5.4503, -5.1911, -5.2798, -5.3406, -5.5544, -4.9916, -5.0016, -5.0698, -5.063, -5.371, -5.1832, -5.2004, -5.3258, -5.4267, -5.5039, -5.4805, -5.5442, -5.6928, -5.0553, -5.8093, -5.8135, -5.825, -5.4073, -5.1152, -5.9599, -5.9813, -6.0097, -6.0285, -6.0542, -6.0654, -6.1045, -6.1431, -6.193, -6.2016, -5.0391, -5.3714, -6.3459, -6.0935, -6.5023, -6.5779, -6.4184, -6.0184, -6.0907, -6.2532, -6.7536, -5.8497, -4.6706, -5.5427, -4.0546, -5.3932, -5.4664, -4.8479, -5.3659, -5.0053, -4.6632, -5.5669, -3.9403, -5.4368, -4.9802, -4.8853, -4.9391, -4.5576, -5.5144, -4.8833, -5.11, -4.8095, -4.9553, -4.8819, -5.024, -5.1525, -5.2897, -5.3674, -5.2259, -5.2293, -5.3958, -5.3805, -5.3843, -5.0328, -5.2192, -5.2719, -5.2533, -5.3484, -5.4091, -5.3196, -5.4139, -5.5455, -5.3204, -5.637, -5.1679, -5.5493, -5.0727, -4.0263, -4.9531, -5.7615, -5.8954, -5.3823, -5.2699, -6.0312, -5.584, -5.7451, -4.9001, -5.0744, -5.4939, -6.0621, -5.6878, -5.5744, -5.8719, -5.7539, -5.3996, -4.376, -5.0257, -3.4161, -5.31, -4.8104, -5.1979, -4.9896, -3.8446, -4.4701, -5.1447, -4.5137, -5.0957, -5.0463, -4.9596, -5.0451, -5.0581, -4.9551, -5.0418, -5.1331, -5.1365, -5.1419, -5.2317, -4.3865, -4.6708, -4.8304, -4.8523, -4.896, -4.1386, -4.9472, -4.9498, -4.7269, -4.9956, -4.7309, -5.1428, -5.1673, -5.2179, -5.2519, -5.2693, -5.2879, -5.3031, -5.3086, -4.9425, -4.7277, -5.3875, -5.4237, -4.6773, -3.5995, -4.2422, -5.3796, -5.5707, -5.594, -5.2815, -4.8204, -4.9667, -5.0504, -4.9882, -4.769, -5.1314, -4.504, -4.773, -4.9876, -4.9068, -4.4655, -4.5455, -4.882, -5.0921, -5.1091], \"loglift\": [30.0, 29.0, 28.0, 27.0, 26.0, 25.0, 24.0, 23.0, 22.0, 21.0, 20.0, 19.0, 18.0, 17.0, 16.0, 15.0, 14.0, 13.0, 12.0, 11.0, 10.0, 9.0, 8.0, 7.0, 6.0, 5.0, 4.0, 3.0, 2.0, 1.0, 1.6454, 1.6436, 1.6328, 1.6311, 1.6171, 1.6043, 1.5922, 1.5887, 1.5872, 1.5865, 1.5858, 1.5829, 1.5799, 1.5743, 1.5741, 1.5729, 1.5706, 1.5704, 1.5684, 1.5616, 1.5613, 1.5592, 1.5578, 1.5567, 1.5558, 1.552, 1.5494, 1.5493, 1.5472, 1.5435, 1.5424, 1.479, 1.4093, 1.4414, 1.2845, 1.3996, 1.3486, 1.4044, 1.4516, 1.1244, 1.0821, 1.262, 0.7658, 0.8694, 0.9388, 1.0325, 0.9796, 0.7245, 0.3747, 0.4893, 0.4517, 0.3595, 0.8429, 0.9179, 1.108, 0.5852, 0.2391, 0.2965, 0.5655, 0.0113, 0.8631, -0.0983, 0.4659, -0.1895, 0.0918, 0.2606, 0.1934, -0.3461, -0.4109, 0.2874, 0.2225, 1.8221, 1.8154, 1.8106, 1.8035, 1.8013, 1.7988, 1.7975, 1.7891, 1.7872, 1.7831, 1.7827, 1.7723, 1.7684, 1.7641, 1.7628, 1.7572, 1.7568, 1.7553, 1.7552, 1.75, 1.7468, 1.7439, 1.7383, 1.7233, 1.7202, 1.7202, 1.7191, 1.7185, 1.7134, 1.7117, 1.7049, 1.7059, 1.6856, 1.6692, 1.6723, 1.7046, 1.6673, 1.5983, 1.6423, 1.5272, 1.5984, 1.5695, 1.572, 1.4781, 1.4872, 1.4041, 1.1973, 1.5665, 1.4222, 1.4298, 0.6902, 1.4535, 1.2422, 0.4693, 0.3556, 0.5849, 0.1904, 0.1086, 0.6771, 1.1959, 0.6967, 0.6607, 0.3648, 0.7306, -0.1968, 0.2133, 1.7813, 1.7773, 1.7694, 1.7686, 1.765, 1.7619, 1.7539, 1.7518, 1.747, 1.7419, 1.7419, 1.7418, 1.734, 1.7319, 1.7283, 1.7229, 1.7199, 1.7164, 1.716, 1.7056, 1.7025, 1.7018, 1.7002, 1.6995, 1.6974, 1.6967, 1.6941, 1.6921, 1.6918, 1.6875, 1.6866, 1.6821, 1.683, 1.6473, 1.5999, 1.6196, 1.6049, 1.6476, 1.5645, 1.4962, 1.5403, 1.3878, 1.5097, 1.3684, 1.4927, 1.5073, 1.5928, 0.876, 1.0524, 1.0674, 1.1975, 1.0545, 1.328, 0.8572, 0.8261, 0.713, 1.2404, 0.3364, 0.8118, 1.0606, 0.1695, 0.849, 0.0776, 0.0965, 0.7425, -0.0623, -0.1206, 0.5827, -0.2716, 0.5492, -0.3111, 0.0805, 0.0966, 0.3347, 2.0518, 2.0407, 2.024, 2.0206, 2.006, 1.9927, 1.9865, 1.9852, 1.9787, 1.9738, 1.964, 1.9614, 1.9584, 1.9567, 1.9567, 1.9537, 1.9529, 1.9485, 1.9475, 1.9473, 1.9469, 1.9453, 1.9435, 1.9397, 1.9396, 1.9395, 1.9394, 1.9351, 1.935, 1.9347, 1.9072, 1.8338, 1.9111, 1.7809, 1.7273, 1.8184, 1.7453, 1.7105, 1.828, 1.7209, 1.7205, 1.7765, 1.6895, 1.5352, 1.765, 1.7709, 1.757, 1.3404, 1.7891, 1.1081, 1.1025, 0.5085, 1.28, 1.2729, 1.005, 0.8615, 1.4755, 0.3512, 0.9042, 0.3945, 1.2325, 0.7914, 0.0494, 1.0537, 0.7311, -0.0747, 0.3015, -0.1245, -0.151, 0.4446, 0.0605, 0.1003, 0.0094, 0.4032, 2.2812, 2.263, 2.2553, 2.2513, 2.2495, 2.2416, 2.2342, 2.2326, 2.2295, 2.228, 2.2256, 2.216, 2.2102, 2.1987, 2.1976, 2.1948, 2.1938, 2.1934, 2.1877, 2.1812, 2.172, 2.1716, 2.1712, 2.168, 2.1663, 2.166, 2.162, 2.1598, 2.1555, 2.1446, 2.1385, 2.021, 2.0674, 2.092, 1.9868, 1.8163, 2.0617, 1.971, 1.8638, 1.9149, 1.8449, 1.9757, 1.6099, 1.0346, 1.9847, 1.2942, 1.6011, 1.1807, 1.3472, 0.8879, 0.8339, 1.4662, 0.3726, 1.1265, 1.4887, 0.2958, 0.249, 0.8635, 0.9288, 0.1364, 0.9233, 0.8242, 0.0538, 0.5105, 0.0234, 0.589, -0.0093, 0.6725, 0.2588, 0.9287, 0.0786, 0.8799, 2.5113, 2.4637, 2.4614, 2.4588, 2.452, 2.449, 2.4488, 2.4466, 2.443, 2.441, 2.4397, 2.4391, 2.4353, 2.4329, 2.4098, 2.4002, 2.3957, 2.3938, 2.3925, 2.39, 2.3787, 2.373, 2.3661, 2.3578, 2.3497, 2.3476, 2.3475, 2.3419, 2.3391, 2.3374, 2.3283, 2.3312, 2.3033, 2.2607, 2.2045, 2.2078, 2.0508, 2.1338, 1.5303, 1.4735, 1.8495, 1.5507, 1.1157, 1.4093, 1.6117, 1.0062, 0.9917, 0.5573, 1.1213, 0.3162, 0.2474, 1.3002, 0.8803, 0.2147, 0.1845, 0.1761, 0.9832, 0.453, 0.3525, 0.406, 2.5916, 2.5763, 2.5735, 2.5691, 2.5601, 2.56, 2.5544, 2.5374, 2.537, 2.5348, 2.5327, 2.5316, 2.5296, 2.5288, 2.5229, 2.5186, 2.5169, 2.5168, 2.5151, 2.5133, 2.5099, 2.5081, 2.5065, 2.4999, 2.4983, 2.4929, 2.4898, 2.4874, 2.4731, 2.4722, 2.4624, 2.452, 2.436, 2.3109, 2.4193, 2.2476, 2.2401, 2.347, 2.3855, 1.7922, 1.9176, 2.2518, 2.423, 1.9052, 1.5429, 1.6094, 1.7225, 1.8855, 1.5566, 1.5289, 1.4529, 1.8128, 0.1615, 0.1887, 0.0868, 0.0092, 1.0236, -0.0458, -0.0773, 0.2699, -0.2974, 0.9677, 2.6193, 2.6143, 2.5935, 2.5902, 2.59, 2.5887, 2.5884, 2.5833, 2.5759, 2.5732, 2.568, 2.5672, 2.5649, 2.5617, 2.5603, 2.5552, 2.5487, 2.5425, 2.5416, 2.5352, 2.5241, 2.5193, 2.4884, 2.4881, 2.4774, 2.4697, 2.4391, 2.434, 2.4268, 2.4185, 2.4183, 2.4043, 2.4093, 2.3315, 2.3986, 2.3516, 2.1759, 2.2771, 2.1614, 2.0024, 2.2937, 1.4194, 2.0409, 1.6459, 1.5361, 1.4753, 0.9364, 2.013, 1.2287, 1.1234, 0.3808, 0.6495, 0.2412, 0.5233, 0.3958, 0.9082, 1.1446, -0.0693, -0.0919, 1.1064, 0.2152, 0.227, 3.0976, 3.0819, 3.077, 3.0759, 3.0693, 3.063, 3.0628, 3.0624, 3.0473, 3.0467, 3.0356, 3.0348, 3.0334, 3.0332, 3.0163, 3.0063, 3.0008, 2.9966, 2.9907, 2.9855, 2.973, 2.9549, 2.9165, 2.9146, 2.9047, 2.8869, 2.8693, 2.8631, 2.854, 2.8527, 2.8516, 2.8424, 2.7841, 2.8135, 2.4196, 2.7973, 2.6397, 2.7508, 2.6218, 1.9609, 1.9474, 2.5251, 1.8655, 2.198, 1.8996, 1.536, 1.3684, 1.2039, 0.1171, 0.0956, 0.875, -0.0072, -0.0188, 1.6514, 3.3267, 3.3094, 3.2993, 3.2971, 3.2941, 3.2903, 3.29, 3.2897, 3.2859, 3.2835, 3.2817, 3.2719, 3.2694, 3.2636, 3.2601, 3.2583, 3.2564, 3.2546, 3.254, 3.2529, 3.2451, 3.2434, 3.2399, 3.2336, 3.2332, 3.2329, 3.2305, 3.2191, 3.2162, 3.2146, 3.2018, 3.1856, 3.1887, 3.1678, 3.1317, 3.1908, 2.9476, 2.9249, 3.0473, 2.919, 2.3425, 2.4158, 2.4775, 2.9594, 2.9439]}, \"token.table\": {\"Topic\": [10, 1, 2, 3, 4, 5, 6, 7, 8, 9, 2, 3, 4, 5, 6, 8, 3, 8, 1, 3, 5, 6, 7, 9, 1, 2, 3, 4, 5, 6, 7, 8, 9, 10, 3, 3, 5, 7, 8, 10, 3, 1, 3, 4, 5, 6, 7, 8, 10, 2, 3, 6, 2, 4, 5, 7, 4, 5, 7, 9, 1, 2, 3, 4, 5, 6, 8, 9, 5, 1, 3, 4, 5, 8, 1, 3, 4, 5, 6, 7, 9, 1, 2, 4, 1, 3, 4, 5, 6, 1, 2, 4, 5, 7, 1, 2, 6, 1, 4, 5, 7, 8, 10, 6, 1, 1, 2, 3, 1, 1, 2, 3, 1, 2, 3, 4, 5, 6, 7, 8, 9, 10, 1, 2, 3, 4, 5, 6, 7, 8, 9, 10, 2, 4, 1, 10, 5, 5, 5, 9, 2, 3, 5, 6, 2, 3, 4, 5, 6, 7, 1, 2, 3, 5, 7, 3, 3, 6, 2, 1, 4, 3, 4, 8, 1, 5, 7, 1, 3, 4, 5, 6, 7, 8, 1, 3, 4, 2, 3, 2, 3, 4, 3, 9, 10, 4, 1, 3, 4, 5, 6, 7, 9, 6, 1, 2, 3, 4, 5, 6, 7, 8, 9, 10, 10, 6, 7, 2, 3, 1, 2, 4, 5, 6, 7, 1, 2, 3, 4, 5, 6, 7, 9, 1, 2, 3, 4, 5, 7, 8, 10, 7, 1, 3, 4, 5, 6, 8, 10, 3, 2, 3, 3, 6, 1, 3, 4, 8, 8, 7, 1, 3, 4, 5, 6, 7, 8, 9, 4, 7, 5, 1, 1, 4, 5, 7, 9, 10, 1, 3, 4, 5, 6, 1, 3, 4, 5, 6, 10, 1, 4, 5, 7, 8, 9, 10, 1, 8, 10, 7, 8, 10, 1, 3, 4, 5, 6, 7, 9, 1, 2, 3, 4, 5, 6, 7, 8, 9, 1, 4, 6, 7, 5, 7, 7, 7, 1, 2, 3, 4, 5, 7, 1, 2, 3, 4, 5, 6, 7, 8, 9, 2, 5, 4, 4, 9, 8, 6, 1, 3, 4, 5, 6, 7, 8, 9, 1, 3, 4, 5, 6, 7, 9, 10, 8, 3, 5, 6, 7, 9, 10, 1, 8, 2, 2, 1, 6, 7, 10, 1, 3, 4, 5, 6, 9, 3, 8, 1, 10, 1, 2, 3, 4, 5, 6, 7, 5, 7, 2, 3, 5, 6, 2, 1, 3, 4, 5, 2, 1, 2, 3, 4, 5, 6, 7, 8, 9, 10, 1, 2, 3, 5, 7, 8, 1, 5, 7, 8, 10, 1, 3, 10, 1, 2, 3, 4, 8, 6, 1, 2, 5, 7, 5, 5, 1, 2, 3, 4, 5, 6, 7, 8, 9, 7, 1, 4, 5, 6, 7, 10, 1, 3, 4, 7, 8, 10, 10, 1, 2, 4, 10, 2, 1, 4, 6, 1, 5, 7, 1, 2, 3, 4, 6, 7, 8, 2, 4, 4, 1, 6, 10, 7, 7, 9, 2, 1, 2, 3, 4, 8, 7, 4, 8, 9, 1, 2, 3, 4, 5, 6, 7, 8, 9, 10, 4, 2, 9, 1, 2, 4, 7, 10, 10, 4, 7, 1, 6, 4, 2, 3, 5, 6, 7, 8, 10, 1, 2, 3, 4, 5, 6, 7, 8, 9, 10, 8, 1, 3, 4, 8, 1, 2, 3, 4, 5, 6, 7, 8, 9, 3, 4, 9, 1, 2, 3, 4, 5, 6, 7, 8, 9, 10, 9, 6, 4, 1, 1, 5, 7, 1, 2, 1, 2, 3, 4, 5, 6, 7, 8, 9, 3, 8, 7, 3, 9, 7, 1, 2, 3, 4, 5, 6, 7, 8, 9, 4, 5, 1, 2, 9, 10, 1, 2, 3, 4, 5, 6, 7, 8, 9, 10, 2, 4, 5, 3, 1, 2, 3, 4, 5, 6, 6, 3, 1, 5, 7, 3, 1, 2, 3, 4, 5, 6, 8, 4, 5, 6, 7, 1, 2, 3, 4, 5, 6, 7, 8, 6, 5, 5, 1, 3, 4, 5, 6, 7, 9, 1, 2, 3, 4, 5, 6, 7, 8, 9, 10, 4, 1, 2, 3, 4, 5, 6, 7, 8, 9, 10, 3, 9, 6, 7, 3, 2, 3, 10, 8, 3, 6, 10, 3, 4, 6, 10, 5, 7, 9, 1, 2, 3, 4, 5, 6, 7, 8, 9, 10, 1, 2, 3, 4, 5, 6, 4, 1, 1, 5, 1, 2, 4, 5, 6, 7, 8, 10, 2, 10, 1, 5, 6, 3, 9, 10, 7, 7, 8, 9, 6, 1, 5, 7, 8, 1, 2, 3, 4, 6, 7, 8, 9, 10, 1, 3, 4, 5, 6, 7, 8, 9, 10, 1, 2, 3, 4, 5, 6, 7, 8, 9, 10, 4, 3, 1, 2, 3, 4, 5, 6, 7, 8, 3, 1, 3, 4, 7, 8, 3, 1, 2, 3, 6, 8, 3, 4, 6, 1, 2, 3, 4, 5, 6, 7, 8, 9, 5, 1, 10, 1, 2, 3, 4, 5, 6, 7, 8, 7, 1, 10, 3, 9, 5, 1, 4, 10, 3, 1, 3, 6, 9, 9, 6, 2, 1, 2, 3, 4, 5, 6, 8, 3, 3, 6, 9, 2, 1, 3, 4, 7, 8, 8, 9, 2, 1, 1, 10, 9, 2, 3, 4, 5, 8, 2, 7, 1, 9, 1, 4, 10, 3, 5, 1, 2, 3, 4, 5, 6, 7, 8, 9, 10, 6, 5, 4, 1, 2, 3, 4, 5, 6, 7, 8, 9, 10, 4, 1, 2, 3, 4, 5, 6, 7, 8, 9, 1, 2, 3, 4, 5, 6, 7, 8, 1, 2, 3, 4, 5, 6, 7, 8, 9, 10, 10, 6, 1, 2, 3, 6, 3, 9, 1, 1, 2, 5, 6, 1, 2, 4, 3, 10, 3, 4, 10, 5, 8, 7, 2, 1, 3, 4, 6, 7, 1, 2, 3, 4, 7, 9, 5, 7, 6, 1, 2, 3, 4, 5, 6, 7, 9, 10, 1, 2, 3, 4, 5, 6, 7, 8, 1, 2, 3, 4, 6, 7, 8, 9, 2, 3, 3, 5, 7, 6, 7, 1, 2, 3, 4, 5, 6, 7, 8, 9, 3, 2, 6, 8, 1, 4, 7, 1, 3, 4, 5, 6, 7, 1, 3, 4, 10, 3, 5, 8, 9, 1, 3, 7, 9, 7, 9, 5, 7, 9, 1, 3, 4, 5, 1, 2, 3, 4, 5, 6, 7, 8, 9, 10, 1, 2, 3, 4, 5, 6, 7, 8, 9, 10, 1, 1, 2, 3, 4, 5, 6, 7, 8, 9, 1, 2, 3, 4, 5, 6, 7, 8, 9, 10, 8, 1, 9, 10, 5, 5, 6, 1, 7, 4, 5, 1, 3, 4, 5, 6, 9, 1, 5, 7, 2, 9, 4, 5, 6, 7, 8, 10, 1, 2, 3, 4, 5, 6, 7, 8, 9, 10, 4, 1, 3, 4, 5, 5, 4, 2, 8, 1, 3, 4, 4, 2, 6, 3, 6, 1, 1, 3, 5, 6, 1, 3, 5, 6, 5, 1, 3, 4, 6, 7, 9, 6, 2, 3, 4, 8, 1, 2, 3, 4, 5, 6, 7, 9, 3, 5, 10, 1, 5, 1, 2, 3, 4, 5, 6, 7, 8, 9, 10, 10, 1, 2, 3, 4, 5, 6, 7, 8, 9, 10, 6, 3, 8, 1, 3, 5, 6, 8, 9, 10, 3, 2, 5, 1, 3, 4, 8, 1, 2, 3, 4, 5, 6, 7, 8, 9, 10, 9, 1, 2, 3, 4, 5, 6, 7, 8, 9, 10, 8, 1, 2, 3, 4, 5, 6, 7, 8, 9, 1, 3, 5, 7, 9, 10, 6, 9, 4, 10, 4, 1, 2, 3, 4, 5, 7, 8, 9, 10, 7, 5, 7, 9, 7, 8, 4, 8, 8, 9, 10, 5, 5, 7, 8, 9, 10, 9, 10, 1, 2, 3, 4, 5, 6, 7, 8, 10, 4, 1, 3, 4, 5, 7, 8, 9, 1, 2, 3, 5, 6, 7, 8, 1, 1, 1, 2, 3, 5, 6, 10, 2, 6, 1, 3, 4, 5, 6, 7, 1, 3, 5, 6, 7, 9, 10, 1, 3, 5, 6, 9, 10, 2, 8, 1, 3, 5, 6, 7, 5, 9, 9, 10, 9, 1, 1, 3, 4, 5, 7, 9, 10, 10, 4, 5, 6, 9, 3, 6, 6, 1, 4, 6, 8, 1, 5, 2, 3, 4, 9, 1, 3, 4, 5, 6, 8, 8, 8, 1, 2, 3, 4, 5, 6, 7, 8, 10, 1, 6, 8, 10, 5, 9, 4, 8, 9, 1, 2, 3, 4, 5, 6, 7, 8, 9, 10, 1, 3, 7, 8, 1, 2, 7, 8, 8, 1, 2, 3, 4, 5, 6, 7, 8, 3, 6, 1, 2, 3, 4, 5, 6, 7, 8, 9, 1, 2, 3, 5, 7, 3, 4, 5, 1, 3, 4, 5, 6, 7, 8, 9, 10, 7, 1, 3, 3, 1, 3, 5, 7, 9, 7, 10, 1, 2, 3, 5, 6, 7, 10, 1, 3, 5, 6, 7, 9, 4, 4, 4, 6, 8, 4, 10, 1, 5, 10, 1, 2, 4, 5, 2, 6, 1, 2, 3, 4, 5, 7, 8, 9, 1, 2, 3, 6, 1, 7, 10, 4, 9, 1, 1, 2, 3, 4, 5, 6, 7, 8, 9, 2, 9, 10, 1, 2, 3, 4, 5, 6, 7, 3, 1, 2, 3, 4, 5, 6, 7, 8, 6, 1, 2, 3, 4, 5, 6, 7, 8, 9, 10, 3, 9, 5, 1, 10, 1, 2, 3, 4, 5, 6, 7, 8, 9, 10, 1, 2, 3, 7, 10, 7, 7, 1, 2, 3, 4, 5, 6, 7, 8, 1, 2, 3, 4, 5, 6, 7, 8, 9, 10, 1, 2, 3, 4, 5, 6, 7, 9, 5, 5, 1, 2, 3, 6, 1, 3, 4, 10, 1, 6, 10, 8, 1, 2, 3, 4, 5, 6, 7, 8, 9, 10, 5, 1, 2, 3, 4, 5, 6, 7, 8, 10, 2, 1, 8, 1, 3, 5, 9, 1, 4, 4, 8, 2, 1, 2, 3, 4, 5, 6, 7, 8, 1, 1, 2, 3, 4, 5, 6, 7, 8, 9, 10, 10, 5, 8, 3, 8, 10, 1, 8, 2, 6, 1, 2, 3, 5, 6, 7, 1, 8, 6, 9, 2, 5, 9, 7, 1, 3, 8, 5, 6, 1, 2, 3, 2, 3, 4, 5, 1, 2, 3, 4, 6, 7, 8, 2, 3, 4, 4, 1, 8, 1, 3, 4, 5, 7, 3, 3, 5, 8, 10, 3, 6, 10, 1, 2, 3, 4, 5, 6, 7, 8, 9, 10, 1, 4, 5, 6, 7, 9, 7, 4], \"Freq\": [0.8541105994818244, 0.16428228950648607, 0.16428228950648607, 0.32856457901297215, 0.032856457901297216, 0.06571291580259443, 0.04928468685194582, 0.18071051845713468, 0.016428228950648608, 0.016428228950648608, 0.12335122819729974, 0.12335122819729974, 0.06167561409864987, 0.462567105739874, 0.0925134211479748, 0.12335122819729974, 0.11967612984460888, 0.7180567790676533, 0.04702731676237612, 0.1645956086683164, 0.5878414595297015, 0.14108195028712836, 0.02351365838118806, 0.04702731676237612, 0.2868042300007048, 0.14992039295491388, 0.05214622363649179, 0.123847281136668, 0.07821933545473768, 0.09125589136386063, 0.06518277954561473, 0.11081072522754505, 0.032591389772807365, 0.013036555909122947, 0.8723645482485349, 0.541221008049824, 0.3006783378054578, 0.030067833780545776, 0.030067833780545776, 0.09020350134163732, 0.8725569241038932, 0.25657620133069825, 0.03421016017742644, 0.11973556062099253, 0.2907863615081247, 0.01710508008871322, 0.03421016017742644, 0.2052609610645586, 0.01710508008871322, 0.17154316670798136, 0.754789933515118, 0.03430863334159628, 0.0987092522031836, 0.0987092522031836, 0.7896740176254688, 0.8222345111598124, 0.07953605098206064, 0.8748965608026671, 0.09778417975386497, 0.7822734380309198, 0.16265170824078007, 0.08132585412039003, 0.2033146353009751, 0.34563488001165765, 0.04066292706019502, 0.08132585412039003, 0.08132585412039003, 0.02033146353009751, 0.9478260534471242, 0.019171067863183112, 0.36425028940047915, 0.21088174649501423, 0.05751320358954934, 0.34507922153729603, 0.5384174213847606, 0.06730217767309507, 0.06730217767309507, 0.13460435534619014, 0.022434059224365022, 0.11217029612182511, 0.06730217767309507, 0.09877065692056988, 0.04938532846028494, 0.8395505838248439, 0.014520301240694424, 0.31944662729527734, 0.10164210868486097, 0.1742436148883331, 0.3630075310173606, 0.2527048140855036, 0.5248484600237382, 0.03887766370546209, 0.058316495558193134, 0.11663299111638627, 0.06361348964782974, 0.1272269792956595, 0.7633618757739569, 0.2412524976346382, 0.16083499842309215, 0.02680583307051536, 0.08041749921154608, 0.10722333228206143, 0.375281662987215, 0.8975689426805225, 0.8986866240168678, 0.07956954287601171, 0.07956954287601171, 0.7559106573221113, 0.9052003766315977, 0.04997971760163767, 0.04997971760163767, 0.8496551992278404, 0.1505165636330229, 0.22577484544953436, 0.09578326776646912, 0.07525828181651145, 0.10262492974978835, 0.10946659173310756, 0.0889416057831499, 0.08209994379983067, 0.04789163388323456, 0.020524985949957667, 0.21875439261503657, 0.21875439261503657, 0.1400028112736234, 0.08750175704601462, 0.07875158134141316, 0.11375228415981901, 0.0700014056368117, 0.03500070281840585, 0.017500351409202926, 0.008750175704601463, 0.8420289670887903, 0.06477145900683001, 0.07745094173454181, 0.8519603590799599, 0.8240864264073283, 0.9099125967017949, 0.393330450583295, 0.5681439841758706, 0.9052755748015185, 0.05325150440008933, 0.017750501466696444, 0.017750501466696444, 0.6665743702625332, 0.10665189924200531, 0.07998892443150399, 0.053325949621002657, 0.026662974810501328, 0.07998892443150399, 0.03546685741092762, 0.7802708630404077, 0.08866714352731905, 0.05320028611639143, 0.03546685741092762, 0.825244963862679, 0.3596931672295929, 0.611478384290308, 0.9674879162268264, 0.10536554489453209, 0.8780462074544342, 0.776035662268385, 0.155207132453677, 0.849671828668835, 0.7884284950311287, 0.08760316611456985, 0.10950395764321232, 0.11041624309453663, 0.04416649723781465, 0.4637482209970538, 0.22083248618907325, 0.022083248618907324, 0.022083248618907324, 0.0883329944756293, 0.13773664533750707, 0.06886832266875353, 0.6886832266875353, 0.9565624261284338, 0.03542823800475681, 0.9253499160594234, 0.8736092039684944, 0.8781466755895212, 0.10998692357173463, 0.8798953885738771, 0.9206087027527072, 0.8518102205732009, 0.2246670148509656, 0.07488900495032187, 0.07488900495032187, 0.19471141287083688, 0.07488900495032187, 0.08986680594038625, 0.26960041782115873, 0.870721529765068, 0.24321450303746714, 0.15287768762355078, 0.08338782961284587, 0.1389797160214098, 0.10423478701605735, 0.08338782961284587, 0.05559188640856392, 0.08338782961284587, 0.041693914806422934, 0.00694898580107049, 0.9654132558463047, 0.17971332297351575, 0.8087099533808209, 0.7688149667374847, 0.2242376986317664, 0.16081655297253422, 0.026802758828755702, 0.1340137941437785, 0.16081655297253422, 0.053605517657511405, 0.4824496589176026, 0.1963380479561245, 0.028048292565160643, 0.2945070719341868, 0.014024146282580321, 0.09816902397806225, 0.23841048680386548, 0.042072438847740964, 0.08414487769548193, 0.4341254001273867, 0.04341254001273867, 0.08682508002547734, 0.08682508002547734, 0.04341254001273867, 0.04341254001273867, 0.23876897007006267, 0.021706270006369335, 0.8539718718010839, 0.06435894071985993, 0.12871788143971985, 0.09653841107978989, 0.30570496841933464, 0.3217947035992996, 0.048269205539894944, 0.03217947035992996, 0.841923613497853, 0.9205377509118836, 0.8769092921196147, 0.07345454361741337, 0.8814545234089605, 0.015082279228733156, 0.015082279228733156, 0.2714810261171968, 0.6937848445217252, 0.9077532229760898, 0.8172608743942823, 0.18600999934434126, 0.2170116659017315, 0.10850583295086574, 0.03100166655739021, 0.20151083262303637, 0.03100166655739021, 0.03100166655739021, 0.17050916606564617, 0.15377701288982967, 0.7688850644491484, 0.854986886615946, 0.8202988217284296, 0.4986835794852342, 0.06504568428068272, 0.13009136856136544, 0.17345515808182058, 0.08672757904091029, 0.021681894760227572, 0.7906086459871778, 0.7286329970938586, 0.042860764534932864, 0.08572152906986573, 0.1285822936047986, 0.07081427642574545, 0.035407138212872724, 0.7612534715767636, 0.017703569106436362, 0.017703569106436362, 0.08851784553218181, 0.3194074641342177, 0.2433580679117849, 0.04562963773345967, 0.19772843017832525, 0.15209879244486557, 0.015209879244486557, 0.015209879244486557, 0.9171370650678733, 0.08962218939183135, 0.8514107992223978, 0.1568628929085753, 0.07843144645428765, 0.7058830180885889, 0.06958058975355891, 0.02609272115758459, 0.017395147438389727, 0.07827816347275378, 0.3392053750485997, 0.008697573719194863, 0.46966898083652264, 0.058907239599701317, 0.23562895839880527, 0.14306043902784604, 0.016830639885628947, 0.26929023817006315, 0.21038299857036183, 0.02524595982844342, 0.008415319942814473, 0.02524595982844342, 0.8894674974094052, 0.14832661166008598, 0.14832661166008598, 0.6674697524703869, 0.8569736296177689, 0.831323879680172, 0.8798737368311385, 0.8916255185288141, 0.03060387227270838, 0.03060387227270838, 0.44375614795427154, 0.01530193613635419, 0.06120774454541676, 0.41315227568156315, 0.01895282877534105, 0.940060307256916, 0.01137169726520463, 0.00379056575506821, 0.00379056575506821, 0.00379056575506821, 0.00758113151013642, 0.01137169726520463, 0.8221284638717871, 0.8875892537571604, 0.8659814444114395, 0.7937807261558774, 0.8711648843181672, 0.8589274829155281, 0.8226272814638345, 0.871122877260337, 0.2770860108874847, 0.13854300544374235, 0.06157466908610771, 0.07696833635763464, 0.015393667271526927, 0.3232670127020655, 0.015393667271526927, 0.09236200362916157, 0.18565076892086285, 0.01687734262916935, 0.025316013943754025, 0.21940545417920154, 0.23628279680837092, 0.008438671314584674, 0.2953534960104636, 0.008438671314584674, 0.9440149974196872, 0.020448895626120074, 0.7157113469142026, 0.06134668687836022, 0.04089779125224015, 0.020448895626120074, 0.14314226938284053, 0.12800274982419005, 0.7680164989451403, 0.9551418025508177, 0.8790471768930861, 0.09043527250931847, 0.7234821800745478, 0.1356529087639777, 0.9665846009612594, 0.07521101287939994, 0.025070337626466644, 0.12535168813233322, 0.25070337626466643, 0.37605506439699965, 0.12535168813233322, 0.1845327919857798, 0.7381311679431192, 0.9139453798204384, 0.8365189340680866, 0.030525361930222324, 0.8699728150113363, 0.030525361930222324, 0.015262680965111162, 0.015262680965111162, 0.015262680965111162, 0.7906254053755812, 0.675390950156124, 0.225130316718708, 0.6956214986222834, 0.061378367525495595, 0.1841351025764868, 0.04091891168366373, 0.8187699356963112, 0.07738737303420423, 0.20636632809121128, 0.43852844719382394, 0.2579579101140141, 0.9619656779182064, 0.14110705080079577, 0.13025266227765764, 0.10854388523138135, 0.06512633113882882, 0.18452460489334832, 0.18452460489334832, 0.08683510818510509, 0.03256316556941441, 0.043417554092552546, 0.010854388523138137, 0.537829935924942, 0.16807185497654437, 0.033614370995308875, 0.1344574839812355, 0.033614370995308875, 0.033614370995308875, 0.17120938170450925, 0.1426744847537577, 0.02853489695075154, 0.5992328359657824, 0.02853489695075154, 0.7548726571803508, 0.16774947937341128, 0.8581215300390965, 0.6996547291127518, 0.13993094582255036, 0.13993094582255036, 0.13553829868389558, 0.8132297921033735, 0.8474855955972328, 0.17087759694594837, 0.05695919898198278, 0.6265511888018106, 0.05695919898198278, 0.7405264934018368, 0.7952463968221506, 0.1563207844693383, 0.3238073392579151, 0.20098386574629212, 0.055828851596192254, 0.07816039223466915, 0.022331540638476904, 0.07816039223466915, 0.06699462191543071, 0.011165770319238452, 0.8754483022963825, 0.2011252193311643, 0.12067513159869858, 0.2011252193311643, 0.04022504386623286, 0.44247548252856145, 0.8847628779982772, 0.12543122194775477, 0.05701419179443399, 0.6955731398920947, 0.011402838358886799, 0.09122270687109439, 0.011402838358886799, 0.9208567232416932, 0.7122674889352287, 0.05935562407793572, 0.11871124815587145, 0.9173760707387086, 0.8720991011881525, 0.8948787945010819, 0.864128058675187, 0.9396860459492496, 0.13443877803245585, 0.582568038140642, 0.22406463005409308, 0.02947423732728527, 0.5231677125593135, 0.36842796659106586, 0.014737118663642634, 0.007368559331821317, 0.02210567799546395, 0.02947423732728527, 0.9642701223360093, 0.8262329827807882, 0.8121209055426977, 0.9267023282715836, 0.09619868037127367, 0.865788123341463, 0.8679005707209987, 0.8391355330248403, 0.13985592217080672, 0.8555385191942125, 0.024064709462020255, 0.024064709462020255, 0.7700707027846482, 0.09625883784808102, 0.07219412838606076, 0.8351353292843776, 0.1976525011725382, 0.6588416705751273, 0.06588416705751272, 0.0890290632170476, 0.3066556621920528, 0.14838177202841266, 0.07913694508182008, 0.14838177202841266, 0.0890290632170476, 0.06924482694659258, 0.02967635440568253, 0.01978423627045502, 0.02967635440568253, 0.9063872429192513, 0.9735137297856367, 0.9240403336081483, 0.3668021463153173, 0.08151158807007051, 0.5298253224554583, 0.08853001273006061, 0.7967701145705455, 0.8515292539945484, 0.11672213072515523, 0.8170549150760866, 0.8807631201548066, 0.08807631201548066, 0.9094595080151401, 0.07978259321441929, 0.05983694491081447, 0.23934777964325787, 0.05983694491081447, 0.01994564830360482, 0.49864120759012054, 0.01994564830360482, 0.06758781272820386, 0.3089728581860748, 0.08689861636483352, 0.12552022363809287, 0.14483102727472255, 0.1351756254564077, 0.04827700909157418, 0.019310803636629674, 0.04827700909157418, 0.019310803636629674, 0.9059031910849126, 0.1888739048520027, 0.14165542863900202, 0.1888739048520027, 0.5194032383430074, 0.20364786466973678, 0.10965654251447364, 0.36030006826184197, 0.07832610179605261, 0.06266088143684208, 0.04699566107763156, 0.03133044071842104, 0.01566522035921052, 0.07832610179605261, 0.21777321017652163, 0.21777321017652163, 0.544433025441304, 0.08350421102898115, 0.3120420517398769, 0.1670084220579623, 0.05273950170251441, 0.10108404492981928, 0.13624371273149555, 0.08350421102898115, 0.017579833900838136, 0.030764709326466737, 0.02197479237604767, 0.8746650571131819, 0.8282074225740199, 0.8296202612954637, 0.8936128864901335, 0.748137559964039, 0.14387260768539212, 0.08632356461123528, 0.9276143502327462, 0.8149151863066694, 0.25935567460546666, 0.005403243220947223, 0.1675005398493639, 0.17290378307031112, 0.04322594576757778, 0.02701621610473611, 0.03241945932568333, 0.27556540426830833, 0.005403243220947223, 0.3950005579272093, 0.5925008368908139, 0.7614843255757907, 0.13877616067087792, 0.6938808033543895, 0.8537742301637301, 0.3720189550402646, 0.072337019035607, 0.11367245848452529, 0.05166929931114786, 0.12400631834675487, 0.05166929931114786, 0.08267087889783657, 0.031001579586688716, 0.10333859862229572, 0.6973594242374339, 0.154968760941652, 0.07377573206902097, 0.848420918793741, 0.03688786603451048, 0.03688786603451048, 0.12738957483950422, 0.15286748980740505, 0.06369478741975211, 0.15286748980740505, 0.21656227722715715, 0.12738957483950422, 0.06369478741975211, 0.06369478741975211, 0.01273895748395042, 0.01273895748395042, 0.07140335802858169, 0.7854369383143986, 0.14280671605716339, 0.9417488144953573, 0.07244142564783382, 0.03622071282391691, 0.6157521180065875, 0.054331069235875364, 0.09055178205979227, 0.10866213847175073, 0.8586091955356894, 0.8789909581134853, 0.04770091146970239, 0.04770091146970239, 0.858616406454643, 0.9175354032742209, 0.15456218812470446, 0.0966013675779403, 0.019320273515588057, 0.038640547031176115, 0.34776492328058506, 0.2898041027338209, 0.038640547031176115, 0.027685313531898247, 0.027685313531898247, 0.8859300330207439, 0.027685313531898247, 0.15516631558817856, 0.10344421039211903, 0.1939578944852232, 0.28447157857832733, 0.03879157889704464, 0.07758315779408928, 0.03879157889704464, 0.09051368409310416, 0.8968637853741828, 0.8262557055559732, 0.8873795476261955, 0.42068413238430147, 0.05048209588611618, 0.016827365295372057, 0.18510101824909264, 0.033654730590744114, 0.06730946118148823, 0.2019283835444647, 0.22657526551101442, 0.14776647750718333, 0.12806428050622554, 0.18717087150909886, 0.08865988650430999, 0.05910659100287333, 0.03940439400191555, 0.10836208350526777, 0.009851098500478888, 0.009851098500478888, 0.8319774996313903, 0.18523120445977145, 0.18964147123262315, 0.13671826995840275, 0.11025666932129254, 0.11025666932129254, 0.09702586900273742, 0.07497453513847892, 0.06174373481992382, 0.03087186740996191, 0.008820533545703403, 0.092758372297178, 0.834825350674602, 0.9149441850487193, 0.8969436684334853, 0.819085848848892, 0.23923457471377782, 0.07974485823792594, 0.6379588659034076, 0.7336898257122766, 0.06858452272913527, 0.13716904545827055, 0.754429750020488, 0.2353889473583125, 0.03362699247975893, 0.7061668420749375, 0.901211677821231, 0.06293160691156277, 0.12586321382312554, 0.7551792829387532, 0.16440426507399122, 0.17738354915878, 0.11681355676309903, 0.1124871287348361, 0.13844569690441366, 0.10816070070657317, 0.0648964204239439, 0.06056999239568098, 0.047590708310892196, 0.01297928408478878, 0.08033032708277253, 0.6426426166621803, 0.17672671958209957, 0.032132130833109014, 0.032132130833109014, 0.032132130833109014, 0.9205490193956055, 0.9683651120841997, 0.2737750922490314, 0.7300669126640837, 0.4767783175706636, 0.09535566351413272, 0.07628453081130618, 0.09535566351413272, 0.13349792891978582, 0.07628453081130618, 0.03814226540565309, 0.019071132702826545, 0.954133518731821, 0.8985996906995503, 0.9107579857196422, 0.13754521163522898, 0.825271269811374, 0.2545422631880223, 0.06363556579700558, 0.6363556579700559, 0.8265127292706106, 0.0872253131395377, 0.058150208759691804, 0.8431780270155311, 0.778762667781627, 0.04880479680402603, 0.6832671552563645, 0.1464143904120781, 0.04880479680402603, 0.2251852126474214, 0.02251852126474214, 0.4503704252948428, 0.09007408505896856, 0.02251852126474214, 0.02251852126474214, 0.13511112758845284, 0.02251852126474214, 0.02251852126474214, 0.1364846975189595, 0.272969395037919, 0.14889239729341036, 0.11166929797005777, 0.1364846975189595, 0.024815399548901728, 0.07444619864670518, 0.08685389842115604, 0.012407699774450864, 0.1894307396509669, 0.12961050607697736, 0.2093708175089634, 0.08973035036098433, 0.10967042821898083, 0.08973035036098433, 0.05982023357398955, 0.05982023357398955, 0.029910116786994775, 0.029910116786994775, 0.9473647599652052, 0.9251020226578284, 0.18132163950039673, 0.04533040987509918, 0.20398684443794635, 0.02266520493754959, 0.04533040987509918, 0.15865643456284714, 0.2946476641881447, 0.02266520493754959, 0.8885551929356913, 0.1287180306661297, 0.3604104858651631, 0.4376413042648409, 0.025743606133225936, 0.025743606133225936, 0.8759280823011049, 0.033240429179851656, 0.7977703003164397, 0.09972128753955496, 0.033240429179851656, 0.7963452526345592, 0.0921572410400304, 0.8294151693602736, 0.0921572410400304, 0.255318549933534, 0.026875636835108838, 0.4434480077792958, 0.053751273670217675, 0.0671890920877721, 0.040313455252663256, 0.053751273670217675, 0.0671890920877721, 0.013437818417554419, 0.7802371514889003, 0.8601174704890413, 0.08601174704890413, 0.464200881243888, 0.07736681354064799, 0.07736681354064799, 0.09284017624877759, 0.07736681354064799, 0.046420088124388796, 0.09284017624877759, 0.07736681354064799, 0.8554635257159129, 0.10454506499046055, 0.8363605199236844, 0.28780624685680806, 0.6475640554278181, 0.9282392321383797, 0.9262277030630744, 0.11785649118515208, 0.8721380347701254, 0.879408669885399, 0.09386920662427377, 0.8761125951598885, 0.7832053754851223, 0.1305342292475204, 0.850094642963534, 0.9169523785806263, 0.9243092299211522, 0.08086868839493619, 0.05391245892995746, 0.18869360625485113, 0.4312996714396597, 0.02695622946497873, 0.08086868839493619, 0.10782491785991492, 0.8845042913493738, 0.07418051336255031, 0.14836102672510063, 0.7418051336255032, 0.9767849005076825, 0.21511229636002377, 0.0717040987866746, 0.7170409878667459, 0.7545724964099618, 0.9182911554874537, 0.13140326566422358, 0.7884195939853416, 0.9147595815218815, 0.9063892039849483, 0.9502915310348121, 0.9485055242641968, 0.8536932993621845, 0.038392297826482874, 0.07678459565296575, 0.6910613608766918, 0.07678459565296575, 0.07678459565296575, 0.8618482770808772, 0.06629602131391363, 0.12983780990267516, 0.779026859416051, 0.8084914539533167, 0.9059964808312163, 0.07549970673593469, 0.5096038837292162, 0.47040358498081497, 0.1502075997653118, 0.22316557679417756, 0.18024911971837418, 0.10729114268950844, 0.09870785127434777, 0.09441620556676743, 0.05149974849096405, 0.042916457075803376, 0.042916457075803376, 0.008583291415160677, 0.9460375035878159, 0.8006995247638122, 0.814207326939093, 0.12799824723637948, 0.18823271652408746, 0.16564479054119696, 0.16564479054119696, 0.09788101259252548, 0.12046893857541598, 0.05270516062674449, 0.03764654330481749, 0.03764654330481749, 0.0075293086609634985, 0.9015506167555835, 0.43050876523557596, 0.04783430724839733, 0.011958576812099333, 0.143502921745192, 0.08371003768469533, 0.13154434493309267, 0.071751460872596, 0.071751460872596, 0.011958576812099333, 0.1464709149378468, 0.0976472766252312, 0.1464709149378468, 0.3743145603967196, 0.0650981844168208, 0.0162745461042052, 0.0488236383126156, 0.0976472766252312, 0.1279560265029392, 0.1279560265029392, 0.11089522296921396, 0.2047296424047027, 0.1279560265029392, 0.09383441943548873, 0.0639780132514696, 0.08530401766862612, 0.04265200883431306, 0.017060803533725223, 0.9137468816700852, 0.8860104311830221, 0.11446595472679884, 0.6867957283607931, 0.11446595472679884, 0.05723297736339942, 0.8102100789738181, 0.16204201579476363, 0.8141732958707868, 0.13180829889901075, 0.834785893027068, 0.04755616513097414, 0.9035671374885087, 0.7669830145253551, 0.06391525121044625, 0.06391525121044625, 0.042788702197104324, 0.8985627461391908, 0.817721993836754, 0.0817721993836754, 0.8707391730989547, 0.7389256377557681, 0.9035750570961313, 0.7835642036859064, 0.9192916549992808, 0.8797392044085743, 0.12966332842379039, 0.025932665684758077, 0.8039126362275004, 0.025932665684758077, 0.17949844985368987, 0.12821317846692132, 0.025642635693384267, 0.5641379852544538, 0.07692790708015279, 0.025642635693384267, 0.160774459863268, 0.7234850693847059, 0.9022718669284876, 0.4548813717769726, 0.2067642598986239, 0.08270570395944957, 0.12405855593917435, 0.02067642598986239, 0.04135285197972478, 0.04135285197972478, 0.02067642598986239, 0.9260854392442825, 0.1553385117004882, 0.0776692558502441, 0.10355900780032547, 0.2588975195008137, 0.0776692558502441, 0.09061413182528479, 0.03883462792512205, 0.20711801560065093, 0.12982614152081126, 0.5378511577290752, 0.0927329582291509, 0.07418636658332071, 0.01854659164583018, 0.05563977493749053, 0.05563977493749053, 0.01854659164583018, 0.9156716110898607, 0.04819324268894004, 0.0877502022455531, 0.789751820209978, 0.8873513931511037, 0.9280851553954229, 0.07139116579964792, 0.15042047661013064, 0.07521023830506532, 0.43621938216937883, 0.10529433362709144, 0.045126142983039186, 0.015042047661013063, 0.06016819064405225, 0.06016819064405225, 0.045126142983039186, 0.803565350698928, 0.2120017169535045, 0.053000429238376126, 0.6360051508605135, 0.13424804713020114, 0.026849609426040227, 0.8054882827812068, 0.20567325657497718, 0.02938189379642531, 0.08814568138927592, 0.17629136277855184, 0.49949219453923027, 0.8183990386393764, 0.2749534181109679, 0.5842760134858068, 0.06873835452774198, 0.06873835452774198, 0.19348846766392788, 0.06449615588797597, 0.06449615588797597, 0.7094577147677356, 0.03270196087347365, 0.1962117652408419, 0.09810588262042096, 0.6867411783429467, 0.9315814927410908, 0.03583005741311888, 0.11647308790038632, 0.7570750713525111, 0.11647308790038632, 0.08505354401340219, 0.7229551241139186, 0.042526772006701095, 0.12758031602010328, 0.2286813748082598, 0.14833386474049284, 0.061805776975205354, 0.12979213164793124, 0.1050698208578491, 0.05562519927768482, 0.05562519927768482, 0.17305617553057498, 0.024722310790082143, 0.018541733092561605, 0.1340028119957586, 0.1340028119957586, 0.3484073111889723, 0.05360112479830343, 0.0670014059978793, 0.0670014059978793, 0.0670014059978793, 0.093801968397031, 0.013400281199575858, 0.013400281199575858, 0.8247156144119234, 0.24615331223163586, 0.1538458201447724, 0.1435894321351209, 0.09230749208686344, 0.13333304412546942, 0.08205110407721194, 0.030769164028954483, 0.10256388009651493, 0.020512776019302986, 0.21434722247838198, 0.13047222237814554, 0.10251388901140007, 0.13047222237814554, 0.16775000020047284, 0.09319444455581824, 0.0372777778223273, 0.08387500010023642, 0.01863888891116365, 0.01863888891116365, 0.9161235345995667, 0.7875939679065262, 0.10501252905420351, 0.10501252905420351, 0.9096097728712882, 0.9087640309376075, 0.05679775193360047, 0.30883187457077793, 0.6651763452293679, 0.8927752269192092, 0.9002736346023432, 0.2178767850987423, 0.06225051002821209, 0.09337576504231812, 0.23343941260579532, 0.0778131375352651, 0.2956899226340074, 0.1282480651653092, 0.7694883909918553, 0.9017959678334271, 0.11084853762485945, 0.7759397633740162, 0.07868771007346681, 0.2098338935292448, 0.2098338935292448, 0.39343855036733405, 0.0262292366911556, 0.0524584733823112, 0.07002560102118514, 0.245089603574148, 0.11670933503530857, 0.10503840153177772, 0.2217477365670863, 0.11670933503530857, 0.04668373401412343, 0.023341867007061715, 0.023341867007061715, 0.011670933503530857, 0.8084840219123628, 0.16194336478244747, 0.12955469182595797, 0.6801621320862794, 0.03238867295648949, 0.8364368785270999, 0.9609126362700401, 0.09896514542341076, 0.8412037360989915, 0.17863111067617565, 0.059543703558725215, 0.7145244427047026, 0.9638329399229183, 0.8991730306652304, 0.06422664504751645, 0.8562860695948612, 0.09514289662165124, 0.8741233224419189, 0.3037011152511029, 0.6941739777168067, 0.08383846515132579, 0.8383846515132578, 0.07361352931831053, 0.6870596069708983, 0.17176490174272457, 0.04907568621220702, 0.9406233914996779, 0.2375872133212897, 0.15839147554752647, 0.02639857925792108, 0.2639857925792108, 0.02639857925792108, 0.29038437183713184, 0.8534001338772922, 0.08715854138509747, 0.6972683310807798, 0.17431708277019495, 0.04357927069254874, 0.09137834097092226, 0.2056012671845751, 0.5025808753400725, 0.022844585242730565, 0.0685337557281917, 0.022844585242730565, 0.09137834097092226, 0.9201592282292561, 0.12884876779637272, 0.7730926067782363, 0.06442438389818636, 0.08651663375984497, 0.8651663375984497, 0.29362244500322776, 0.1957482966688185, 0.05872448900064555, 0.09134920511211529, 0.09787414833440924, 0.05872448900064555, 0.0652494322229395, 0.09787414833440924, 0.01957482966688185, 0.0130498864445879, 0.8342590006280022, 0.26456007264919096, 0.09122761125834172, 0.14596417801334674, 0.1277186557616784, 0.0957889918212588, 0.027368283377502516, 0.08210485013250754, 0.10035037238417589, 0.0319296639404196, 0.0319296639404196, 0.7403342794910005, 0.053135666405051574, 0.9033063288858767, 0.14571952820036696, 0.6036951882586631, 0.04163415091439056, 0.14571952820036696, 0.04163415091439056, 0.02081707545719528, 0.9160536241472347, 0.9148929212440692, 0.25771863007066154, 0.7087262326943192, 0.043082224609407964, 0.043082224609407964, 0.7754800429693434, 0.12924667382822388, 0.23393078644059376, 0.17778739769485125, 0.1310012404067325, 0.10292954603386124, 0.1310012404067325, 0.04678615728811875, 0.06550062020336625, 0.04678615728811875, 0.00935723145762375, 0.0561433887457425, 0.813887389785275, 0.22487728920270847, 0.14991819280180566, 0.11243864460135423, 0.06246591366741902, 0.11243864460135423, 0.049972730933935214, 0.049972730933935214, 0.16241137553528945, 0.012493182733483803, 0.07495909640090283, 0.790200172380498, 0.22277394205623743, 0.08910957682249497, 0.13366436523374245, 0.14851596137082496, 0.22277394205623743, 0.044554788411247485, 0.014851596137082495, 0.07425798068541248, 0.02970319227416499, 0.7987055487566725, 0.8651563383994199, 0.05135150080148742, 0.05135150080148742, 0.5648665088163616, 0.3081090048089245, 0.1467803117925519, 0.7339015589627595, 0.8836617415247997, 0.09818463794719996, 0.8847566906820564, 0.2499628495064945, 0.10935874665909134, 0.07811339047077953, 0.062490712376623625, 0.14060410284740316, 0.015622678094155906, 0.3124535618831181, 0.015622678094155906, 0.015622678094155906, 0.918904001534996, 0.08432467639665614, 0.16864935279331228, 0.6745974111732491, 0.8987839926348005, 0.8157592802309785, 0.2165854121129866, 0.7219513737099553, 0.8704009957644989, 0.8116163114453044, 0.8824256749740542, 0.9041641595382816, 0.1596870728482793, 0.23953060927241893, 0.11976530463620946, 0.03992176821206982, 0.3992176821206982, 0.6975124649490948, 0.23250415498303162, 0.31964234545622777, 0.20899691818291818, 0.22129085454661923, 0.09835149090960855, 0.03688180909110321, 0.03688180909110321, 0.03688180909110321, 0.03688180909110321, 0.01229393636370107, 0.9294995266377823, 0.179984245577594, 0.059994748525864665, 0.059994748525864665, 0.179984245577594, 0.3399702416465664, 0.07999299803448622, 0.07999299803448622, 0.04968463382263744, 0.6459002396942868, 0.02484231691131872, 0.1242115845565936, 0.04968463382263744, 0.09936926764527489, 0.9033449337733124, 0.9260485004822746, 0.9165390372673864, 0.038061181200387414, 0.7612236240077483, 0.038061181200387414, 0.07612236240077483, 0.05709177180058113, 0.019030590600193707, 0.9527370798692645, 0.7984399811136594, 0.20488622159108236, 0.08195448863643294, 0.6556359090914635, 0.43066275504001994, 0.06625580846769538, 0.46379065927386764, 0.1731736327674371, 0.0666052433720912, 0.2397788761395283, 0.21313677879069182, 0.07992629204650943, 0.1332104867441824, 0.09324734072092768, 0.07437485279454258, 0.049583235196361715, 0.24791617598180857, 0.32229102877635113, 0.2231245583836277, 0.07437485279454258, 0.9008671343296926, 0.90770044726316, 0.15115702321821153, 0.015115702321821155, 0.07557851160910577, 0.03023140464364231, 0.7104380091255942, 0.08420417947699961, 0.8420417947699961, 0.8904191292864865, 0.9305990497364213, 0.9474701127582206, 0.825412383359283, 0.07068031204184817, 0.02356010401394939, 0.02356010401394939, 0.14136062408369635, 0.659682912390583, 0.07068031204184817, 0.02356010401394939, 0.9377310942101746, 0.09458782193503068, 0.40988056171846626, 0.40988056171846626, 0.06305854795668711, 0.8887405738243357, 0.8590437144366703, 0.9341525793672624, 0.09009749479464539, 0.0300324982648818, 0.15016249132440898, 0.7508124566220449, 0.10617406171331908, 0.7432184319932336, 0.10077767137415573, 0.7054436996190901, 0.1511665070612336, 0.9491615664260867, 0.04051264843425719, 0.12153794530277158, 0.16205059373702876, 0.6076897265138579, 0.19804007313686592, 0.7921602925474637, 0.899669647025932, 0.8413211136804684, 0.32104137439053515, 0.06879458022654325, 0.02293152674218108, 0.10319187033981488, 0.12612339708199596, 0.04586305348436216, 0.04586305348436216, 0.22931526742181083, 0.02293152674218108, 0.6598268661250217, 0.08797691548333623, 0.17595383096667247, 0.04398845774166812, 0.8433664938260438, 0.10542081172825547, 0.19298157459817533, 0.09649078729908767, 0.6754355110936137, 0.2267695597691912, 0.10671508695020762, 0.12005447281898357, 0.26678771737551904, 0.06669692934387976, 0.13339385868775952, 0.013339385868775953, 0.040018157606327855, 0.026678771737551905, 0.013339385868775953, 0.23388668935108176, 0.23388668935108176, 0.4677733787021635, 0.038981114891846955, 0.3144804476186924, 0.08985155646248355, 0.08985155646248355, 0.5391093387749013, 0.8875302669262738, 0.23728541291831529, 0.07415169153697353, 0.16313372138134177, 0.2966067661478941, 0.08898202984436823, 0.08898202984436823, 0.014830338307394705, 0.014830338307394705, 0.8625160829729723, 0.835724273568166, 0.09539751801159024, 0.2044232528819791, 0.2044232528819791, 0.3679618551875624, 0.05451286743519443, 0.013628216858798607, 0.027256433717597214, 0.013628216858798607, 0.013628216858798607, 0.04874837468830093, 0.7799739950128148, 0.04874837468830093, 0.09749674937660185, 0.024374187344150464, 0.7919639205017831, 0.06092030157706024, 0.06092030157706024, 0.07433196317891536, 0.13937243096046628, 0.07433196317891536, 0.2322873849341105, 0.35307682509984795, 0.00929149539736442, 0.01858299079472884, 0.07433196317891536, 0.01858299079472884, 0.8812564165362635, 0.1159630454130483, 0.8117413178913381, 0.9133429787275976, 0.5629648893361068, 0.021652495743696414, 0.04330499148739283, 0.32478743615544625, 0.021652495743696414, 0.876733461054814, 0.9624261701087713, 0.04641011706888459, 0.23205058534442297, 0.04641011706888459, 0.37128093655107675, 0.09282023413776919, 0.18564046827553837, 0.023205058534442297, 0.16109101441977858, 0.046026004119936736, 0.20711701853971531, 0.20711701853971531, 0.32218202883955716, 0.0690390061799051, 0.8423826476965882, 0.8521861876533793, 0.1987304021239674, 0.662434673746558, 0.0662434673746558, 0.07371128387139962, 0.8845354064567954, 0.0692803951611844, 0.0692803951611844, 0.8313647419342127, 0.08703806940307617, 0.08703806940307617, 0.6963045552246093, 0.08703806940307617, 0.9486803318593088, 0.027105152338837393, 0.13549837381320576, 0.18631026399315792, 0.22018485744645935, 0.18631026399315792, 0.03387459345330144, 0.01693729672665072, 0.20324756071980865, 0.01693729672665072, 0.0757628336306386, 0.757628336306386, 0.0757628336306386, 0.0757628336306386, 0.05599109707649981, 0.2799554853824991, 0.6159020678414979, 0.19225195121772407, 0.7690078048708963, 0.8135924867668204, 0.38801363715350273, 0.08083617440697974, 0.0323344697627919, 0.14550511393256352, 0.07275255696628176, 0.11317064416977163, 0.0889197918476777, 0.0646689395255838, 0.01616723488139595, 0.9448762428755676, 0.8271104846010433, 0.9204451968990295, 0.012734445965483681, 0.7258634200325699, 0.07640667579290208, 0.06367222982741841, 0.03820333789645104, 0.03820333789645104, 0.025468891930967363, 0.8510283525036019, 0.28823230260793165, 0.10808711347797438, 0.2642129440572707, 0.09607743420264389, 0.06004839637665243, 0.048038717101321946, 0.0840677549273134, 0.06004839637665243, 0.8073800682848479, 0.16850645061749894, 0.17841859477146946, 0.3469250453889684, 0.009912144153970525, 0.05947286492382315, 0.0792971532317642, 0.08920929738573473, 0.009912144153970525, 0.0396485766158821, 0.009912144153970525, 0.878793168003233, 0.9212030331735906, 0.7562996777224419, 0.08820586113550076, 0.7938527502195069, 0.08300789674454544, 0.12451184511681816, 0.31543000762927265, 0.033203158697818175, 0.15771500381463632, 0.2075197418613636, 0.02490236902336363, 0.008300789674454544, 0.04150394837227272, 0.008300789674454544, 0.06899618108406753, 0.13799236216813507, 0.41397708650440523, 0.02299872702802251, 0.34498090542033766, 0.9345707253450238, 0.8981631047129108, 0.20228192708116105, 0.1400413341331115, 0.17116163060713627, 0.34232326121427253, 0.015560148237012388, 0.031120296474024776, 0.031120296474024776, 0.04668044471103717, 0.1216023056172074, 0.2513114316088953, 0.21483073992373308, 0.04864092224688296, 0.1216023056172074, 0.09728184449376592, 0.0689079731830842, 0.020267050936201236, 0.04864092224688296, 0.008106820374480494, 0.1461985332732454, 0.10233897329127177, 0.1461985332732454, 0.04385955998197362, 0.23391765323719263, 0.17543823992789448, 0.01461985332732454, 0.11695882661859631, 0.8032594168885588, 0.781876320003577, 0.023930666602447238, 0.8375733310856533, 0.09572266640978895, 0.047861333204894475, 0.026827761011212967, 0.0804832830336389, 0.6975217862915372, 0.1609665660672778, 0.23961593984654, 0.07987197994884666, 0.6389758395907733, 0.8790643372675127, 0.21718557398466395, 0.09307953170771313, 0.046539765853856566, 0.09307953170771313, 0.07756627642309427, 0.07756627642309427, 0.06205302113847542, 0.29475185040775825, 0.03102651056923771, 0.03102651056923771, 0.8970537689298055, 0.2002104060993928, 0.1518837563512635, 0.1035571066031342, 0.17949898477876597, 0.12426852792376106, 0.0483266497481293, 0.05523045685500491, 0.13117233503063666, 0.006903807106875614, 0.9359244798673564, 0.14950793831637654, 0.7475396915818827, 0.09389717667066334, 0.8450745900359701, 0.0727288483027667, 0.8727461796332004, 0.8640581424234426, 0.780949080615869, 0.9286988361828662, 0.7363992751559706, 0.8969593611810585, 0.07086891596372388, 0.014173783192744777, 0.042521349578234335, 0.7299498344263561, 0.0637820243673515, 0.021260674789117168, 0.007086891596372389, 0.04960824117460672, 0.8859859296326389, 0.146064902711257, 0.28482656028695114, 0.16797463811794555, 0.09494218676231705, 0.0730324513556285, 0.09494218676231705, 0.0584259610845028, 0.05112271594893995, 0.02190973540668855, 0.00730324513556285, 0.8794634995462384, 0.9152117347139809, 0.9206329204553451, 0.08754023188209879, 0.218850579705247, 0.6565517391157409, 0.25257100653897663, 0.6945702679821857, 0.14506106570825675, 0.7253053285412837, 0.04351505153283444, 0.6962408245253511, 0.06527257729925166, 0.04351505153283444, 0.13054515459850333, 0.02175752576641722, 0.06822792848430861, 0.8187351418117034, 0.1563216451202434, 0.7816082256012171, 0.22425945233460842, 0.373765753891014, 0.373765753891014, 0.8975432032366599, 0.04107486157998234, 0.8214972315996467, 0.08214972315996467, 0.08855644849691997, 0.8855644849691998, 0.9399514789222185, 0.8700486448147408, 0.08700486448147407, 0.06994577145044971, 0.13989154290089942, 0.6994577145044971, 0.9194416501933691, 0.13083686694056715, 0.31199560578135244, 0.3623174776815706, 0.06038624628026176, 0.010064374380043628, 0.1107081181804799, 0.010064374380043628, 0.8327845632530562, 0.07570768756845965, 0.037853843784229825, 0.9372113990602442, 0.05561146610855244, 0.8897834577368391, 0.648679720538666, 0.058970883685333264, 0.0884563255279999, 0.11794176737066653, 0.058970883685333264, 0.9025512729039019, 0.8004807437509156, 0.07503439325620954, 0.9004127190745145, 0.9602050988203433, 0.8377009280234748, 0.7933114141110547, 0.11333020201586495, 0.18016560662929074, 0.13275360488474053, 0.18016560662929074, 0.18964800697820078, 0.06637680244237026, 0.028447201046730115, 0.05689440209346023, 0.10430640383801042, 0.028447201046730115, 0.03792960139564015, 0.05680569241705522, 0.05680569241705522, 0.11361138483411044, 0.6816683090046627, 0.05680569241705522, 0.8882137352751371, 0.9322996600287736, 0.8290127731426591], \"Term\": [\"accur\", \"add\", \"add\", \"add\", \"add\", \"add\", \"add\", \"add\", \"add\", \"add\", \"addict\", \"addict\", \"addict\", \"addict\", \"addict\", \"addict\", \"adopt\", \"adopt\", \"almond\", \"almond\", \"almond\", \"almond\", \"almond\", \"almond\", \"amazon\", \"amazon\", \"amazon\", \"amazon\", \"amazon\", \"amazon\", \"amazon\", \"amazon\", \"amazon\", \"amazon\", \"antioxid\", \"appl\", \"appl\", \"appl\", \"appl\", \"appl\", \"apricot\", \"arriv\", \"arriv\", \"arriv\", \"arriv\", \"arriv\", \"arriv\", \"arriv\", \"arriv\", \"artifici\", \"artifici\", \"artifici\", \"asian\", \"asian\", \"asian\", \"aspartam\", \"assort\", \"assort\", \"attent\", \"attent\", \"away\", \"away\", \"away\", \"away\", \"away\", \"away\", \"away\", \"away\", \"awhil\", \"babi\", \"babi\", \"babi\", \"babi\", \"babi\", \"bake\", \"bake\", \"bake\", \"bake\", \"bake\", \"bake\", \"bake\", \"ball\", \"ball\", \"ball\", \"bar\", \"bar\", \"bar\", \"bar\", \"bar\", \"bean\", \"bean\", \"bean\", \"bean\", \"bean\", \"bear\", \"bear\", \"bear\", \"beef\", \"beef\", \"beef\", \"beef\", \"beef\", \"beef\", \"beer\", \"belli\", \"benefit\", \"benefit\", \"benefit\", \"bergamot\", \"berri\", \"berri\", \"berri\", \"best\", \"best\", \"best\", \"best\", \"best\", \"best\", \"best\", \"best\", \"best\", \"best\", \"better\", \"better\", \"better\", \"better\", \"better\", \"better\", \"better\", \"better\", \"better\", \"better\", \"beverag\", \"beverag\", \"bewar\", \"bewar\", \"bird\", \"birthday\", \"biscuit\", \"biscuit\", \"bitter\", \"bitter\", \"bitter\", \"bitter\", \"black\", \"black\", \"black\", \"black\", \"black\", \"black\", \"blend\", \"blend\", \"blend\", \"blend\", \"blend\", \"blender\", \"blueberri\", \"blueberri\", \"bold\", \"bone\", \"bone\", \"boost\", \"boost\", \"boxer\", \"bread\", \"bread\", \"bread\", \"break\", \"break\", \"break\", \"break\", \"break\", \"break\", \"break\", \"breath\", \"breath\", \"breath\", \"brew\", \"brew\", \"brewer\", \"bright\", \"british\", \"brush\", \"brush\", \"buffalo\", \"bull\", \"butter\", \"butter\", \"butter\", \"butter\", \"butter\", \"butter\", \"butter\", \"butteri\", \"buy\", \"buy\", \"buy\", \"buy\", \"buy\", \"buy\", \"buy\", \"buy\", \"buy\", \"buy\", \"buyer\", \"cafe\", \"cafe\", \"caffein\", \"caffein\", \"cake\", \"cake\", \"cake\", \"cake\", \"cake\", \"cake\", \"calori\", \"calori\", \"calori\", \"calori\", \"calori\", \"calori\", \"calori\", \"calori\", \"can\", \"can\", \"can\", \"can\", \"can\", \"can\", \"can\", \"can\", \"cancel\", \"candi\", \"candi\", \"candi\", \"candi\", \"candi\", \"candi\", \"candi\", \"cane\", \"cappuccino\", \"carbon\", \"cashew\", \"cashew\", \"cat\", \"cat\", \"cat\", \"cat\", \"catnip\", \"celesti\", \"cereal\", \"cereal\", \"cereal\", \"cereal\", \"cereal\", \"cereal\", \"cereal\", \"cereal\", \"chamomil\", \"chamomil\", \"cheapest\", \"cheer\", \"chees\", \"chees\", \"chees\", \"chees\", \"chees\", \"chees\", \"cheesi\", \"cherri\", \"cherri\", \"cherri\", \"cherri\", \"chew\", \"chew\", \"chew\", \"chew\", \"chew\", \"chew\", \"chicken\", \"chicken\", \"chicken\", \"chicken\", \"chicken\", \"chicken\", \"chicken\", \"chihuahua\", \"china\", \"china\", \"chines\", \"chines\", \"chines\", \"chip\", \"chip\", \"chip\", \"chip\", \"chip\", \"chip\", \"chip\", \"chocol\", \"chocol\", \"chocol\", \"chocol\", \"chocol\", \"chocol\", \"chocol\", \"chocol\", \"chocol\", \"cholesterol\", \"chop\", \"chop\", \"chop\", \"chow\", \"citi\", \"click\", \"clock\", \"coconut\", \"coconut\", \"coconut\", \"coconut\", \"coconut\", \"coconut\", \"coffe\", \"coffe\", \"coffe\", \"coffe\", \"coffe\", \"coffe\", \"coffe\", \"coffe\", \"coffeemak\", \"coke\", \"cola\", \"compost\", \"con\", \"condition\", \"constip\", \"contamin\", \"cook\", \"cook\", \"cook\", \"cook\", \"cook\", \"cook\", \"cook\", \"cook\", \"cooki\", \"cooki\", \"cooki\", \"cooki\", \"cooki\", \"cooki\", \"cooki\", \"cooki\", \"corner\", \"cracker\", \"cracker\", \"cracker\", \"cracker\", \"cracker\", \"cracker\", \"crash\", \"crash\", \"creamer\", \"creme\", \"crisp\", \"crisp\", \"crisp\", \"crumb\", \"crunchi\", \"crunchi\", \"crunchi\", \"crunchi\", \"crunchi\", \"crunchi\", \"crush\", \"crush\", \"crust\", \"cuisin\", \"cup\", \"cup\", \"cup\", \"cup\", \"cup\", \"cup\", \"cupcak\", \"curri\", \"curri\", \"dark\", \"dark\", \"dark\", \"dark\", \"darker\", \"daughter\", \"daughter\", \"daughter\", \"daughter\", \"decaf\", \"delici\", \"delici\", \"delici\", \"delici\", \"delici\", \"delici\", \"delici\", \"delici\", \"delici\", \"delici\", \"deliv\", \"deliv\", \"deliv\", \"deliv\", \"deliv\", \"deliv\", \"deliveri\", \"deliveri\", \"deliveri\", \"deliveri\", \"deliveri\", \"dent\", \"dent\", \"dental\", \"descript\", \"descript\", \"descript\", \"desert\", \"desert\", \"desk\", \"dessert\", \"dessert\", \"dessert\", \"dessert\", \"diagnos\", \"diaper\", \"differ\", \"differ\", \"differ\", \"differ\", \"differ\", \"differ\", \"differ\", \"differ\", \"differ\", \"disappear\", \"dish\", \"dish\", \"dish\", \"dish\", \"dish\", \"display\", \"dog\", \"dog\", \"dog\", \"dog\", \"dog\", \"dog\", \"doggi\", \"dollar\", \"dollar\", \"dollar\", \"donat\", \"donut\", \"dough\", \"dozen\", \"drawer\", \"dress\", \"dress\", \"dress\", \"drink\", \"drink\", \"drink\", \"drink\", \"drink\", \"drink\", \"drink\", \"drinker\", \"drizzl\", \"dunkin\", \"earl\", \"econom\", \"econom\", \"elimin\", \"email\", \"email\", \"emeril\", \"energi\", \"energi\", \"energi\", \"energi\", \"energi\", \"england\", \"english\", \"english\", \"english\", \"enjoy\", \"enjoy\", \"enjoy\", \"enjoy\", \"enjoy\", \"enjoy\", \"enjoy\", \"enjoy\", \"enjoy\", \"enjoy\", \"entertain\", \"espresso\", \"evid\", \"expir\", \"expir\", \"expir\", \"fake\", \"fake\", \"famous\", \"fan\", \"fan\", \"fanci\", \"fanci\", \"fashion\", \"fast\", \"fast\", \"fast\", \"fast\", \"fast\", \"fast\", \"fast\", \"favorit\", \"favorit\", \"favorit\", \"favorit\", \"favorit\", \"favorit\", \"favorit\", \"favorit\", \"favorit\", \"favorit\", \"feast\", \"feed\", \"feed\", \"feed\", \"feed\", \"feel\", \"feel\", \"feel\", \"feel\", \"feel\", \"feel\", \"feel\", \"feel\", \"feel\", \"filter\", \"filter\", \"filter\", \"flavor\", \"flavor\", \"flavor\", \"flavor\", \"flavor\", \"flavor\", \"flavor\", \"flavor\", \"flavor\", \"flavor\", \"flax\", \"float\", \"floor\", \"florida\", \"flour\", \"flour\", \"flour\", \"flower\", \"folger\", \"food\", \"food\", \"food\", \"food\", \"food\", \"food\", \"food\", \"food\", \"food\", \"formula\", \"formula\", \"fragranc\", \"fragrant\", \"fragrant\", \"francisco\", \"free\", \"free\", \"free\", \"free\", \"free\", \"free\", \"free\", \"free\", \"free\", \"freezer\", \"freezer\", \"french\", \"french\", \"french\", \"french\", \"fresh\", \"fresh\", \"fresh\", \"fresh\", \"fresh\", \"fresh\", \"fresh\", \"fresh\", \"fresh\", \"fresh\", \"fridg\", \"fridg\", \"fridg\", \"fructos\", \"fruit\", \"fruit\", \"fruit\", \"fruit\", \"fruit\", \"fruit\", \"fudg\", \"fuel\", \"garlic\", \"garlic\", \"garlic\", \"gentl\", \"gift\", \"gift\", \"gift\", \"gift\", \"gift\", \"gift\", \"gift\", \"ginger\", \"ginger\", \"ginger\", \"ginger\", \"give\", \"give\", \"give\", \"give\", \"give\", \"give\", \"give\", \"give\", \"glaze\", \"gloria\", \"glucosamin\", \"gluten\", \"gluten\", \"gluten\", \"gluten\", \"gluten\", \"gluten\", \"gluten\", \"go\", \"go\", \"go\", \"go\", \"go\", \"go\", \"go\", \"go\", \"go\", \"go\", \"gobbl\", \"good\", \"good\", \"good\", \"good\", \"good\", \"good\", \"good\", \"good\", \"good\", \"good\", \"goodi\", \"goodi\", \"gooey\", \"googl\", \"gotta\", \"grade\", \"grade\", \"grade\", \"gradual\", \"graham\", \"graham\", \"graham\", \"granola\", \"granola\", \"granola\", \"grate\", \"greasi\", \"greasi\", \"greasi\", \"great\", \"great\", \"great\", \"great\", \"great\", \"great\", \"great\", \"great\", \"great\", \"great\", \"green\", \"green\", \"green\", \"green\", \"green\", \"green\", \"greeni\", \"grey\", \"grill\", \"grill\", \"groceri\", \"groceri\", \"groceri\", \"groceri\", \"groceri\", \"groceri\", \"groceri\", \"groceri\", \"ground\", \"grove\", \"guilti\", \"gummi\", \"gummi\", \"guy\", \"guy\", \"guy\", \"habit\", \"hair\", \"hair\", \"hair\", \"hang\", \"hazelnut\", \"hazelnut\", \"hazelnut\", \"hazelnut\", \"health\", \"health\", \"health\", \"health\", \"health\", \"health\", \"health\", \"health\", \"health\", \"healthi\", \"healthi\", \"healthi\", \"healthi\", \"healthi\", \"healthi\", \"healthi\", \"healthi\", \"healthi\", \"high\", \"high\", \"high\", \"high\", \"high\", \"high\", \"high\", \"high\", \"high\", \"high\", \"hole\", \"holist\", \"honey\", \"honey\", \"honey\", \"honey\", \"honey\", \"honey\", \"honey\", \"honey\", \"hospit\", \"hour\", \"hour\", \"hour\", \"hour\", \"hour\", \"hunger\", \"ice\", \"ice\", \"ice\", \"ice\", \"indoor\", \"inexpens\", \"inexpens\", \"inexpens\", \"ingredi\", \"ingredi\", \"ingredi\", \"ingredi\", \"ingredi\", \"ingredi\", \"ingredi\", \"ingredi\", \"ingredi\", \"intact\", \"internet\", \"internet\", \"item\", \"item\", \"item\", \"item\", \"item\", \"item\", \"item\", \"item\", \"jalapeno\", \"japan\", \"japan\", \"jasmin\", \"jasmin\", \"jean\", \"jelli\", \"jerki\", \"jerki\", \"jitteri\", \"juic\", \"juic\", \"junk\", \"junk\", \"junki\", \"kashi\", \"kcup\", \"keep\", \"keep\", \"keep\", \"keep\", \"keep\", \"keep\", \"keep\", \"kernel\", \"kettl\", \"kettl\", \"kettl\", \"keurig\", \"kibbl\", \"kibbl\", \"kibbl\", \"kidney\", \"kitten\", \"knock\", \"knock\", \"kona\", \"kraft\", \"lamb\", \"larabar\", \"largest\", \"last\", \"last\", \"last\", \"last\", \"last\", \"latt\", \"latt\", \"lay\", \"lay\", \"length\", \"lick\", \"lick\", \"licoric\", \"licoric\", \"like\", \"like\", \"like\", \"like\", \"like\", \"like\", \"like\", \"like\", \"like\", \"like\", \"lipton\", \"listen\", \"litter\", \"littl\", \"littl\", \"littl\", \"littl\", \"littl\", \"littl\", \"littl\", \"littl\", \"littl\", \"littl\", \"loaf\", \"local\", \"local\", \"local\", \"local\", \"local\", \"local\", \"local\", \"local\", \"local\", \"long\", \"long\", \"long\", \"long\", \"long\", \"long\", \"long\", \"long\", \"love\", \"love\", \"love\", \"love\", \"love\", \"love\", \"love\", \"love\", \"love\", \"love\", \"lowest\", \"macadamia\", \"machin\", \"machin\", \"machin\", \"machin\", \"magic\", \"magic\", \"magnesium\", \"maker\", \"maker\", \"mango\", \"mango\", \"manufactur\", \"manufactur\", \"manufactur\", \"mapl\", \"mapl\", \"mark\", \"mark\", \"matcha\", \"mate\", \"meati\", \"mexican\", \"milder\", \"mile\", \"mint\", \"mint\", \"mint\", \"mint\", \"minut\", \"minut\", \"minut\", \"minut\", \"minut\", \"minut\", \"moistur\", \"moistur\", \"mold\", \"money\", \"money\", \"money\", \"money\", \"money\", \"money\", \"money\", \"money\", \"monster\", \"month\", \"month\", \"month\", \"month\", \"month\", \"month\", \"month\", \"month\", \"morn\", \"morn\", \"morn\", \"morn\", \"morn\", \"morn\", \"morn\", \"morn\", \"mountain\", \"mountain\", \"movi\", \"movi\", \"mushroom\", \"mustard\", \"mustard\", \"natur\", \"natur\", \"natur\", \"natur\", \"natur\", \"natur\", \"natur\", \"natur\", \"natur\", \"nestl\", \"newman\", \"newman\", \"newman\", \"noodl\", \"noodl\", \"noodl\", \"nut\", \"nut\", \"nut\", \"nut\", \"nut\", \"nutiva\", \"nutrit\", \"nutrit\", \"nutrit\", \"nutrit\", \"oat\", \"oat\", \"oat\", \"oat\", \"oatmeal\", \"oatmeal\", \"oatmeal\", \"oatmeal\", \"oliv\", \"oliv\", \"onion\", \"onion\", \"onion\", \"orang\", \"orang\", \"orang\", \"orang\", \"order\", \"order\", \"order\", \"order\", \"order\", \"order\", \"order\", \"order\", \"order\", \"order\", \"organ\", \"organ\", \"organ\", \"organ\", \"organ\", \"organ\", \"organ\", \"organ\", \"organ\", \"organ\", \"oven\", \"pack\", \"pack\", \"pack\", \"pack\", \"pack\", \"pack\", \"pack\", \"pack\", \"pack\", \"packag\", \"packag\", \"packag\", \"packag\", \"packag\", \"packag\", \"packag\", \"packag\", \"packag\", \"packag\", \"pamela\", \"pancak\", \"pancak\", \"pancak\", \"part\", \"parti\", \"parti\", \"pasta\", \"pasta\", \"paw\", \"peac\", \"peanut\", \"peanut\", \"peanut\", \"peanut\", \"peanut\", \"peanut\", \"pear\", \"pear\", \"pecan\", \"penni\", \"penni\", \"pepper\", \"pepper\", \"pepper\", \"pepper\", \"pepper\", \"pepper\", \"perfect\", \"perfect\", \"perfect\", \"perfect\", \"perfect\", \"perfect\", \"perfect\", \"perfect\", \"perfect\", \"perfect\", \"photo\", \"picki\", \"picki\", \"picki\", \"picki\", \"pickl\", \"pill\", \"plant\", \"plant\", \"play\", \"play\", \"play\", \"pocket\", \"pod\", \"pod\", \"pomegran\", \"pomegran\", \"poodl\", \"pop\", \"pop\", \"popchip\", \"popchip\", \"popcorn\", \"popcorn\", \"popcorn\", \"popcorn\", \"pork\", \"potato\", \"potato\", \"potato\", \"potato\", \"potato\", \"potato\", \"potent\", \"pouch\", \"pouch\", \"pouch\", \"pouch\", \"powder\", \"powder\", \"powder\", \"powder\", \"powder\", \"powder\", \"powder\", \"prep\", \"present\", \"present\", \"present\", \"pretzel\", \"pretzel\", \"price\", \"price\", \"price\", \"price\", \"price\", \"price\", \"price\", \"price\", \"price\", \"price\", \"print\", \"product\", \"product\", \"product\", \"product\", \"product\", \"product\", \"product\", \"product\", \"product\", \"product\", \"promot\", \"prompt\", \"prompt\", \"protein\", \"protein\", \"protein\", \"protein\", \"protein\", \"protein\", \"puck\", \"pump\", \"pumpkin\", \"pumpkin\", \"puppi\", \"puppi\", \"puppi\", \"puppi\", \"purchas\", \"purchas\", \"purchas\", \"purchas\", \"purchas\", \"purchas\", \"purchas\", \"purchas\", \"purchas\", \"purchas\", \"quaker\", \"qualiti\", \"qualiti\", \"qualiti\", \"qualiti\", \"qualiti\", \"qualiti\", \"qualiti\", \"qualiti\", \"qualiti\", \"qualiti\", \"quarter\", \"quick\", \"quick\", \"quick\", \"quick\", \"quick\", \"quick\", \"quick\", \"quick\", \"quick\", \"quicker\", \"quinoa\", \"raisin\", \"raisin\", \"raisin\", \"raisin\", \"rancid\", \"rancid\", \"rawhid\", \"rawhid\", \"readili\", \"receiv\", \"receiv\", \"receiv\", \"receiv\", \"receiv\", \"receiv\", \"receiv\", \"receiv\", \"receiv\", \"recomend\", \"regret\", \"regret\", \"regret\", \"relax\", \"remark\", \"reorder\", \"reorder\", \"repli\", \"resembl\", \"reserv\", \"resist\", \"restaur\", \"restaur\", \"restaur\", \"restaur\", \"restaur\", \"restrict\", \"restrict\", \"review\", \"review\", \"review\", \"review\", \"review\", \"review\", \"review\", \"review\", \"review\", \"reward\", \"rice\", \"rice\", \"rice\", \"rice\", \"rice\", \"rice\", \"rice\", \"rich\", \"rich\", \"rich\", \"rich\", \"rich\", \"rich\", \"ride\", \"rip\", \"rise\", \"roast\", \"roast\", \"roast\", \"roast\", \"roast\", \"roast\", \"robust\", \"ruin\", \"run\", \"run\", \"run\", \"salad\", \"salad\", \"salad\", \"salt\", \"salt\", \"salt\", \"salt\", \"salt\", \"salt\", \"salt\", \"salti\", \"salti\", \"salti\", \"salti\", \"salti\", \"salti\", \"sampler\", \"sardin\", \"sauc\", \"sauc\", \"sauc\", \"sauc\", \"sauc\", \"sausag\", \"sausag\", \"saut\", \"savor\", \"scalp\", \"scienc\", \"season\", \"season\", \"season\", \"season\", \"season\", \"season\", \"season\", \"secret\", \"seed\", \"seed\", \"seed\", \"seed\", \"senior\", \"sensat\", \"senseo\", \"servic\", \"servic\", \"servic\", \"servic\", \"sesam\", \"sesam\", \"shake\", \"shake\", \"shake\", \"shampoo\", \"share\", \"share\", \"share\", \"share\", \"shell\", \"shell\", \"shelter\", \"shepherd\", \"ship\", \"ship\", \"ship\", \"ship\", \"ship\", \"ship\", \"ship\", \"ship\", \"ship\", \"shipment\", \"shipment\", \"shipment\", \"shipment\", \"shortbread\", \"shortbread\", \"shrimp\", \"shrimp\", \"shrimp\", \"size\", \"size\", \"size\", \"size\", \"size\", \"size\", \"size\", \"size\", \"size\", \"size\", \"skin\", \"skin\", \"skin\", \"skin\", \"sleep\", \"sleep\", \"sleep\", \"sleep\", \"slim\", \"small\", \"small\", \"small\", \"small\", \"small\", \"small\", \"small\", \"small\", \"smallest\", \"smart\", \"smell\", \"smell\", \"smell\", \"smell\", \"smell\", \"smell\", \"smell\", \"smell\", \"smell\", \"smooth\", \"smooth\", \"smooth\", \"smooth\", \"smooth\", \"smoothi\", \"smoothi\", \"smoothi\", \"snack\", \"snack\", \"snack\", \"snack\", \"snack\", \"snack\", \"snack\", \"snack\", \"snack\", \"soap\", \"soda\", \"soda\", \"softer\", \"soup\", \"soup\", \"soup\", \"soup\", \"soup\", \"spaghetti\", \"sparkl\", \"spice\", \"spice\", \"spice\", \"spice\", \"spice\", \"spice\", \"spice\", \"spici\", \"spici\", \"spici\", \"spici\", \"spici\", \"spici\", \"spinach\", \"split\", \"sprinkl\", \"sprinkl\", \"sprinkl\", \"sprout\", \"sprout\", \"squar\", \"squar\", \"squar\", \"stale\", \"stale\", \"stale\", \"stale\", \"starbuck\", \"starbuck\", \"start\", \"start\", \"start\", \"start\", \"start\", \"start\", \"start\", \"start\", \"stash\", \"stash\", \"stash\", \"stash\", \"steak\", \"steak\", \"steak\", \"steel\", \"steel\", \"stink\", \"store\", \"store\", \"store\", \"store\", \"store\", \"store\", \"store\", \"store\", \"store\", \"strength\", \"strike\", \"strip\", \"strong\", \"strong\", \"strong\", \"strong\", \"strong\", \"strong\", \"strong\", \"student\", \"stuff\", \"stuff\", \"stuff\", \"stuff\", \"stuff\", \"stuff\", \"stuff\", \"stuff\", \"sucker\", \"sugar\", \"sugar\", \"sugar\", \"sugar\", \"sugar\", \"sugar\", \"sugar\", \"sugar\", \"sugar\", \"sugar\", \"sugari\", \"superb\", \"sustain\", \"swallow\", \"swallow\", \"sweet\", \"sweet\", \"sweet\", \"sweet\", \"sweet\", \"sweet\", \"sweet\", \"sweet\", \"sweet\", \"sweet\", \"syrup\", \"syrup\", \"syrup\", \"syrup\", \"syrup\", \"tabasco\", \"taco\", \"take\", \"take\", \"take\", \"take\", \"take\", \"take\", \"take\", \"take\", \"tast\", \"tast\", \"tast\", \"tast\", \"tast\", \"tast\", \"tast\", \"tast\", \"tast\", \"tast\", \"tasti\", \"tasti\", \"tasti\", \"tasti\", \"tasti\", \"tasti\", \"tasti\", \"tasti\", \"tastier\", \"tbsp\", \"tea\", \"tea\", \"tea\", \"tea\", \"teeth\", \"teeth\", \"teeth\", \"teeth\", \"tender\", \"tender\", \"tender\", \"teriyaki\", \"thank\", \"thank\", \"thank\", \"thank\", \"thank\", \"thank\", \"thank\", \"thank\", \"thank\", \"thank\", \"theater\", \"time\", \"time\", \"time\", \"time\", \"time\", \"time\", \"time\", \"time\", \"time\", \"timothi\", \"tip\", \"tip\", \"tooth\", \"tooth\", \"tortilla\", \"tortilla\", \"toy\", \"track\", \"train\", \"transit\", \"trap\", \"treat\", \"treat\", \"treat\", \"treat\", \"treat\", \"treat\", \"treat\", \"treat\", \"tree\", \"tri\", \"tri\", \"tri\", \"tri\", \"tri\", \"tri\", \"tri\", \"tri\", \"tri\", \"tri\", \"tropic\", \"truffl\", \"tulli\", \"tuna\", \"tuna\", \"tuna\", \"turkey\", \"turkey\", \"unabl\", \"unabl\", \"vanilla\", \"vanilla\", \"vanilla\", \"vanilla\", \"vanilla\", \"vanilla\", \"vendor\", \"vendor\", \"versatil\", \"versatil\", \"vinegar\", \"vinegar\", \"vinegar\", \"virgin\", \"vitamin\", \"vitamin\", \"vitamin\", \"wafer\", \"wafer\", \"waffl\", \"wake\", \"wake\", \"walk\", \"walk\", \"walk\", \"wasabi\", \"water\", \"water\", \"water\", \"water\", \"water\", \"water\", \"water\", \"weak\", \"weak\", \"weak\", \"wear\", \"well\", \"well\", \"wheat\", \"wheat\", \"wheat\", \"wheat\", \"wheat\", \"whey\", \"whim\", \"wild\", \"wild\", \"wolfgang\", \"workout\", \"wrapper\", \"wrapper\", \"year\", \"year\", \"year\", \"year\", \"year\", \"year\", \"year\", \"year\", \"year\", \"year\", \"yogurt\", \"yogurt\", \"yogurt\", \"yogurt\", \"yogurt\", \"yuck\", \"zico\", \"zuke\"]}, \"R\": 30, \"lambda.step\": 0.01, \"plot.opts\": {\"xlab\": \"PC1\", \"ylab\": \"PC2\"}, \"topic.order\": [1, 4, 10, 3, 2, 5, 9, 6, 8, 7]};\n",
              "\n",
              "function LDAvis_load_lib(url, callback){\n",
              "  var s = document.createElement('script');\n",
              "  s.src = url;\n",
              "  s.async = true;\n",
              "  s.onreadystatechange = s.onload = callback;\n",
              "  s.onerror = function(){console.warn(\"failed to load library \" + url);};\n",
              "  document.getElementsByTagName(\"head\")[0].appendChild(s);\n",
              "}\n",
              "\n",
              "if(typeof(LDAvis) !== \"undefined\"){\n",
              "   // already loaded: just create the visualization\n",
              "   !function(LDAvis){\n",
              "       new LDAvis(\"#\" + \"ldavis_el15711405505867613923952469259\", ldavis_el15711405505867613923952469259_data);\n",
              "   }(LDAvis);\n",
              "}else if(typeof define === \"function\" && define.amd){\n",
              "   // require.js is available: use it to load d3/LDAvis\n",
              "   require.config({paths: {d3: \"https://d3js.org/d3.v5\"}});\n",
              "   require([\"d3\"], function(d3){\n",
              "      window.d3 = d3;\n",
              "      LDAvis_load_lib(\"https://cdn.jsdelivr.net/gh/bmabey/pyLDAvis@3.4.0/pyLDAvis/js/ldavis.v3.0.0.js\", function(){\n",
              "        new LDAvis(\"#\" + \"ldavis_el15711405505867613923952469259\", ldavis_el15711405505867613923952469259_data);\n",
              "      });\n",
              "    });\n",
              "}else{\n",
              "    // require.js not available: dynamically load d3 & LDAvis\n",
              "    LDAvis_load_lib(\"https://d3js.org/d3.v5.js\", function(){\n",
              "         LDAvis_load_lib(\"https://cdn.jsdelivr.net/gh/bmabey/pyLDAvis@3.4.0/pyLDAvis/js/ldavis.v3.0.0.js\", function(){\n",
              "                 new LDAvis(\"#\" + \"ldavis_el15711405505867613923952469259\", ldavis_el15711405505867613923952469259_data);\n",
              "            })\n",
              "         });\n",
              "}\n",
              "</script>"
            ]
          },
          "metadata": {},
          "execution_count": 38
        }
      ]
    },
    {
      "cell_type": "markdown",
      "source": [
        "### Testing model on unseen document"
      ],
      "metadata": {
        "id": "mooAuD7FGo9M"
      }
    },
    {
      "cell_type": "code",
      "source": [
        "unseen_document = test['Text'][0]\n",
        "bow_vector = dictionary.doc2bow(preprocess(unseen_document))\n",
        "\n",
        "for index, score in sorted(lda_model_bow[bow_vector], key=lambda tup: -1*tup[1]):\n",
        "    print(\"Score: {}\\t Topic: {}\".format(score, lda_model_bow.print_topic(index, 5)))"
      ],
      "metadata": {
        "execution": {
          "iopub.status.busy": "2022-10-08T09:56:51.811778Z",
          "iopub.execute_input": "2022-10-08T09:56:51.812367Z",
          "iopub.status.idle": "2022-10-08T09:56:51.821883Z",
          "shell.execute_reply.started": "2022-10-08T09:56:51.812306Z",
          "shell.execute_reply": "2022-10-08T09:56:51.820531Z"
        },
        "trusted": true,
        "colab": {
          "base_uri": "https://localhost:8080/"
        },
        "id": "ZerdqzDTC7GK",
        "outputId": "dee1db4a-d73d-4754-dd44-942cb598c6d3"
      },
      "execution_count": 39,
      "outputs": [
        {
          "output_type": "stream",
          "name": "stdout",
          "text": [
            "Score: 0.4686657786369324\t Topic: 0.052*\"great\" + 0.041*\"love\" + 0.019*\"flavor\" + 0.018*\"tast\" + 0.017*\"good\"\n",
            "Score: 0.28577226400375366\t Topic: 0.062*\"food\" + 0.021*\"ingredi\" + 0.014*\"natur\" + 0.012*\"product\" + 0.011*\"organ\"\n",
            "Score: 0.21055391430854797\t Topic: 0.035*\"like\" + 0.028*\"cooki\" + 0.027*\"tast\" + 0.022*\"good\" + 0.018*\"snack\"\n"
          ]
        }
      ]
    },
    {
      "cell_type": "code",
      "source": [],
      "metadata": {
        "id": "sXhduLXLC7GL"
      },
      "execution_count": 39,
      "outputs": []
    }
  ]
}